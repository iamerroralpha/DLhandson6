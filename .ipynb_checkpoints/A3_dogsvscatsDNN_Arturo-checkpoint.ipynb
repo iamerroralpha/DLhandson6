{
 "cells": [
  {
   "cell_type": "markdown",
   "metadata": {},
   "source": [
    "<font size=\"6\"><center><b>TECNOLÓGICO DE MONTERREY</b></center></font>\n",
    "\n",
    "<br>\n",
    "\n",
    "<font size=\"5\"><center><b>Sistemas neuronales</b></center></font>\n",
    "\n",
    "<font size=\"5\"><center><b>(Deep Learning)</b></center></font>\n",
    "\n",
    "<br>\n",
    "\n",
    "<font size=\"5\"><center><em> Profr. Dr. Leonardo Chang</em></center></font>\n",
    "\n",
    "<br>\n",
    "\n",
    "<font size=\"5\"><center><b>Hands on activity</b></center></font>\n",
    "\n",
    "<br>\n",
    "\n",
    "<font size=\"4\"><center><em>Authors:</em></center></font>\n",
    "\n",
    "<br>\n",
    "\n",
    "\n",
    "<font size=\"5\"><center><em> Jesús Leopoldo Llano García (A01748867)</em></center></font>\n",
    "\n",
    "<font size=\"5\"><center><em> Ariel Arturo Gamboa Vázquez  (A01749802)</em></center></font>\n",
    "\n",
    "<br>\n",
    "\n",
    "<font size=\"4\"><center> March 5, 2020</center></font>"
   ]
  },
  {
   "cell_type": "markdown",
   "metadata": {},
   "source": [
    "# Assignment 3\n",
    "\n",
    "__Instructions:__\n",
    "- You will use this Keras program to perform binary classification experiments on the Dogs and Cats dataset.\n",
    "- You can download the original dataset from www.kaggle.com/c/dogs-vs-cats/data (you’ll need to create a Kaggle account if you don’t already have one—don’t worry, the process is painless).\n",
    "- Adjust the following hyperparameters:\n",
    "    - Number of hidden layers\n",
    "    - Number of hidden units\n",
    "    - Learning rate\n",
    "    - Mini-batch size\n",
    "- Use two or more regularization methods.\n",
    "- Discuss the effect of these hyperparameters and regularization in the performance of classification and in the model overfitting.\n",
    "\n",
    "__Evaluation ponderation:__\n",
    "- Hyperparameters tuning and corresponding discussion ---- 50%\n",
    "- Regularization and corresponding discussion ------------ 50%\n",
    "- Total ---------------------------------------------------100%\n",
    "\n",
    "Code reference: https://github.com/fchollet\n",
    "\n"
   ]
  },
  {
   "cell_type": "code",
   "execution_count": 2,
   "metadata": {
    "colab": {
     "base_uri": "https://localhost:8080/",
     "height": 97
    },
    "colab_type": "code",
    "executionInfo": {
     "elapsed": 2151,
     "status": "ok",
     "timestamp": 1583204365699,
     "user": {
      "displayName": "Jesús Leopoldo Llano García",
      "photoUrl": "https://lh3.googleusercontent.com/a-/AOh14Ggh50_e9Hk0sAIwY10hcKorQi0ew_DDbDNtDplE=s64",
      "userId": "11166401614180834702"
     },
     "user_tz": 360
    },
    "id": "mJtLJoRWfawO",
    "outputId": "c82f23ce-af08-47e3-886f-5464d6f67fa2"
   },
   "outputs": [
    {
     "name": "stderr",
     "output_type": "stream",
     "text": [
      "Using TensorFlow backend.\n",
      "/home/guby/.local/lib/python3.6/site-packages/tensorflow/python/framework/dtypes.py:516: FutureWarning: Passing (type, 1) or '1type' as a synonym of type is deprecated; in a future version of numpy, it will be understood as (type, (1,)) / '(1,)type'.\n",
      "  _np_qint8 = np.dtype([(\"qint8\", np.int8, 1)])\n",
      "/home/guby/.local/lib/python3.6/site-packages/tensorflow/python/framework/dtypes.py:517: FutureWarning: Passing (type, 1) or '1type' as a synonym of type is deprecated; in a future version of numpy, it will be understood as (type, (1,)) / '(1,)type'.\n",
      "  _np_quint8 = np.dtype([(\"quint8\", np.uint8, 1)])\n",
      "/home/guby/.local/lib/python3.6/site-packages/tensorflow/python/framework/dtypes.py:518: FutureWarning: Passing (type, 1) or '1type' as a synonym of type is deprecated; in a future version of numpy, it will be understood as (type, (1,)) / '(1,)type'.\n",
      "  _np_qint16 = np.dtype([(\"qint16\", np.int16, 1)])\n",
      "/home/guby/.local/lib/python3.6/site-packages/tensorflow/python/framework/dtypes.py:519: FutureWarning: Passing (type, 1) or '1type' as a synonym of type is deprecated; in a future version of numpy, it will be understood as (type, (1,)) / '(1,)type'.\n",
      "  _np_quint16 = np.dtype([(\"quint16\", np.uint16, 1)])\n",
      "/home/guby/.local/lib/python3.6/site-packages/tensorflow/python/framework/dtypes.py:520: FutureWarning: Passing (type, 1) or '1type' as a synonym of type is deprecated; in a future version of numpy, it will be understood as (type, (1,)) / '(1,)type'.\n",
      "  _np_qint32 = np.dtype([(\"qint32\", np.int32, 1)])\n",
      "/home/guby/.local/lib/python3.6/site-packages/tensorflow/python/framework/dtypes.py:525: FutureWarning: Passing (type, 1) or '1type' as a synonym of type is deprecated; in a future version of numpy, it will be understood as (type, (1,)) / '(1,)type'.\n",
      "  np_resource = np.dtype([(\"resource\", np.ubyte, 1)])\n",
      "/home/guby/.local/lib/python3.6/site-packages/tensorboard/compat/tensorflow_stub/dtypes.py:541: FutureWarning: Passing (type, 1) or '1type' as a synonym of type is deprecated; in a future version of numpy, it will be understood as (type, (1,)) / '(1,)type'.\n",
      "  _np_qint8 = np.dtype([(\"qint8\", np.int8, 1)])\n",
      "/home/guby/.local/lib/python3.6/site-packages/tensorboard/compat/tensorflow_stub/dtypes.py:542: FutureWarning: Passing (type, 1) or '1type' as a synonym of type is deprecated; in a future version of numpy, it will be understood as (type, (1,)) / '(1,)type'.\n",
      "  _np_quint8 = np.dtype([(\"quint8\", np.uint8, 1)])\n",
      "/home/guby/.local/lib/python3.6/site-packages/tensorboard/compat/tensorflow_stub/dtypes.py:543: FutureWarning: Passing (type, 1) or '1type' as a synonym of type is deprecated; in a future version of numpy, it will be understood as (type, (1,)) / '(1,)type'.\n",
      "  _np_qint16 = np.dtype([(\"qint16\", np.int16, 1)])\n",
      "/home/guby/.local/lib/python3.6/site-packages/tensorboard/compat/tensorflow_stub/dtypes.py:544: FutureWarning: Passing (type, 1) or '1type' as a synonym of type is deprecated; in a future version of numpy, it will be understood as (type, (1,)) / '(1,)type'.\n",
      "  _np_quint16 = np.dtype([(\"quint16\", np.uint16, 1)])\n",
      "/home/guby/.local/lib/python3.6/site-packages/tensorboard/compat/tensorflow_stub/dtypes.py:545: FutureWarning: Passing (type, 1) or '1type' as a synonym of type is deprecated; in a future version of numpy, it will be understood as (type, (1,)) / '(1,)type'.\n",
      "  _np_qint32 = np.dtype([(\"qint32\", np.int32, 1)])\n",
      "/home/guby/.local/lib/python3.6/site-packages/tensorboard/compat/tensorflow_stub/dtypes.py:550: FutureWarning: Passing (type, 1) or '1type' as a synonym of type is deprecated; in a future version of numpy, it will be understood as (type, (1,)) / '(1,)type'.\n",
      "  np_resource = np.dtype([(\"resource\", np.ubyte, 1)])\n"
     ]
    },
    {
     "data": {
      "text/plain": [
       "'2.3.1'"
      ]
     },
     "execution_count": 2,
     "metadata": {},
     "output_type": "execute_result"
    }
   ],
   "source": [
    "import keras\n",
    "keras.__version__"
   ]
  },
  {
   "cell_type": "code",
   "execution_count": 13,
   "metadata": {
    "colab": {},
    "colab_type": "code",
    "id": "2xiM2S1mfawT"
   },
   "outputs": [],
   "source": [
    "import os, shutil\n",
    "import matplotlib.pyplot as plt"
   ]
  },
  {
   "cell_type": "code",
   "execution_count": 5,
   "metadata": {
    "colab": {
     "base_uri": "https://localhost:8080/",
     "height": 105
    },
    "colab_type": "code",
    "id": "oQf4s-d1Vr7w",
    "outputId": "36ce1bc9-0f7a-41a1-fd1b-167a5c684b3d"
   },
   "outputs": [
    {
     "ename": "ModuleNotFoundError",
     "evalue": "No module named 'google.colab'",
     "output_type": "error",
     "traceback": [
      "\u001b[0;31m---------------------------------------------------------------------------\u001b[0m",
      "\u001b[0;31mModuleNotFoundError\u001b[0m                       Traceback (most recent call last)",
      "\u001b[0;32m<ipython-input-5-636f7e70c0f3>\u001b[0m in \u001b[0;36m<module>\u001b[0;34m\u001b[0m\n\u001b[0;32m----> 1\u001b[0;31m \u001b[0;32mfrom\u001b[0m \u001b[0mgoogle\u001b[0m\u001b[0;34m.\u001b[0m\u001b[0mcolab\u001b[0m \u001b[0;32mimport\u001b[0m \u001b[0mdrive\u001b[0m\u001b[0;34m\u001b[0m\u001b[0;34m\u001b[0m\u001b[0m\n\u001b[0m\u001b[1;32m      2\u001b[0m \u001b[0mdrive\u001b[0m\u001b[0;34m.\u001b[0m\u001b[0mmount\u001b[0m\u001b[0;34m(\u001b[0m\u001b[0;34m'/content/drive'\u001b[0m\u001b[0;34m,\u001b[0m\u001b[0mforce_remount\u001b[0m\u001b[0;34m=\u001b[0m\u001b[0;32mTrue\u001b[0m\u001b[0;34m)\u001b[0m\u001b[0;34m\u001b[0m\u001b[0;34m\u001b[0m\u001b[0m\n",
      "\u001b[0;31mModuleNotFoundError\u001b[0m: No module named 'google.colab'"
     ]
    }
   ],
   "source": [
    "from google.colab import drive\n",
    "drive.mount('/content/drive',force_remount=True)"
   ]
  },
  {
   "cell_type": "code",
   "execution_count": 4,
   "metadata": {},
   "outputs": [],
   "source": [
    "#runthis if you already have run the whole thing and you dont wanna f it up\n",
    "\n",
    "original_dataset_dir = '/home/guby/Documents/Playground/A3-20200303T030127Z-001/A3/Data/train'\n",
    "\n",
    "base_dir = 'CatsNDogs'\n",
    "\n",
    "train_dir = os.path.join(base_dir, 'train')\n",
    "validation_dir = os.path.join(base_dir, 'validation')\n",
    "test_dir = os.path.join(base_dir, 'test')\n",
    "\n",
    "train_cats_dir = os.path.join(train_dir, 'cats')\n",
    "\n",
    "# Directory with our training dog pictures\n",
    "train_dogs_dir = os.path.join(train_dir, 'dogs')\n",
    "\n",
    "# Directory with our validation cat pictures\n",
    "validation_cats_dir = os.path.join(validation_dir, 'cats')\n",
    "\n",
    "# Directory with our validation dog pictures\n",
    "validation_dogs_dir = os.path.join(validation_dir, 'dogs')\n",
    "\n",
    "# Directory with our validation cat pictures\n",
    "test_cats_dir = os.path.join(test_dir, 'cats')\n",
    "\n",
    "# Directory with our validation dog pictures\n",
    "test_dogs_dir = os.path.join(test_dir, 'dogs')"
   ]
  },
  {
   "cell_type": "code",
   "execution_count": 5,
   "metadata": {
    "colab": {
     "base_uri": "https://localhost:8080/",
     "height": 232
    },
    "colab_type": "code",
    "executionInfo": {
     "elapsed": 4551,
     "status": "error",
     "timestamp": 1583115068171,
     "user": {
      "displayName": "Jesús Leopoldo Llano García",
      "photoUrl": "https://lh3.googleusercontent.com/a-/AOh14Ggh50_e9Hk0sAIwY10hcKorQi0ew_DDbDNtDplE=s64",
      "userId": "11166401614180834702"
     },
     "user_tz": 360
    },
    "id": "x4fCLOpZfawX",
    "outputId": "3dd39763-1290-42a7-fa05-ea50f3936631"
   },
   "outputs": [
    {
     "ename": "FileExistsError",
     "evalue": "[Errno 17] File exists: 'CatsNDogs'",
     "output_type": "error",
     "traceback": [
      "\u001b[0;31m---------------------------------------------------------------------------\u001b[0m",
      "\u001b[0;31mFileExistsError\u001b[0m                           Traceback (most recent call last)",
      "\u001b[0;32m<ipython-input-5-de1f3a6e4fe7>\u001b[0m in \u001b[0;36m<module>\u001b[0;34m\u001b[0m\n\u001b[1;32m      8\u001b[0m \u001b[0;31m# store our smaller dataset\u001b[0m\u001b[0;34m\u001b[0m\u001b[0;34m\u001b[0m\u001b[0;34m\u001b[0m\u001b[0m\n\u001b[1;32m      9\u001b[0m \u001b[0mbase_dir\u001b[0m \u001b[0;34m=\u001b[0m \u001b[0;34m'CatsNDogs'\u001b[0m\u001b[0;34m\u001b[0m\u001b[0;34m\u001b[0m\u001b[0m\n\u001b[0;32m---> 10\u001b[0;31m \u001b[0mos\u001b[0m\u001b[0;34m.\u001b[0m\u001b[0mmkdir\u001b[0m\u001b[0;34m(\u001b[0m\u001b[0mbase_dir\u001b[0m\u001b[0;34m)\u001b[0m\u001b[0;34m\u001b[0m\u001b[0;34m\u001b[0m\u001b[0m\n\u001b[0m\u001b[1;32m     11\u001b[0m \u001b[0;34m\u001b[0m\u001b[0m\n\u001b[1;32m     12\u001b[0m \u001b[0;31m# Directories for our training,\u001b[0m\u001b[0;34m\u001b[0m\u001b[0;34m\u001b[0m\u001b[0;34m\u001b[0m\u001b[0m\n",
      "\u001b[0;31mFileExistsError\u001b[0m: [Errno 17] File exists: 'CatsNDogs'"
     ]
    }
   ],
   "source": [
    "# Please correct the urls accordingly\n",
    "\n",
    "# The path to the directory where the original\n",
    "# dataset was uncompressed\n",
    "original_dataset_dir = '/home/guby/Documents/Playground/A3-20200303T030127Z-001/A3/Data/train'\n",
    "\n",
    "# The directory where we will\n",
    "# store our smaller dataset\n",
    "base_dir = 'CatsNDogs'\n",
    "os.mkdir(base_dir)\n",
    "\n",
    "# Directories for our training,\n",
    "# validation and test splits\n",
    "train_dir = os.path.join(base_dir, 'train')\n",
    "os.mkdir(train_dir)\n",
    "validation_dir = os.path.join(base_dir, 'validation')\n",
    "os.mkdir(validation_dir)\n",
    "test_dir = os.path.join(base_dir, 'test')\n",
    "os.mkdir(test_dir)\n",
    "\n",
    "# Directory with our training cat pictures\n",
    "train_cats_dir = os.path.join(train_dir, 'cats')\n",
    "os.mkdir(train_cats_dir)\n",
    "\n",
    "# Directory with our training dog pictures\n",
    "train_dogs_dir = os.path.join(train_dir, 'dogs')\n",
    "os.mkdir(train_dogs_dir)\n",
    "\n",
    "# Directory with our validation cat pictures\n",
    "validation_cats_dir = os.path.join(validation_dir, 'cats')\n",
    "os.mkdir(validation_cats_dir)\n",
    "\n",
    "# Directory with our validation dog pictures\n",
    "validation_dogs_dir = os.path.join(validation_dir, 'dogs')\n",
    "os.mkdir(validation_dogs_dir)\n",
    "\n",
    "# Directory with our validation cat pictures\n",
    "test_cats_dir = os.path.join(test_dir, 'cats')\n",
    "os.mkdir(test_cats_dir)\n",
    "\n",
    "# Directory with our validation dog pictures\n",
    "test_dogs_dir = os.path.join(test_dir, 'dogs')\n",
    "os.mkdir(test_dogs_dir)\n",
    "\n",
    "# Copy first 1000 cat images to train_cats_dir\n",
    "fnames = ['cat.{}.jpg'.format(i) for i in range(1000)]\n",
    "for fname in fnames:\n",
    "    src = os.path.join(original_dataset_dir, fname)\n",
    "    dst = os.path.join(train_cats_dir, fname)\n",
    "    shutil.copyfile(src, dst)\n",
    "\n",
    "# Copy next 500 cat images to validation_cats_dir\n",
    "fnames = ['cat.{}.jpg'.format(i) for i in range(1000, 1500)]\n",
    "for fname in fnames:\n",
    "    src = os.path.join(original_dataset_dir, fname)\n",
    "    dst = os.path.join(validation_cats_dir, fname)\n",
    "    shutil.copyfile(src, dst)\n",
    "    \n",
    "# Copy next 500 cat images to test_cats_dir\n",
    "fnames = ['cat.{}.jpg'.format(i) for i in range(1500, 2000)]\n",
    "for fname in fnames:\n",
    "    src = os.path.join(original_dataset_dir, fname)\n",
    "    dst = os.path.join(test_cats_dir, fname)\n",
    "    shutil.copyfile(src, dst)\n",
    "    \n",
    "# Copy first 1000 dog images to train_dogs_dir\n",
    "fnames = ['dog.{}.jpg'.format(i) for i in range(1000)]\n",
    "for fname in fnames:\n",
    "    src = os.path.join(original_dataset_dir, fname)\n",
    "    dst = os.path.join(train_dogs_dir, fname)\n",
    "    shutil.copyfile(src, dst)\n",
    "    \n",
    "# Copy next 500 dog images to validation_dogs_dir\n",
    "fnames = ['dog.{}.jpg'.format(i) for i in range(1000, 1500)]\n",
    "for fname in fnames:\n",
    "    src = os.path.join(original_dataset_dir, fname)\n",
    "    dst = os.path.join(validation_dogs_dir, fname)\n",
    "    shutil.copyfile(src, dst)\n",
    "    \n",
    "# Copy next 500 dog images to test_dogs_dir\n",
    "fnames = ['dog.{}.jpg'.format(i) for i in range(1500, 2000)]\n",
    "for fname in fnames:\n",
    "    src = os.path.join(original_dataset_dir, fname)\n",
    "    dst = os.path.join(test_dogs_dir, fname)\n",
    "    shutil.copyfile(src, dst)"
   ]
  },
  {
   "cell_type": "code",
   "execution_count": 6,
   "metadata": {
    "colab": {},
    "colab_type": "code",
    "id": "qo4w82X8fawc"
   },
   "outputs": [
    {
     "name": "stdout",
     "output_type": "stream",
     "text": [
      "total training cat images: 1000\n",
      "total training dog images: 1000\n",
      "total validation cat images: 500\n",
      "total validation dog images: 500\n",
      "total test cat images: 500\n",
      "total test dog images: 500\n"
     ]
    }
   ],
   "source": [
    "print('total training cat images:', len(os.listdir(train_cats_dir)))\n",
    "print('total training dog images:', len(os.listdir(train_dogs_dir)))\n",
    "print('total validation cat images:', len(os.listdir(validation_cats_dir)))\n",
    "print('total validation dog images:', len(os.listdir(validation_dogs_dir)))\n",
    "print('total test cat images:', len(os.listdir(test_cats_dir)))\n",
    "print('total test dog images:', len(os.listdir(test_dogs_dir)))"
   ]
  },
  {
   "cell_type": "code",
   "execution_count": 7,
   "metadata": {
    "colab": {},
    "colab_type": "code",
    "id": "8AovMTp6fawf"
   },
   "outputs": [],
   "source": [
    "from keras import layers\n",
    "from keras import models\n",
    "from keras import optimizers\n",
    "import matplotlib.pyplot as plt\n",
    "model = models.Sequential()\n",
    "model.add(layers.Flatten(input_shape=(150, 150, 3)))\n",
    "model.add(layers.Dense(512, activation='relu'))\n",
    "model.add(layers.Dense(512, activation='relu'))\n",
    "model.add(layers.Dense(512, activation='relu'))\n",
    "model.add(layers.Dense(1, activation='sigmoid'))"
   ]
  },
  {
   "cell_type": "code",
   "execution_count": 10,
   "metadata": {
    "colab": {},
    "colab_type": "code",
    "id": "FObu2eXefawi"
   },
   "outputs": [
    {
     "name": "stdout",
     "output_type": "stream",
     "text": [
      "Model: \"sequential_1\"\n",
      "_________________________________________________________________\n",
      "Layer (type)                 Output Shape              Param #   \n",
      "=================================================================\n",
      "flatten_1 (Flatten)          (None, 67500)             0         \n",
      "_________________________________________________________________\n",
      "dense_1 (Dense)              (None, 512)               34560512  \n",
      "_________________________________________________________________\n",
      "dense_2 (Dense)              (None, 512)               262656    \n",
      "_________________________________________________________________\n",
      "dense_3 (Dense)              (None, 512)               262656    \n",
      "_________________________________________________________________\n",
      "dense_4 (Dense)              (None, 1)                 513       \n",
      "=================================================================\n",
      "Total params: 35,086,337\n",
      "Trainable params: 35,086,337\n",
      "Non-trainable params: 0\n",
      "_________________________________________________________________\n"
     ]
    }
   ],
   "source": [
    "model.summary()"
   ]
  },
  {
   "cell_type": "code",
   "execution_count": 8,
   "metadata": {
    "colab": {},
    "colab_type": "code",
    "id": "UTAfXDR_fawm"
   },
   "outputs": [
    {
     "name": "stdout",
     "output_type": "stream",
     "text": [
      "WARNING:tensorflow:From /home/guby/.local/lib/python3.6/site-packages/tensorflow/python/ops/nn_impl.py:180: add_dispatch_support.<locals>.wrapper (from tensorflow.python.ops.array_ops) is deprecated and will be removed in a future version.\n",
      "Instructions for updating:\n",
      "Use tf.where in 2.0, which has the same broadcast rule as np.where\n"
     ]
    }
   ],
   "source": [
    "from keras import optimizers\n",
    "\n",
    "model.compile(loss='binary_crossentropy',\n",
    "              optimizer=optimizers.SGD(lr=0.01, momentum=0.0, decay=0.0, nesterov=False),\n",
    "              metrics=['acc'])"
   ]
  },
  {
   "cell_type": "code",
   "execution_count": 9,
   "metadata": {
    "colab": {},
    "colab_type": "code",
    "id": "P5ilr9NDfawq"
   },
   "outputs": [
    {
     "name": "stdout",
     "output_type": "stream",
     "text": [
      "Found 2000 images belonging to 2 classes.\n",
      "Found 1000 images belonging to 2 classes.\n"
     ]
    }
   ],
   "source": [
    "from keras.preprocessing.image import ImageDataGenerator\n",
    "\n",
    "# All images will be rescaled by 1./255\n",
    "train_datagen = ImageDataGenerator(rescale=1./255)\n",
    "test_datagen = ImageDataGenerator(rescale=1./255)\n",
    "\n",
    "train_generator = train_datagen.flow_from_directory(\n",
    "        # This is the target directory\n",
    "        train_dir,\n",
    "        # All images will be resized to 150x150\n",
    "        target_size=(150, 150),\n",
    "        batch_size=20,\n",
    "        # Since we use binary_crossentropy loss, we need binary labels\n",
    "        class_mode='binary')\n",
    "\n",
    "validation_generator = test_datagen.flow_from_directory(\n",
    "        validation_dir,\n",
    "        target_size=(150, 150),\n",
    "        batch_size=20,\n",
    "        class_mode='binary')"
   ]
  },
  {
   "cell_type": "code",
   "execution_count": 10,
   "metadata": {
    "colab": {},
    "colab_type": "code",
    "id": "AeUmiwrTfawt"
   },
   "outputs": [
    {
     "name": "stdout",
     "output_type": "stream",
     "text": [
      "data batch shape: (20, 150, 150, 3)\n",
      "labels batch shape: (20,)\n"
     ]
    }
   ],
   "source": [
    "for data_batch, labels_batch in train_generator:\n",
    "    print('data batch shape:', data_batch.shape)\n",
    "    print('labels batch shape:', labels_batch.shape)\n",
    "    break"
   ]
  },
  {
   "cell_type": "code",
   "execution_count": 14,
   "metadata": {
    "colab": {},
    "colab_type": "code",
    "id": "iHHoZxNFfawx"
   },
   "outputs": [
    {
     "name": "stdout",
     "output_type": "stream",
     "text": [
      "WARNING:tensorflow:From /home/guby/.local/lib/python3.6/site-packages/keras/backend/tensorflow_backend.py:422: The name tf.global_variables is deprecated. Please use tf.compat.v1.global_variables instead.\n",
      "\n",
      "Epoch 1/30\n",
      "100/100 [==============================] - 29s 291ms/step - loss: 0.7244 - acc: 0.4950 - val_loss: 0.6818 - val_acc: 0.5000\n",
      "Epoch 2/30\n",
      "100/100 [==============================] - 48s 479ms/step - loss: 0.6938 - acc: 0.5355 - val_loss: 0.6703 - val_acc: 0.5360\n",
      "Epoch 3/30\n",
      "100/100 [==============================] - 54s 545ms/step - loss: 0.6887 - acc: 0.5565 - val_loss: 0.6883 - val_acc: 0.5280\n",
      "Epoch 4/30\n",
      "100/100 [==============================] - 55s 545ms/step - loss: 0.6747 - acc: 0.5750 - val_loss: 0.7281 - val_acc: 0.5800\n",
      "Epoch 5/30\n",
      "100/100 [==============================] - 42s 417ms/step - loss: 0.6710 - acc: 0.5885 - val_loss: 0.6197 - val_acc: 0.5750\n",
      "Epoch 6/30\n",
      "100/100 [==============================] - 30s 302ms/step - loss: 0.6606 - acc: 0.6020 - val_loss: 0.7095 - val_acc: 0.5550\n",
      "Epoch 7/30\n",
      "100/100 [==============================] - 29s 286ms/step - loss: 0.6568 - acc: 0.6055 - val_loss: 0.6376 - val_acc: 0.6140\n",
      "Epoch 8/30\n",
      "100/100 [==============================] - 31s 310ms/step - loss: 0.6421 - acc: 0.6305 - val_loss: 0.5833 - val_acc: 0.5620\n",
      "Epoch 9/30\n",
      "100/100 [==============================] - 31s 315ms/step - loss: 0.6458 - acc: 0.6160 - val_loss: 0.6612 - val_acc: 0.6240\n",
      "Epoch 10/30\n",
      "100/100 [==============================] - 32s 318ms/step - loss: 0.6315 - acc: 0.6440 - val_loss: 0.7346 - val_acc: 0.5900\n",
      "Epoch 11/30\n",
      "100/100 [==============================] - 29s 288ms/step - loss: 0.6127 - acc: 0.6475 - val_loss: 0.6272 - val_acc: 0.5920\n",
      "Epoch 12/30\n",
      "100/100 [==============================] - 30s 302ms/step - loss: 0.6132 - acc: 0.6530 - val_loss: 0.6805 - val_acc: 0.6120\n",
      "Epoch 13/30\n",
      "100/100 [==============================] - 29s 295ms/step - loss: 0.6115 - acc: 0.6755 - val_loss: 0.5327 - val_acc: 0.5890\n",
      "Epoch 14/30\n",
      "100/100 [==============================] - 29s 294ms/step - loss: 0.6059 - acc: 0.6600 - val_loss: 0.5765 - val_acc: 0.5490\n",
      "Epoch 15/30\n",
      "100/100 [==============================] - 32s 325ms/step - loss: 0.5810 - acc: 0.6885 - val_loss: 0.7778 - val_acc: 0.5740\n",
      "Epoch 16/30\n",
      "100/100 [==============================] - 30s 298ms/step - loss: 0.5796 - acc: 0.6810 - val_loss: 0.7171 - val_acc: 0.6080\n",
      "Epoch 17/30\n",
      "100/100 [==============================] - 29s 294ms/step - loss: 0.5709 - acc: 0.6915 - val_loss: 0.8009 - val_acc: 0.5810\n",
      "Epoch 18/30\n",
      "100/100 [==============================] - 31s 312ms/step - loss: 0.5672 - acc: 0.6950 - val_loss: 0.7799 - val_acc: 0.5810\n",
      "Epoch 19/30\n",
      "100/100 [==============================] - 30s 295ms/step - loss: 0.5432 - acc: 0.7195 - val_loss: 0.5201 - val_acc: 0.6130\n",
      "Epoch 20/30\n",
      "100/100 [==============================] - 27s 269ms/step - loss: 0.5447 - acc: 0.7220 - val_loss: 0.7606 - val_acc: 0.6150\n",
      "Epoch 21/30\n",
      "100/100 [==============================] - 28s 277ms/step - loss: 0.5318 - acc: 0.7240 - val_loss: 0.9472 - val_acc: 0.5710\n",
      "Epoch 22/30\n",
      "100/100 [==============================] - 29s 295ms/step - loss: 0.5303 - acc: 0.7300 - val_loss: 0.5083 - val_acc: 0.6310\n",
      "Epoch 23/30\n",
      "100/100 [==============================] - 32s 324ms/step - loss: 0.5113 - acc: 0.7515 - val_loss: 0.6511 - val_acc: 0.6380\n",
      "Epoch 24/30\n",
      "100/100 [==============================] - 30s 301ms/step - loss: 0.4951 - acc: 0.7525 - val_loss: 0.6601 - val_acc: 0.5890\n",
      "Epoch 25/30\n",
      "100/100 [==============================] - 28s 276ms/step - loss: 0.4969 - acc: 0.7525 - val_loss: 0.9518 - val_acc: 0.6020\n",
      "Epoch 26/30\n",
      "100/100 [==============================] - 27s 271ms/step - loss: 0.4785 - acc: 0.7695 - val_loss: 0.7002 - val_acc: 0.5850\n",
      "Epoch 27/30\n",
      "100/100 [==============================] - 28s 283ms/step - loss: 0.4868 - acc: 0.7665 - val_loss: 0.8051 - val_acc: 0.6180\n",
      "Epoch 28/30\n",
      "100/100 [==============================] - 29s 292ms/step - loss: 0.5020 - acc: 0.7575 - val_loss: 1.0271 - val_acc: 0.6150\n",
      "Epoch 29/30\n",
      "100/100 [==============================] - 29s 292ms/step - loss: 0.4714 - acc: 0.7770 - val_loss: 0.5918 - val_acc: 0.5990\n",
      "Epoch 30/30\n",
      "100/100 [==============================] - 26s 259ms/step - loss: 0.4550 - acc: 0.7855 - val_loss: 0.6622 - val_acc: 0.5930\n"
     ]
    }
   ],
   "source": [
    "history = model.fit_generator(\n",
    "      train_generator,\n",
    "      steps_per_epoch=100,\n",
    "      epochs=30,\n",
    "      validation_data=validation_generator,\n",
    "      validation_steps=50)"
   ]
  },
  {
   "cell_type": "code",
   "execution_count": 15,
   "metadata": {
    "colab": {
     "base_uri": "https://localhost:8080/",
     "height": 232
    },
    "colab_type": "code",
    "executionInfo": {
     "elapsed": 374,
     "status": "error",
     "timestamp": 1583115068444,
     "user": {
      "displayName": "Jesús Leopoldo Llano García",
      "photoUrl": "https://lh3.googleusercontent.com/a-/AOh14Ggh50_e9Hk0sAIwY10hcKorQi0ew_DDbDNtDplE=s64",
      "userId": "11166401614180834702"
     },
     "user_tz": 360
    },
    "id": "pyjXYq1hfawz",
    "outputId": "c0b172e5-3827-4570-ca81-f7422623336d"
   },
   "outputs": [
    {
     "data": {
      "image/png": "[encoded data removed]",
      "text/plain": [
       "<Figure size 432x288 with 1 Axes>"
      ]
     },
     "metadata": {
      "needs_background": "light"
     },
     "output_type": "display_data"
    },
    {
     "data": {
      "image/png": "[encoded data removed]",
      "text/plain": [
       "<Figure size 432x288 with 1 Axes>"
      ]
     },
     "metadata": {
      "needs_background": "light"
     },
     "output_type": "display_data"
    }
   ],
   "source": [
    "import matplotlib.pyplot as plt\n",
    "\n",
    "acc = history.history['acc']\n",
    "val_acc = history.history['val_acc']\n",
    "loss = history.history['loss']\n",
    "val_loss = history.history['val_loss']\n",
    "\n",
    "epochs = range(len(acc))\n",
    "\n",
    "plt.plot(epochs, acc, 'bo', label='Training acc')\n",
    "plt.plot(epochs, val_acc, 'b', label='Validation acc')\n",
    "plt.title('Training and validation accuracy')\n",
    "plt.legend()\n",
    "\n",
    "plt.figure()\n",
    "\n",
    "plt.plot(epochs, loss, 'bo', label='Training loss')\n",
    "plt.plot(epochs, val_loss, 'b', label='Validation loss')\n",
    "plt.title('Training and validation loss')\n",
    "plt.legend()\n",
    "\n",
    "plt.show()"
   ]
  },
  {
   "cell_type": "markdown",
   "metadata": {},
   "source": [
    "# For the following model, we will try momentum with 0.9\n",
    "\n",
    "Also we made the model run just 10 epochs, because otherwise we wouldnt be able to make it on time. Momentum accelerates in stochastic gradient descent in the direction of maximum decrease, therefore it should dampen the oscillations"
   ]
  },
  {
   "cell_type": "code",
   "execution_count": 16,
   "metadata": {
    "colab": {},
    "colab_type": "code",
    "id": "018wipn-AuH0"
   },
   "outputs": [
    {
     "name": "stdout",
     "output_type": "stream",
     "text": [
      "Found 2000 images belonging to 2 classes.\n",
      "Found 1000 images belonging to 2 classes.\n",
      "data batch shape: (20, 150, 150, 3)\n",
      "labels batch shape: (20,)\n",
      "Epoch 1/10\n",
      "100/100 [==============================] - 29s 292ms/step - loss: 0.7765 - acc: 0.4835 - val_loss: 0.6977 - val_acc: 0.5000\n",
      "Epoch 2/10\n",
      "100/100 [==============================] - 27s 269ms/step - loss: 0.6952 - acc: 0.5220 - val_loss: 0.6892 - val_acc: 0.4930\n",
      "Epoch 3/10\n",
      "100/100 [==============================] - 28s 276ms/step - loss: 0.6848 - acc: 0.5450 - val_loss: 0.6551 - val_acc: 0.5000\n",
      "Epoch 4/10\n",
      "100/100 [==============================] - 27s 272ms/step - loss: 0.6921 - acc: 0.5200 - val_loss: 0.6911 - val_acc: 0.5100\n",
      "Epoch 5/10\n",
      "100/100 [==============================] - 31s 306ms/step - loss: 0.6914 - acc: 0.5100 - val_loss: 0.6937 - val_acc: 0.5000\n",
      "Epoch 6/10\n",
      "100/100 [==============================] - 30s 304ms/step - loss: 0.6934 - acc: 0.4930 - val_loss: 0.6938 - val_acc: 0.5000\n",
      "Epoch 7/10\n",
      "100/100 [==============================] - 26s 262ms/step - loss: 0.6937 - acc: 0.4940 - val_loss: 0.6932 - val_acc: 0.4960\n",
      "Epoch 8/10\n",
      "100/100 [==============================] - 33s 329ms/step - loss: 0.6935 - acc: 0.5060 - val_loss: 0.6887 - val_acc: 0.5210\n",
      "Epoch 9/10\n",
      "100/100 [==============================] - 30s 297ms/step - loss: 0.6937 - acc: 0.5065 - val_loss: 0.6941 - val_acc: 0.4970\n",
      "Epoch 10/10\n",
      "100/100 [==============================] - 29s 293ms/step - loss: 0.6937 - acc: 0.5000 - val_loss: 0.6919 - val_acc: 0.5000\n"
     ]
    }
   ],
   "source": [
    "from keras import layers\n",
    "from keras import models\n",
    "\n",
    "model = models.Sequential()\n",
    "model.add(layers.Flatten(input_shape=(150, 150, 3)))\n",
    "model.add(layers.Dense(512, activation='relu'))\n",
    "model.add(layers.Dense(512, activation='relu'))\n",
    "model.add(layers.Dense(512, activation='relu'))\n",
    "model.add(layers.Dense(1, activation='sigmoid'))\n",
    "\n",
    "model.compile(loss='binary_crossentropy',\n",
    "              optimizer=optimizers.SGD(lr=0.01, momentum=0.9, decay=0.0, nesterov=False),\n",
    "              metrics=['acc'])\n",
    "train_datagen = ImageDataGenerator(rescale=1./255)\n",
    "test_datagen = ImageDataGenerator(rescale=1./255)\n",
    "\n",
    "train_generator = train_datagen.flow_from_directory(\n",
    "        # This is the target directory\n",
    "        train_dir,\n",
    "        # All images will be resized to 150x150\n",
    "        target_size=(150, 150),\n",
    "        batch_size=20,\n",
    "        # Since we use binary_crossentropy loss, we need binary labels\n",
    "        class_mode='binary')\n",
    "\n",
    "validation_generator = test_datagen.flow_from_directory(\n",
    "        validation_dir,\n",
    "        target_size=(150, 150),\n",
    "        batch_size=20,\n",
    "        class_mode='binary')\n",
    "\n",
    "for data_batch, labels_batch in train_generator:\n",
    "    print('data batch shape:', data_batch.shape)\n",
    "    print('labels batch shape:', labels_batch.shape)\n",
    "    break\n",
    "    \n",
    "history = model.fit_generator(\n",
    "      train_generator,\n",
    "      steps_per_epoch=100,\n",
    "      epochs=10,\n",
    "      validation_data=validation_generator,\n",
    "      validation_steps=50)"
   ]
  },
  {
   "cell_type": "markdown",
   "metadata": {},
   "source": [
    "# Results with momentum:\n",
    "\n",
    "In the example network we had an accuracy of 0.6440 by the 10th epoch, but in this one we did not get any good results. This can be because the gradient descent can have multiple local minima, and the momentum may point to a regio in the search space where we do not get very good results"
   ]
  },
  {
   "cell_type": "code",
   "execution_count": 17,
   "metadata": {},
   "outputs": [
    {
     "data": {
      "image/png": "[encoded data removed]",
      "text/plain": [
       "<Figure size 432x288 with 1 Axes>"
      ]
     },
     "metadata": {
      "needs_background": "light"
     },
     "output_type": "display_data"
    },
    {
     "data": {
      "image/png": "[encoded data removed]",
      "text/plain": [
       "<Figure size 432x288 with 1 Axes>"
      ]
     },
     "metadata": {
      "needs_background": "light"
     },
     "output_type": "display_data"
    }
   ],
   "source": [
    "acc = history.history['acc']\n",
    "val_acc = history.history['val_acc']\n",
    "loss = history.history['loss']\n",
    "val_loss = history.history['val_loss']\n",
    "\n",
    "epochs = range(len(acc))\n",
    "\n",
    "plt.plot(epochs, acc, 'bo', label='Training acc')\n",
    "plt.plot(epochs, val_acc, 'b', label='Validation acc')\n",
    "plt.title('Training and validation accuracy')\n",
    "plt.legend()\n",
    "\n",
    "plt.figure()\n",
    "\n",
    "plt.plot(epochs, loss, 'bo', label='Training loss')\n",
    "plt.plot(epochs, val_loss, 'b', label='Validation loss')\n",
    "plt.title('Training and validation loss')\n",
    "plt.legend()\n",
    "\n",
    "plt.show()"
   ]
  },
  {
   "cell_type": "markdown",
   "metadata": {},
   "source": [
    "# For the following model, we will try RMS prop with learning rate of 0.001 and rho of 0.9\n",
    "\n",
    "The Root mean square prop is an algorithm that compares the changes in both the loss function respect to the bias and the weights. And thus, tries to normalise the gradients obtained by these two methods. Numerically, it gets a moving average over the root mean squared of the gradient, and then we divide the current gradient."
   ]
  },
  {
   "cell_type": "code",
   "execution_count": 18,
   "metadata": {},
   "outputs": [
    {
     "name": "stdout",
     "output_type": "stream",
     "text": [
      "Found 2000 images belonging to 2 classes.\n",
      "Found 1000 images belonging to 2 classes.\n",
      "data batch shape: (20, 150, 150, 3)\n",
      "labels batch shape: (20,)\n",
      "Epoch 1/10\n",
      "100/100 [==============================] - 55s 552ms/step - loss: 8.2302 - acc: 0.4955 - val_loss: 0.6936 - val_acc: 0.5030\n",
      "Epoch 2/10\n",
      "100/100 [==============================] - 52s 524ms/step - loss: 0.9417 - acc: 0.4895 - val_loss: 0.6974 - val_acc: 0.4900\n",
      "Epoch 3/10\n",
      "100/100 [==============================] - 52s 522ms/step - loss: 0.7231 - acc: 0.4950 - val_loss: 0.6933 - val_acc: 0.5000\n",
      "Epoch 4/10\n",
      "100/100 [==============================] - 53s 530ms/step - loss: 0.7194 - acc: 0.4995 - val_loss: 0.6662 - val_acc: 0.5200\n",
      "Epoch 5/10\n",
      "100/100 [==============================] - 54s 539ms/step - loss: 0.8245 - acc: 0.5060 - val_loss: 0.6928 - val_acc: 0.5010\n",
      "Epoch 6/10\n",
      "100/100 [==============================] - 52s 523ms/step - loss: 0.7050 - acc: 0.4950 - val_loss: 0.6946 - val_acc: 0.5010\n",
      "Epoch 7/10\n",
      "100/100 [==============================] - 54s 542ms/step - loss: 0.6930 - acc: 0.4750 - val_loss: 0.6932 - val_acc: 0.5000\n",
      "Epoch 8/10\n",
      "100/100 [==============================] - 52s 519ms/step - loss: 0.7424 - acc: 0.5050 - val_loss: 0.6932 - val_acc: 0.5010\n",
      "Epoch 9/10\n",
      "100/100 [==============================] - 49s 492ms/step - loss: 0.7369 - acc: 0.5110 - val_loss: 0.6932 - val_acc: 0.5010\n",
      "Epoch 10/10\n",
      "100/100 [==============================] - 54s 535ms/step - loss: 0.7681 - acc: 0.5080 - val_loss: 0.6923 - val_acc: 0.5180\n"
     ]
    }
   ],
   "source": [
    "model = models.Sequential()\n",
    "model.add(layers.Flatten(input_shape=(150, 150, 3)))\n",
    "model.add(layers.Dense(512, activation='relu'))\n",
    "model.add(layers.Dense(512, activation='relu'))\n",
    "model.add(layers.Dense(512, activation='relu'))\n",
    "model.add(layers.Dense(1, activation='sigmoid'))\n",
    "\n",
    "model.compile(loss='binary_crossentropy',\n",
    "              optimizer=optimizers.RMSprop(learning_rate=0.001, rho=0.9),\n",
    "              metrics=['acc'])\n",
    "train_datagen = ImageDataGenerator(rescale=1./255)\n",
    "test_datagen = ImageDataGenerator(rescale=1./255)\n",
    "\n",
    "train_generator = train_datagen.flow_from_directory(\n",
    "        # This is the target directory\n",
    "        train_dir,\n",
    "        # All images will be resized to 150x150\n",
    "        target_size=(150, 150),\n",
    "        batch_size=20,\n",
    "        # Since we use binary_crossentropy loss, we need binary labels\n",
    "        class_mode='binary')\n",
    "\n",
    "validation_generator = test_datagen.flow_from_directory(\n",
    "        validation_dir,\n",
    "        target_size=(150, 150),\n",
    "        batch_size=20,\n",
    "        class_mode='binary')\n",
    "\n",
    "for data_batch, labels_batch in train_generator:\n",
    "    print('data batch shape:', data_batch.shape)\n",
    "    print('labels batch shape:', labels_batch.shape)\n",
    "    break\n",
    "    \n",
    "history = model.fit_generator(\n",
    "      train_generator,\n",
    "      steps_per_epoch=100,\n",
    "      epochs=10,\n",
    "      validation_data=validation_generator,\n",
    "      validation_steps=50)"
   ]
  },
  {
   "cell_type": "markdown",
   "metadata": {},
   "source": [
    "# Results of RMS prop\n",
    "\n",
    "Altought this optimiser was very promising, the algorithm is just as good as tossing a coin. I believe that the problem with with the tests is the dataset we are using, because this algorithm works when the loss function over the search space provides a smooth gradient, and in this case it does not look like that."
   ]
  },
  {
   "cell_type": "code",
   "execution_count": 19,
   "metadata": {},
   "outputs": [
    {
     "data": {
      "image/png": "[encoded data removed]",
      "text/plain": [
       "<Figure size 432x288 with 1 Axes>"
      ]
     },
     "metadata": {
      "needs_background": "light"
     },
     "output_type": "display_data"
    },
    {
     "data": {
      "image/png": "[encoded data removed]",
      "text/plain": [
       "<Figure size 432x288 with 1 Axes>"
      ]
     },
     "metadata": {
      "needs_background": "light"
     },
     "output_type": "display_data"
    }
   ],
   "source": [
    "acc = history.history['acc']\n",
    "val_acc = history.history['val_acc']\n",
    "loss = history.history['loss']\n",
    "val_loss = history.history['val_loss']\n",
    "\n",
    "epochs = range(len(acc))\n",
    "\n",
    "plt.plot(epochs, acc, 'bo', label='Training acc')\n",
    "plt.plot(epochs, val_acc, 'b', label='Validation acc')\n",
    "plt.title('Training and validation accuracy')\n",
    "plt.legend()\n",
    "\n",
    "plt.figure()\n",
    "\n",
    "plt.plot(epochs, loss, 'bo', label='Training loss')\n",
    "plt.plot(epochs, val_loss, 'b', label='Validation loss')\n",
    "plt.title('Training and validation loss')\n",
    "plt.legend()\n",
    "\n",
    "plt.show()"
   ]
  },
  {
   "cell_type": "markdown",
   "metadata": {},
   "source": [
    "# For the following model, we will implement an adam optimizer.\n",
    "\n",
    "Also with just 10 epochs, a batch size of 20. The learning rate of this model is set to 0.001, and the parameter beta_1 is 0.9 as beta_2 is 0.999, as it is suggested in the technical documentation in Keras.\n",
    "\n",
    "the Adam optimization method gets its name by the adaptative movement estimation. The algorithm has proven to be effective in many circumpstances. Adam computes different learning rates for different parameters, using first and second moments of the gradients."
   ]
  },
  {
   "cell_type": "code",
   "execution_count": 20,
   "metadata": {},
   "outputs": [
    {
     "name": "stdout",
     "output_type": "stream",
     "text": [
      "Found 2000 images belonging to 2 classes.\n",
      "Found 1000 images belonging to 2 classes.\n",
      "data batch shape: (20, 150, 150, 3)\n",
      "labels batch shape: (20,)\n",
      "Epoch 1/10\n",
      "100/100 [==============================] - 75s 749ms/step - loss: 3.4052 - acc: 0.5365 - val_loss: 0.8143 - val_acc: 0.5400\n",
      "Epoch 2/10\n",
      "100/100 [==============================] - 74s 735ms/step - loss: 0.7922 - acc: 0.5225 - val_loss: 0.7424 - val_acc: 0.4990\n",
      "Epoch 3/10\n",
      "100/100 [==============================] - 61s 611ms/step - loss: 0.7372 - acc: 0.5375 - val_loss: 0.6627 - val_acc: 0.5160\n",
      "Epoch 4/10\n",
      "100/100 [==============================] - 67s 666ms/step - loss: 0.7042 - acc: 0.5220 - val_loss: 0.9467 - val_acc: 0.5000\n",
      "Epoch 5/10\n",
      "100/100 [==============================] - 60s 601ms/step - loss: 0.6971 - acc: 0.5020 - val_loss: 0.6850 - val_acc: 0.4970\n",
      "Epoch 6/10\n",
      "100/100 [==============================] - 65s 647ms/step - loss: 0.6930 - acc: 0.4860 - val_loss: 0.6927 - val_acc: 0.4960\n",
      "Epoch 7/10\n",
      "100/100 [==============================] - 68s 675ms/step - loss: 0.6929 - acc: 0.4745 - val_loss: 0.6931 - val_acc: 0.4960\n",
      "Epoch 8/10\n",
      "100/100 [==============================] - 60s 601ms/step - loss: 0.6930 - acc: 0.4925 - val_loss: 0.6936 - val_acc: 0.4960\n",
      "Epoch 9/10\n",
      "100/100 [==============================] - 59s 589ms/step - loss: 0.6928 - acc: 0.4890 - val_loss: 0.6931 - val_acc: 0.5000\n",
      "Epoch 10/10\n",
      "100/100 [==============================] - 63s 627ms/step - loss: 0.6929 - acc: 0.4935 - val_loss: 0.6936 - val_acc: 0.4960\n"
     ]
    }
   ],
   "source": [
    "model = models.Sequential()\n",
    "model.add(layers.Flatten(input_shape=(150, 150, 3)))\n",
    "model.add(layers.Dense(512, activation='relu'))\n",
    "model.add(layers.Dense(512, activation='relu'))\n",
    "model.add(layers.Dense(512, activation='relu'))\n",
    "model.add(layers.Dense(1, activation='sigmoid'))\n",
    "\n",
    "model.compile(loss='binary_crossentropy',\n",
    "              optimizer=optimizers.Adam(learning_rate=0.001, beta_1=0.9, beta_2=0.999, amsgrad=False),\n",
    "              metrics=['acc'])\n",
    "train_datagen = ImageDataGenerator(rescale=1./255)\n",
    "test_datagen = ImageDataGenerator(rescale=1./255)\n",
    "\n",
    "train_generator = train_datagen.flow_from_directory(\n",
    "        # This is the target directory\n",
    "        train_dir,\n",
    "        # All images will be resized to 150x150\n",
    "        target_size=(150, 150),\n",
    "        batch_size=20,\n",
    "        # Since we use binary_crossentropy loss, we need binary labels\n",
    "        class_mode='binary')\n",
    "\n",
    "validation_generator = test_datagen.flow_from_directory(\n",
    "        validation_dir,\n",
    "        target_size=(150, 150),\n",
    "        batch_size=20,\n",
    "        class_mode='binary')\n",
    "\n",
    "for data_batch, labels_batch in train_generator:\n",
    "    print('data batch shape:', data_batch.shape)\n",
    "    print('labels batch shape:', labels_batch.shape)\n",
    "    break\n",
    "    \n",
    "history = model.fit_generator(\n",
    "      train_generator,\n",
    "      steps_per_epoch=100,\n",
    "      epochs=10,\n",
    "      validation_data=validation_generator,\n",
    "      validation_steps=50)"
   ]
  },
  {
   "cell_type": "markdown",
   "metadata": {},
   "source": [
    "# Results of the Adam optimiser:\n",
    "\n",
    "For some reason, the network behaved even worse than the toss coin, and we are not sure why does this happen, since we are using the recommended parameters for the optimisers."
   ]
  },
  {
   "cell_type": "code",
   "execution_count": 21,
   "metadata": {},
   "outputs": [
    {
     "data": {
      "image/png": "[encoded data removed]",
      "text/plain": [
       "<Figure size 432x288 with 1 Axes>"
      ]
     },
     "metadata": {
      "needs_background": "light"
     },
     "output_type": "display_data"
    },
    {
     "data": {
      "image/png": "[encoded data removed]",
      "text/plain": [
       "<Figure size 432x288 with 1 Axes>"
      ]
     },
     "metadata": {
      "needs_background": "light"
     },
     "output_type": "display_data"
    }
   ],
   "source": [
    "acc = history.history['acc']\n",
    "val_acc = history.history['val_acc']\n",
    "loss = history.history['loss']\n",
    "val_loss = history.history['val_loss']\n",
    "\n",
    "epochs = range(len(acc))\n",
    "\n",
    "plt.plot(epochs, acc, 'bo', label='Training acc')\n",
    "plt.plot(epochs, val_acc, 'b', label='Validation acc')\n",
    "plt.title('Training and validation accuracy')\n",
    "plt.legend()\n",
    "\n",
    "plt.figure()\n",
    "\n",
    "plt.plot(epochs, loss, 'bo', label='Training loss')\n",
    "plt.plot(epochs, val_loss, 'b', label='Validation loss')\n",
    "plt.title('Training and validation loss')\n",
    "plt.legend()\n",
    "\n",
    "plt.show()"
   ]
  },
  {
   "cell_type": "markdown",
   "metadata": {},
   "source": [
    "# For the following model, we will implement learning rate decay\n",
    "\n",
    "Tnhe leraning rate decay basically reduces gradually the learning rate, as its name tell us: the learning rate decays over time. We used the example model, and we just added the decay."
   ]
  },
  {
   "cell_type": "code",
   "execution_count": 11,
   "metadata": {},
   "outputs": [
    {
     "name": "stdout",
     "output_type": "stream",
     "text": [
      "Found 2000 images belonging to 2 classes.\n",
      "Found 1000 images belonging to 2 classes.\n",
      "data batch shape: (20, 150, 150, 3)\n",
      "labels batch shape: (20,)\n",
      "WARNING:tensorflow:From /home/guby/.local/lib/python3.6/site-packages/keras/backend/tensorflow_backend.py:422: The name tf.global_variables is deprecated. Please use tf.compat.v1.global_variables instead.\n",
      "\n",
      "Epoch 1/10\n",
      "100/100 [==============================] - 24s 241ms/step - loss: 0.7115 - acc: 0.5245 - val_loss: 0.7047 - val_acc: 0.5010\n",
      "Epoch 2/10\n",
      "100/100 [==============================] - 24s 241ms/step - loss: 0.6977 - acc: 0.5305 - val_loss: 0.6862 - val_acc: 0.5650\n",
      "Epoch 3/10\n",
      "100/100 [==============================] - 24s 237ms/step - loss: 0.6850 - acc: 0.5655 - val_loss: 0.6971 - val_acc: 0.5290\n",
      "Epoch 4/10\n",
      "100/100 [==============================] - 28s 276ms/step - loss: 0.6707 - acc: 0.5795 - val_loss: 0.7216 - val_acc: 0.5190\n",
      "Epoch 5/10\n",
      "100/100 [==============================] - 33s 330ms/step - loss: 0.6650 - acc: 0.5895 - val_loss: 0.6407 - val_acc: 0.5930\n",
      "Epoch 6/10\n",
      "100/100 [==============================] - 31s 309ms/step - loss: 0.6605 - acc: 0.5985 - val_loss: 0.6375 - val_acc: 0.5820\n",
      "Epoch 7/10\n",
      "100/100 [==============================] - 36s 362ms/step - loss: 0.6515 - acc: 0.6045 - val_loss: 0.6122 - val_acc: 0.5690\n",
      "Epoch 8/10\n",
      "100/100 [==============================] - 36s 363ms/step - loss: 0.6510 - acc: 0.6015 - val_loss: 0.6590 - val_acc: 0.6160\n",
      "Epoch 9/10\n",
      "100/100 [==============================] - 27s 270ms/step - loss: 0.6370 - acc: 0.6375 - val_loss: 0.7749 - val_acc: 0.5840\n",
      "Epoch 10/10\n",
      "100/100 [==============================] - 33s 330ms/step - loss: 0.6306 - acc: 0.6390 - val_loss: 0.7341 - val_acc: 0.5430\n"
     ]
    }
   ],
   "source": [
    "model = models.Sequential()\n",
    "model.add(layers.Flatten(input_shape=(150, 150, 3)))\n",
    "model.add(layers.Dense(512, activation='relu'))\n",
    "model.add(layers.Dense(512, activation='relu'))\n",
    "model.add(layers.Dense(512, activation='relu'))\n",
    "model.add(layers.Dense(1, activation='sigmoid'))\n",
    "\n",
    "model.compile(loss='binary_crossentropy',\n",
    "              optimizer=optimizers.SGD(lr=0.01, decay=1e-6, momentum=0.0, nesterov=False),\n",
    "              metrics=['acc'])\n",
    "train_datagen = ImageDataGenerator(rescale=1./255)\n",
    "test_datagen = ImageDataGenerator(rescale=1./255)\n",
    "\n",
    "train_generator = train_datagen.flow_from_directory(\n",
    "        # This is the target directory\n",
    "        train_dir,\n",
    "        # All images will be resized to 150x150\n",
    "        target_size=(150, 150),\n",
    "        batch_size=20,\n",
    "        # Since we use binary_crossentropy loss, we need binary labels\n",
    "        class_mode='binary')\n",
    "\n",
    "validation_generator = test_datagen.flow_from_directory(\n",
    "        validation_dir,\n",
    "        target_size=(150, 150),\n",
    "        batch_size=20,\n",
    "        class_mode='binary')\n",
    "\n",
    "for data_batch, labels_batch in train_generator:\n",
    "    print('data batch shape:', data_batch.shape)\n",
    "    print('labels batch shape:', labels_batch.shape)\n",
    "    break\n",
    "    \n",
    "history = model.fit_generator(\n",
    "      train_generator,\n",
    "      steps_per_epoch=100,\n",
    "      epochs=10,\n",
    "      validation_data=validation_generator,\n",
    "      validation_steps=50)"
   ]
  },
  {
   "cell_type": "markdown",
   "metadata": {},
   "source": [
    "# Results using learning rate decay\n",
    "\n",
    "The results here are comparable to those of the example, but we were not able to have the same degree of accuracy because int he long run, the learnign rate will be too negligible to make significant changes. In the 8th epoch we had the best validation accuracy , that was 0.61, and in the last two epochs we got really unluch and our validation dropped to 0.54"
   ]
  },
  {
   "cell_type": "code",
   "execution_count": 14,
   "metadata": {},
   "outputs": [
    {
     "data": {
      "image/png": "[encoded data removed]",
      "text/plain": [
       "<Figure size 432x288 with 1 Axes>"
      ]
     },
     "metadata": {
      "needs_background": "light"
     },
     "output_type": "display_data"
    },
    {
     "data": {
      "image/png": "[encoded data removed]",
      "text/plain": [
       "<Figure size 432x288 with 1 Axes>"
      ]
     },
     "metadata": {
      "needs_background": "light"
     },
     "output_type": "display_data"
    }
   ],
   "source": [
    "acc = history.history['acc']\n",
    "val_acc = history.history['val_acc']\n",
    "loss = history.history['loss']\n",
    "val_loss = history.history['val_loss']\n",
    "\n",
    "epochs = range(len(acc))\n",
    "\n",
    "plt.plot(epochs, acc, 'bo', label='Training acc')\n",
    "plt.plot(epochs, val_acc, 'b', label='Validation acc')\n",
    "plt.title('Training and validation accuracy')\n",
    "plt.legend()\n",
    "\n",
    "plt.figure()\n",
    "\n",
    "plt.plot(epochs, loss, 'bo', label='Training loss')\n",
    "plt.plot(epochs, val_loss, 'b', label='Validation loss')\n",
    "plt.title('Training and validation loss')\n",
    "plt.legend()\n",
    "\n",
    "plt.show()"
   ]
  },
  {
   "cell_type": "markdown",
   "metadata": {},
   "source": [
    "# For the following model, we will implement batch normalization\n",
    "\n",
    "In batch normalization, we normalize the input layer by adjusting and scaling the activations. For example, when we have features from 0 to 1 and some from 1 to 1000, that in theory, speds up the learning. To compare the time efficiency of this method, we leave the learning rate decay, so we can check how it bevahes relative to the previous network."
   ]
  },
  {
   "cell_type": "code",
   "execution_count": 15,
   "metadata": {},
   "outputs": [
    {
     "name": "stdout",
     "output_type": "stream",
     "text": [
      "Found 2000 images belonging to 2 classes.\n",
      "Found 1000 images belonging to 2 classes.\n",
      "data batch shape: (20, 150, 150, 3)\n",
      "labels batch shape: (20,)\n",
      "Epoch 1/10\n",
      "100/100 [==============================] - 27s 266ms/step - loss: 0.7983 - acc: 0.5625 - val_loss: 1.2201 - val_acc: 0.4980\n",
      "Epoch 2/10\n",
      "100/100 [==============================] - 25s 253ms/step - loss: 0.6068 - acc: 0.6735 - val_loss: 0.6457 - val_acc: 0.5520\n",
      "Epoch 3/10\n",
      "100/100 [==============================] - 25s 253ms/step - loss: 0.5458 - acc: 0.7285 - val_loss: 0.7855 - val_acc: 0.5860\n",
      "Epoch 4/10\n",
      "100/100 [==============================] - 25s 254ms/step - loss: 0.4775 - acc: 0.7765 - val_loss: 0.7386 - val_acc: 0.5890\n",
      "Epoch 5/10\n",
      "100/100 [==============================] - 28s 276ms/step - loss: 0.4015 - acc: 0.8230 - val_loss: 0.8889 - val_acc: 0.5840\n",
      "Epoch 6/10\n",
      "100/100 [==============================] - 32s 318ms/step - loss: 0.3618 - acc: 0.8500 - val_loss: 0.7812 - val_acc: 0.5500\n",
      "Epoch 7/10\n",
      "100/100 [==============================] - 26s 259ms/step - loss: 0.3336 - acc: 0.8625 - val_loss: 1.1811 - val_acc: 0.5670\n",
      "Epoch 8/10\n",
      "100/100 [==============================] - 28s 282ms/step - loss: 0.2998 - acc: 0.8780 - val_loss: 1.5908 - val_acc: 0.5480\n",
      "Epoch 9/10\n",
      "100/100 [==============================] - 26s 262ms/step - loss: 0.2840 - acc: 0.8855 - val_loss: 1.3885 - val_acc: 0.5530\n",
      "Epoch 10/10\n",
      "100/100 [==============================] - 27s 266ms/step - loss: 0.2362 - acc: 0.9090 - val_loss: 1.5056 - val_acc: 0.5670\n"
     ]
    }
   ],
   "source": [
    "model = models.Sequential()\n",
    "model.add(layers.Flatten(input_shape=(150, 150, 3)))\n",
    "model.add(layers.Dense(512, activation='relu'))\n",
    "model.add(layers.BatchNormalization(axis=-1, momentum=0.99, epsilon=0.001, center=True, scale=True, beta_initializer='zeros', gamma_initializer='ones', moving_mean_initializer='zeros', moving_variance_initializer='ones', beta_regularizer=None, gamma_regularizer=None, beta_constraint=None, gamma_constraint=None))\n",
    "model.add(layers.Dense(512, activation='relu'))\n",
    "model.add(layers.BatchNormalization(axis=-1, momentum=0.99, epsilon=0.001, center=True, scale=True, beta_initializer='zeros', gamma_initializer='ones', moving_mean_initializer='zeros', moving_variance_initializer='ones', beta_regularizer=None, gamma_regularizer=None, beta_constraint=None, gamma_constraint=None))\n",
    "model.add(layers.Dense(512, activation='relu'))\n",
    "model.add(layers.BatchNormalization(axis=-1, momentum=0.99, epsilon=0.001, center=True, scale=True, beta_initializer='zeros', gamma_initializer='ones', moving_mean_initializer='zeros', moving_variance_initializer='ones', beta_regularizer=None, gamma_regularizer=None, beta_constraint=None, gamma_constraint=None))\n",
    "model.add(layers.Dense(1, activation='sigmoid'))\n",
    "\n",
    "model.compile(loss='binary_crossentropy',\n",
    "              optimizer=optimizers.SGD(lr=0.01, decay=1e-6, momentum=0.0, nesterov=False),\n",
    "              metrics=['acc'])\n",
    "train_datagen = ImageDataGenerator(rescale=1./255)\n",
    "test_datagen = ImageDataGenerator(rescale=1./255)\n",
    "\n",
    "train_generator = train_datagen.flow_from_directory(\n",
    "        # This is the target directory\n",
    "        train_dir,\n",
    "        # All images will be resized to 150x150\n",
    "        target_size=(150, 150),\n",
    "        batch_size=20,\n",
    "        # Since we use binary_crossentropy loss, we need binary labels\n",
    "        class_mode='binary')\n",
    "\n",
    "validation_generator = test_datagen.flow_from_directory(\n",
    "        validation_dir,\n",
    "        target_size=(150, 150),\n",
    "        batch_size=20,\n",
    "        class_mode='binary')\n",
    "\n",
    "for data_batch, labels_batch in train_generator:\n",
    "    print('data batch shape:', data_batch.shape)\n",
    "    print('labels batch shape:', labels_batch.shape)\n",
    "    break\n",
    "    \n",
    "history = model.fit_generator(\n",
    "      train_generator,\n",
    "      steps_per_epoch=100,\n",
    "      epochs=10,\n",
    "      validation_data=validation_generator,\n",
    "      validation_steps=50)"
   ]
  },
  {
   "cell_type": "markdown",
   "metadata": {},
   "source": [
    "# Results on the batch normalization\n",
    "We can see a slight improvement on the time it took to train, and it also got a good test accuracy; the validation accuracy was also good, but in the sixth epoch, the validation accuracy dropped."
   ]
  },
  {
   "cell_type": "code",
   "execution_count": null,
   "metadata": {},
   "outputs": [],
   "source": [
    "acc = history.history['acc']\n",
    "val_acc = history.history['val_acc']\n",
    "loss = history.history['loss']\n",
    "val_loss = history.history['val_loss']\n",
    "\n",
    "epochs = range(len(acc))\n",
    "\n",
    "plt.plot(epochs, acc, 'bo', label='Training acc')\n",
    "plt.plot(epochs, val_acc, 'b', label='Validation acc')\n",
    "plt.title('Training and validation accuracy')\n",
    "plt.legend()\n",
    "\n",
    "plt.figure()\n",
    "\n",
    "plt.plot(epochs, loss, 'bo', label='Training loss')\n",
    "plt.plot(epochs, val_loss, 'b', label='Validation loss')\n",
    "plt.title('Training and validation loss')\n",
    "plt.legend()\n",
    "\n",
    "plt.show()"
   ]
  }
 ],
 "metadata": {
  "colab": {
   "name": "A3_dogsvscatsDNN.ipynb",
   "provenance": [
    {
     "file_id": "1lCaBGCpjm4mw-bZ90hc4C3X-IqNLzmhn",
     "timestamp": 1583089583386
    }
   ]
  },
  "kernel_info": {
   "name": "python3"
  },
  "kernelspec": {
   "display_name": "Python 3",
   "language": "python",
   "name": "python3"
  },
  "language_info": {
   "codemirror_mode": {
    "name": "ipython",
    "version": 3
   },
   "file_extension": ".py",
   "mimetype": "text/x-python",
   "name": "python",
   "nbconvert_exporter": "python",
   "pygments_lexer": "ipython3",
   "version": "3.6.9"
  },
  "nteract": {
   "version": "0.12.3"
  }
 },
 "nbformat": 4,
 "nbformat_minor": 1
}
