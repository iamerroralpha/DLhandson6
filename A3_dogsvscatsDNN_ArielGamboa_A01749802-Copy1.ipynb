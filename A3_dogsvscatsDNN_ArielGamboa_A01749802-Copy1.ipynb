{
 "cells": [
  {
   "cell_type": "markdown",
   "metadata": {},
   "source": [
    "     "
   ]
  },
  {
   "cell_type": "markdown",
   "metadata": {
    "colab_type": "text",
    "collapsed": true,
    "id": "43vJgpZNfawL"
   },
   "source": [
    "# Assignment 3\n",
    "\n",
    "__Instructions:__\n",
    "- You will use this Keras program to perform binary classification experiments on the Dogs and Cats dataset.\n",
    "- You can download the original dataset from www.kaggle.com/c/dogs-vs-cats/data (you’ll need to create a Kaggle account if you don’t already have one—don’t worry, the process is painless).\n",
    "- Adjust the following hyperparameters:\n",
    "    - Number of hidden layers\n",
    "    - Number of hidden units\n",
    "    - Learning rate\n",
    "    - Mini-batch size\n",
    "- Use two or more regularization methods.\n",
    "- Discuss the effect of these hyperparameters and regularization in the performance of classification and in the model overfitting.\n",
    "\n",
    "__Evaluation ponderation:__\n",
    "- Hyperparameters tuning and corresponding discussion ---- 50%\n",
    "- Regularization and corresponding discussion ------------ 50%\n",
    "- Total ---------------------------------------------------100%\n",
    "\n",
    "Code reference: https://github.com/fchollet"
   ]
  },
  {
   "cell_type": "code",
   "execution_count": 1,
   "metadata": {
    "colab": {
     "base_uri": "https://localhost:8080/",
     "height": 97
    },
    "colab_type": "code",
    "executionInfo": {
     "elapsed": 2504,
     "status": "ok",
     "timestamp": 1583115065865,
     "user": {
      "displayName": "Jesús Leopoldo Llano García",
      "photoUrl": "https://lh3.googleusercontent.com/a-/AOh14Ggh50_e9Hk0sAIwY10hcKorQi0ew_DDbDNtDplE=s64",
      "userId": "11166401614180834702"
     },
     "user_tz": 360
    },
    "id": "mJtLJoRWfawO",
    "outputId": "8fddb12c-ac1e-4c5b-aa03-6e7ff26275b9"
   },
   "outputs": [
    {
     "name": "stderr",
     "output_type": "stream",
     "text": [
      "Using TensorFlow backend.\n",
      "/opt/anaconda3/lib/python3.7/site-packages/tensorflow/python/framework/dtypes.py:516: FutureWarning: Passing (type, 1) or '1type' as a synonym of type is deprecated; in a future version of numpy, it will be understood as (type, (1,)) / '(1,)type'.\n",
      "  _np_qint8 = np.dtype([(\"qint8\", np.int8, 1)])\n",
      "/opt/anaconda3/lib/python3.7/site-packages/tensorflow/python/framework/dtypes.py:517: FutureWarning: Passing (type, 1) or '1type' as a synonym of type is deprecated; in a future version of numpy, it will be understood as (type, (1,)) / '(1,)type'.\n",
      "  _np_quint8 = np.dtype([(\"quint8\", np.uint8, 1)])\n",
      "/opt/anaconda3/lib/python3.7/site-packages/tensorflow/python/framework/dtypes.py:518: FutureWarning: Passing (type, 1) or '1type' as a synonym of type is deprecated; in a future version of numpy, it will be understood as (type, (1,)) / '(1,)type'.\n",
      "  _np_qint16 = np.dtype([(\"qint16\", np.int16, 1)])\n",
      "/opt/anaconda3/lib/python3.7/site-packages/tensorflow/python/framework/dtypes.py:519: FutureWarning: Passing (type, 1) or '1type' as a synonym of type is deprecated; in a future version of numpy, it will be understood as (type, (1,)) / '(1,)type'.\n",
      "  _np_quint16 = np.dtype([(\"quint16\", np.uint16, 1)])\n",
      "/opt/anaconda3/lib/python3.7/site-packages/tensorflow/python/framework/dtypes.py:520: FutureWarning: Passing (type, 1) or '1type' as a synonym of type is deprecated; in a future version of numpy, it will be understood as (type, (1,)) / '(1,)type'.\n",
      "  _np_qint32 = np.dtype([(\"qint32\", np.int32, 1)])\n",
      "/opt/anaconda3/lib/python3.7/site-packages/tensorflow/python/framework/dtypes.py:525: FutureWarning: Passing (type, 1) or '1type' as a synonym of type is deprecated; in a future version of numpy, it will be understood as (type, (1,)) / '(1,)type'.\n",
      "  np_resource = np.dtype([(\"resource\", np.ubyte, 1)])\n",
      "/opt/anaconda3/lib/python3.7/site-packages/tensorboard/compat/tensorflow_stub/dtypes.py:541: FutureWarning: Passing (type, 1) or '1type' as a synonym of type is deprecated; in a future version of numpy, it will be understood as (type, (1,)) / '(1,)type'.\n",
      "  _np_qint8 = np.dtype([(\"qint8\", np.int8, 1)])\n",
      "/opt/anaconda3/lib/python3.7/site-packages/tensorboard/compat/tensorflow_stub/dtypes.py:542: FutureWarning: Passing (type, 1) or '1type' as a synonym of type is deprecated; in a future version of numpy, it will be understood as (type, (1,)) / '(1,)type'.\n",
      "  _np_quint8 = np.dtype([(\"quint8\", np.uint8, 1)])\n",
      "/opt/anaconda3/lib/python3.7/site-packages/tensorboard/compat/tensorflow_stub/dtypes.py:543: FutureWarning: Passing (type, 1) or '1type' as a synonym of type is deprecated; in a future version of numpy, it will be understood as (type, (1,)) / '(1,)type'.\n",
      "  _np_qint16 = np.dtype([(\"qint16\", np.int16, 1)])\n",
      "/opt/anaconda3/lib/python3.7/site-packages/tensorboard/compat/tensorflow_stub/dtypes.py:544: FutureWarning: Passing (type, 1) or '1type' as a synonym of type is deprecated; in a future version of numpy, it will be understood as (type, (1,)) / '(1,)type'.\n",
      "  _np_quint16 = np.dtype([(\"quint16\", np.uint16, 1)])\n",
      "/opt/anaconda3/lib/python3.7/site-packages/tensorboard/compat/tensorflow_stub/dtypes.py:545: FutureWarning: Passing (type, 1) or '1type' as a synonym of type is deprecated; in a future version of numpy, it will be understood as (type, (1,)) / '(1,)type'.\n",
      "  _np_qint32 = np.dtype([(\"qint32\", np.int32, 1)])\n",
      "/opt/anaconda3/lib/python3.7/site-packages/tensorboard/compat/tensorflow_stub/dtypes.py:550: FutureWarning: Passing (type, 1) or '1type' as a synonym of type is deprecated; in a future version of numpy, it will be understood as (type, (1,)) / '(1,)type'.\n",
      "  np_resource = np.dtype([(\"resource\", np.ubyte, 1)])\n"
     ]
    },
    {
     "data": {
      "text/plain": [
       "'2.3.1'"
      ]
     },
     "execution_count": 1,
     "metadata": {},
     "output_type": "execute_result"
    }
   ],
   "source": [
    "import keras\n",
    "keras.__version__"
   ]
  },
  {
   "cell_type": "code",
   "execution_count": 2,
   "metadata": {
    "colab": {},
    "colab_type": "code",
    "id": "2xiM2S1mfawT"
   },
   "outputs": [],
   "source": [
    "import os, shutil"
   ]
  },
  {
   "cell_type": "code",
   "execution_count": 5,
   "metadata": {
    "colab": {
     "base_uri": "https://localhost:8080/",
     "height": 232
    },
    "colab_type": "code",
    "executionInfo": {
     "elapsed": 4551,
     "status": "error",
     "timestamp": 1583115068171,
     "user": {
      "displayName": "Jesús Leopoldo Llano García",
      "photoUrl": "https://lh3.googleusercontent.com/a-/AOh14Ggh50_e9Hk0sAIwY10hcKorQi0ew_DDbDNtDplE=s64",
      "userId": "11166401614180834702"
     },
     "user_tz": 360
    },
    "id": "x4fCLOpZfawX",
    "outputId": "3dd39763-1290-42a7-fa05-ea50f3936631"
   },
   "outputs": [],
   "source": [
    "# Please correct the urls accordingly\n",
    "\n",
    "# The path to the directory where the original\n",
    "# dataset was uncompressed\n",
    "original_dataset_dir = 'D:/Jesus/Algorithm/A3/A3/Data/train'\n",
    "\n",
    "# The directory where we will\n",
    "# store our smaller dataset\n",
    "base_dir = 'D:/Jesus/Algorithm/A3/A3/Data/train1'\n",
    "os.mkdir(base_dir)\n",
    "\n",
    "# Directories for our training,\n",
    "# validation and test splits\n",
    "train_dir = os.path.join(base_dir, 'train')\n",
    "os.mkdir(train_dir)\n",
    "validation_dir = os.path.join(base_dir, 'validation')\n",
    "os.mkdir(validation_dir)\n",
    "test_dir = os.path.join(base_dir, 'test')\n",
    "os.mkdir(test_dir)\n",
    "\n",
    "# Directory with our training cat pictures\n",
    "train_cats_dir = os.path.join(train_dir, 'cats')\n",
    "os.mkdir(train_cats_dir)\n",
    "\n",
    "# Directory with our training dog pictures\n",
    "train_dogs_dir = os.path.join(train_dir, 'dogs')\n",
    "os.mkdir(train_dogs_dir)\n",
    "\n",
    "# Directory with our validation cat pictures\n",
    "validation_cats_dir = os.path.join(validation_dir, 'cats')\n",
    "os.mkdir(validation_cats_dir)\n",
    "\n",
    "# Directory with our validation dog pictures\n",
    "validation_dogs_dir = os.path.join(validation_dir, 'dogs')\n",
    "os.mkdir(validation_dogs_dir)\n",
    "\n",
    "# Directory with our validation cat pictures\n",
    "test_cats_dir = os.path.join(test_dir, 'cats')\n",
    "os.mkdir(test_cats_dir)\n",
    "\n",
    "# Directory with our validation dog pictures\n",
    "test_dogs_dir = os.path.join(test_dir, 'dogs')\n",
    "os.mkdir(test_dogs_dir)\n",
    "\n",
    "# Copy first 1000 cat images to train_cats_dir\n",
    "fnames = ['cat.{}.jpg'.format(i) for i in range(1000)]\n",
    "for fname in fnames:\n",
    "    src = os.path.join(original_dataset_dir, fname)\n",
    "    dst = os.path.join(train_cats_dir, fname)\n",
    "    shutil.copyfile(src, dst)\n",
    "\n",
    "# Copy next 500 cat images to validation_cats_dir\n",
    "fnames = ['cat.{}.jpg'.format(i) for i in range(1000, 1500)]\n",
    "for fname in fnames:\n",
    "    src = os.path.join(original_dataset_dir, fname)\n",
    "    dst = os.path.join(validation_cats_dir, fname)\n",
    "    shutil.copyfile(src, dst)\n",
    "    \n",
    "# Copy next 500 cat images to test_cats_dir\n",
    "fnames = ['cat.{}.jpg'.format(i) for i in range(1500, 2000)]\n",
    "for fname in fnames:\n",
    "    src = os.path.join(original_dataset_dir, fname)\n",
    "    dst = os.path.join(test_cats_dir, fname)\n",
    "    shutil.copyfile(src, dst)\n",
    "    \n",
    "# Copy first 1000 dog images to train_dogs_dir\n",
    "fnames = ['dog.{}.jpg'.format(i) for i in range(1000)]\n",
    "for fname in fnames:\n",
    "    src = os.path.join(original_dataset_dir, fname)\n",
    "    dst = os.path.join(train_dogs_dir, fname)\n",
    "    shutil.copyfile(src, dst)\n",
    "    \n",
    "# Copy next 500 dog images to validation_dogs_dir\n",
    "fnames = ['dog.{}.jpg'.format(i) for i in range(1000, 1500)]\n",
    "for fname in fnames:\n",
    "    src = os.path.join(original_dataset_dir, fname)\n",
    "    dst = os.path.join(validation_dogs_dir, fname)\n",
    "    shutil.copyfile(src, dst)\n",
    "    \n",
    "# Copy next 500 dog images to test_dogs_dir\n",
    "fnames = ['dog.{}.jpg'.format(i) for i in range(1500, 2000)]\n",
    "for fname in fnames:\n",
    "    src = os.path.join(original_dataset_dir, fname)\n",
    "    dst = os.path.join(test_dogs_dir, fname)\n",
    "    shutil.copyfile(src, dst)"
   ]
  },
  {
   "cell_type": "code",
   "execution_count": 6,
   "metadata": {
    "colab": {},
    "colab_type": "code",
    "id": "qo4w82X8fawc"
   },
   "outputs": [
    {
     "name": "stdout",
     "output_type": "stream",
     "text": [
      "total training cat images: 1000\n",
      "total training dog images: 1000\n",
      "total validation cat images: 500\n",
      "total validation dog images: 500\n",
      "total test cat images: 500\n",
      "total test dog images: 500\n"
     ]
    }
   ],
   "source": [
    "print('total training cat images:', len(os.listdir(train_cats_dir)))\n",
    "print('total training dog images:', len(os.listdir(train_dogs_dir)))\n",
    "print('total validation cat images:', len(os.listdir(validation_cats_dir)))\n",
    "print('total validation dog images:', len(os.listdir(validation_dogs_dir)))\n",
    "print('total test cat images:', len(os.listdir(test_cats_dir)))\n",
    "print('total test dog images:', len(os.listdir(test_dogs_dir)))"
   ]
  },
  {
   "cell_type": "markdown",
   "metadata": {},
   "source": [
    "# Example neural network:\n",
    "\n",
    "## Network architecture:\n",
    "\n",
    "1. Input layer: 150 x 150 x 3 neurons \n",
    "2. First layer: 512 fully connected neurons, activated by rectified linear unit.\n",
    "3. Second layer: 512 fully connected neurons, activated by rectified linear unit.\n",
    "4. Third layer: 512 fully connected neurons, activated by rectified linear unit.\n",
    "5. Output layer: 1 Sigmoid activated neuron."
   ]
  },
  {
   "cell_type": "code",
   "execution_count": 3,
   "metadata": {
    "colab": {},
    "colab_type": "code",
    "id": "8AovMTp6fawf"
   },
   "outputs": [],
   "source": [
    "from keras import layers\n",
    "from keras import models\n",
    "\n",
    "model = models.Sequential()\n",
    "model.add(layers.Flatten(input_shape=(150, 150, 3)))\n",
    "model.add(layers.Dense(512, activation='relu'))\n",
    "model.add(layers.Dense(512, activation='relu'))\n",
    "model.add(layers.Dense(512, activation='relu'))\n",
    "model.add(layers.Dense(1, activation='sigmoid'))"
   ]
  },
  {
   "cell_type": "code",
   "execution_count": 4,
   "metadata": {
    "colab": {},
    "colab_type": "code",
    "id": "FObu2eXefawi"
   },
   "outputs": [
    {
     "name": "stdout",
     "output_type": "stream",
     "text": [
      "Model: \"sequential_1\"\n",
      "_________________________________________________________________\n",
      "Layer (type)                 Output Shape              Param #   \n",
      "=================================================================\n",
      "flatten_1 (Flatten)          (None, 67500)             0         \n",
      "_________________________________________________________________\n",
      "dense_1 (Dense)              (None, 512)               34560512  \n",
      "_________________________________________________________________\n",
      "dense_2 (Dense)              (None, 512)               262656    \n",
      "_________________________________________________________________\n",
      "dense_3 (Dense)              (None, 512)               262656    \n",
      "_________________________________________________________________\n",
      "dense_4 (Dense)              (None, 1)                 513       \n",
      "=================================================================\n",
      "Total params: 35,086,337\n",
      "Trainable params: 35,086,337\n",
      "Non-trainable params: 0\n",
      "_________________________________________________________________\n"
     ]
    }
   ],
   "source": [
    "model.summary()"
   ]
  },
  {
   "cell_type": "code",
   "execution_count": 5,
   "metadata": {
    "colab": {},
    "colab_type": "code",
    "id": "UTAfXDR_fawm"
   },
   "outputs": [
    {
     "name": "stdout",
     "output_type": "stream",
     "text": [
      "WARNING:tensorflow:From /opt/anaconda3/lib/python3.7/site-packages/tensorflow/python/ops/nn_impl.py:180: add_dispatch_support.<locals>.wrapper (from tensorflow.python.ops.array_ops) is deprecated and will be removed in a future version.\n",
      "Instructions for updating:\n",
      "Use tf.where in 2.0, which has the same broadcast rule as np.where\n"
     ]
    }
   ],
   "source": [
    "from keras import optimizers\n",
    "\n",
    "model.compile(loss='binary_crossentropy',\n",
    "              optimizer=optimizers.SGD(lr=0.01, momentum=0.0, decay=0.0, nesterov=False),\n",
    "              metrics=['acc'])"
   ]
  },
  {
   "cell_type": "code",
   "execution_count": 10,
   "metadata": {
    "colab": {},
    "colab_type": "code",
    "id": "P5ilr9NDfawq"
   },
   "outputs": [
    {
     "name": "stdout",
     "output_type": "stream",
     "text": [
      "Found 2000 images belonging to 2 classes.\n",
      "Found 1000 images belonging to 2 classes.\n"
     ]
    }
   ],
   "source": [
    "from keras.preprocessing.image import ImageDataGenerator\n",
    "\n",
    "# All images will be rescaled by 1./255\n",
    "train_datagen = ImageDataGenerator(rescale=1./255)\n",
    "test_datagen = ImageDataGenerator(rescale=1./255)\n",
    "\n",
    "train_generator = train_datagen.flow_from_directory(\n",
    "        # This is the target directory\n",
    "        train_dir,\n",
    "        # All images will be resized to 150x150\n",
    "        target_size=(150, 150),\n",
    "        batch_size=20,\n",
    "        # Since we use binary_crossentropy loss, we need binary labels\n",
    "        class_mode='binary')\n",
    "\n",
    "validation_generator = test_datagen.flow_from_directory(\n",
    "        validation_dir,\n",
    "        target_size=(150, 150),\n",
    "        batch_size=20,\n",
    "        class_mode='binary')"
   ]
  },
  {
   "cell_type": "code",
   "execution_count": 11,
   "metadata": {
    "colab": {},
    "colab_type": "code",
    "id": "AeUmiwrTfawt"
   },
   "outputs": [
    {
     "name": "stdout",
     "output_type": "stream",
     "text": [
      "data batch shape: (20, 150, 150, 3)\n",
      "labels batch shape: (20,)\n"
     ]
    }
   ],
   "source": [
    "for data_batch, labels_batch in train_generator:\n",
    "    print('data batch shape:', data_batch.shape)\n",
    "    print('labels batch shape:', labels_batch.shape)\n",
    "    break"
   ]
  },
  {
   "cell_type": "markdown",
   "metadata": {},
   "source": [
    "# Example model training:\n",
    "\n",
    "## Characteristics:\n",
    "\n",
    "1. Batch in training: 20\n",
    "2. Batch in validation: 20\n",
    "3. Steps per epoch: 100\n",
    "4. Epochs: 30\n",
    "5. Validation steps:50"
   ]
  },
  {
   "cell_type": "code",
   "execution_count": 13,
   "metadata": {
    "colab": {},
    "colab_type": "code",
    "id": "iHHoZxNFfawx"
   },
   "outputs": [
    {
     "name": "stdout",
     "output_type": "stream",
     "text": [
      "Epoch 1/30\n",
      "100/100 [==============================] - 76s 765ms/step - loss: 0.4992 - acc: 0.7505 - val_loss: 0.5097 - val_acc: 0.6270\n",
      "Epoch 2/30\n",
      "100/100 [==============================] - 75s 754ms/step - loss: 0.4841 - acc: 0.7530 - val_loss: 0.8026 - val_acc: 0.6270\n",
      "Epoch 3/30\n",
      "100/100 [==============================] - 75s 755ms/step - loss: 0.4673 - acc: 0.7780 - val_loss: 0.7145 - val_acc: 0.6250\n",
      "Epoch 4/30\n",
      "100/100 [==============================] - 75s 752ms/step - loss: 0.4513 - acc: 0.7880 - val_loss: 0.7919 - val_acc: 0.5750\n",
      "Epoch 5/30\n",
      "100/100 [==============================] - 75s 749ms/step - loss: 0.4630 - acc: 0.7860 - val_loss: 0.6660 - val_acc: 0.6000\n",
      "Epoch 6/30\n",
      "100/100 [==============================] - 76s 756ms/step - loss: 0.4396 - acc: 0.7905 - val_loss: 0.7922 - val_acc: 0.5770\n",
      "Epoch 7/30\n",
      "100/100 [==============================] - 75s 745ms/step - loss: 0.4430 - acc: 0.7970 - val_loss: 0.8344 - val_acc: 0.5920\n",
      "Epoch 8/30\n",
      "100/100 [==============================] - 76s 756ms/step - loss: 0.4201 - acc: 0.8050 - val_loss: 0.7451 - val_acc: 0.6160\n",
      "Epoch 9/30\n",
      "100/100 [==============================] - 74s 738ms/step - loss: 0.4252 - acc: 0.7955 - val_loss: 0.8126 - val_acc: 0.5550\n",
      "Epoch 10/30\n",
      "100/100 [==============================] - 73s 734ms/step - loss: 0.3931 - acc: 0.8220 - val_loss: 1.3289 - val_acc: 0.5320\n",
      "Epoch 11/30\n",
      "100/100 [==============================] - 75s 749ms/step - loss: 0.4104 - acc: 0.8155 - val_loss: 0.6055 - val_acc: 0.6100\n",
      "Epoch 12/30\n",
      "100/100 [==============================] - 75s 748ms/step - loss: 0.3741 - acc: 0.8345 - val_loss: 0.5996 - val_acc: 0.6090\n",
      "Epoch 13/30\n",
      "100/100 [==============================] - 74s 741ms/step - loss: 0.3801 - acc: 0.8260 - val_loss: 0.9651 - val_acc: 0.5600\n",
      "Epoch 14/30\n",
      "100/100 [==============================] - 75s 749ms/step - loss: 0.3513 - acc: 0.8505 - val_loss: 0.7829 - val_acc: 0.6000\n",
      "Epoch 15/30\n",
      "100/100 [==============================] - 75s 750ms/step - loss: 0.3457 - acc: 0.8645 - val_loss: 1.0779 - val_acc: 0.6000\n",
      "Epoch 16/30\n",
      "100/100 [==============================] - 75s 753ms/step - loss: 0.3428 - acc: 0.8510 - val_loss: 0.6924 - val_acc: 0.6050\n",
      "Epoch 17/30\n",
      "100/100 [==============================] - 75s 752ms/step - loss: 0.3435 - acc: 0.8530 - val_loss: 1.5111 - val_acc: 0.6040\n",
      "Epoch 18/30\n",
      "100/100 [==============================] - 73s 729ms/step - loss: 0.3510 - acc: 0.8475 - val_loss: 0.9261 - val_acc: 0.6090\n",
      "Epoch 19/30\n",
      "100/100 [==============================] - 74s 736ms/step - loss: 0.3155 - acc: 0.8755 - val_loss: 0.8981 - val_acc: 0.6000\n",
      "Epoch 20/30\n",
      "100/100 [==============================] - 75s 755ms/step - loss: 0.3005 - acc: 0.8670 - val_loss: 0.4857 - val_acc: 0.6300\n",
      "Epoch 21/30\n",
      "100/100 [==============================] - 75s 752ms/step - loss: 0.2658 - acc: 0.8905 - val_loss: 0.5694 - val_acc: 0.5710\n",
      "Epoch 22/30\n",
      "100/100 [==============================] - 75s 755ms/step - loss: 0.2950 - acc: 0.8810 - val_loss: 0.6662 - val_acc: 0.6070\n",
      "Epoch 23/30\n",
      "100/100 [==============================] - 76s 756ms/step - loss: 0.2729 - acc: 0.8870 - val_loss: 1.6385 - val_acc: 0.5520\n",
      "Epoch 24/30\n",
      "100/100 [==============================] - 74s 743ms/step - loss: 0.2651 - acc: 0.8990 - val_loss: 1.9775 - val_acc: 0.5530\n",
      "Epoch 25/30\n",
      "100/100 [==============================] - 74s 745ms/step - loss: 0.2805 - acc: 0.8905 - val_loss: 0.9384 - val_acc: 0.6220\n",
      "Epoch 26/30\n",
      "100/100 [==============================] - 75s 751ms/step - loss: 0.2218 - acc: 0.9150 - val_loss: 1.1798 - val_acc: 0.5720\n",
      "Epoch 27/30\n",
      "100/100 [==============================] - 72s 718ms/step - loss: 0.3150 - acc: 0.8885 - val_loss: 0.8176 - val_acc: 0.6080\n",
      "Epoch 28/30\n",
      "100/100 [==============================] - 74s 741ms/step - loss: 0.1885 - acc: 0.9270 - val_loss: 1.0647 - val_acc: 0.6100\n",
      "Epoch 29/30\n",
      "100/100 [==============================] - 74s 741ms/step - loss: 0.2659 - acc: 0.9050 - val_loss: 2.1797 - val_acc: 0.5680\n",
      "Epoch 30/30\n",
      "100/100 [==============================] - 75s 754ms/step - loss: 0.3335 - acc: 0.8800 - val_loss: 1.3853 - val_acc: 0.5990\n"
     ]
    }
   ],
   "source": [
    "history = model.fit_generator(\n",
    "      train_generator,\n",
    "      steps_per_epoch=100,\n",
    "      epochs=30,\n",
    "      validation_data=validation_generator,\n",
    "      validation_steps=50)"
   ]
  },
  {
   "cell_type": "markdown",
   "metadata": {},
   "source": [
    "# Example model training:\n",
    "\n",
    "## Results:\n",
    "\n",
    "The training accuracy went up too much without improving the validation accuracy, which implies that the system got overfitted."
   ]
  },
  {
   "cell_type": "code",
   "execution_count": 14,
   "metadata": {
    "colab": {
     "base_uri": "https://localhost:8080/",
     "height": 232
    },
    "colab_type": "code",
    "executionInfo": {
     "elapsed": 374,
     "status": "error",
     "timestamp": 1583115068444,
     "user": {
      "displayName": "Jesús Leopoldo Llano García",
      "photoUrl": "https://lh3.googleusercontent.com/a-/AOh14Ggh50_e9Hk0sAIwY10hcKorQi0ew_DDbDNtDplE=s64",
      "userId": "11166401614180834702"
     },
     "user_tz": 360
    },
    "id": "pyjXYq1hfawz",
    "outputId": "c0b172e5-3827-4570-ca81-f7422623336d"
   },
   "outputs": [
    {
     "data": {
      "image/png": "[encoded data removed]",
      "text/plain": [
       "<Figure size 432x288 with 1 Axes>"
      ]
     },
     "metadata": {
      "needs_background": "light"
     },
     "output_type": "display_data"
    },
    {
     "data": {
      "image/png": "[encoded data removed]",
      "text/plain": [
       "<Figure size 432x288 with 1 Axes>"
      ]
     },
     "metadata": {
      "needs_background": "light"
     },
     "output_type": "display_data"
    }
   ],
   "source": [
    "import matplotlib.pyplot as plt\n",
    "\n",
    "acc = history.history['acc']\n",
    "val_acc = history.history['val_acc']\n",
    "loss = history.history['loss']\n",
    "val_loss = history.history['val_loss']\n",
    "\n",
    "epochs = range(len(acc))\n",
    "\n",
    "plt.plot(epochs, acc, 'bo', label='Training acc')\n",
    "plt.plot(epochs, val_acc, 'b', label='Validation acc')\n",
    "plt.title('Training and validation accuracy')\n",
    "plt.legend()\n",
    "\n",
    "plt.figure()\n",
    "\n",
    "plt.plot(epochs, loss, 'bo', label='Training loss')\n",
    "plt.plot(epochs, val_loss, 'b', label='Validation loss')\n",
    "plt.title('Training and validation loss')\n",
    "plt.legend()\n",
    "\n",
    "plt.show()"
   ]
  },
  {
   "cell_type": "markdown",
   "metadata": {},
   "source": [
    "# First self made neural network:\n",
    "\n",
    "## Network architecture:\n",
    "\n",
    "We added a furth layer to the previous one.\n",
    "\n",
    "1. Input layer: 150 x 150 x 3 neurons \n",
    "2. First layer: 512 fully connected neurons, activated by rectified linear unit.\n",
    "3. Second layer: 512 fully connected neurons, activated by rectified linear unit.\n",
    "4. Third layer: 512 fully connected neurons, activated by rectified linear unit.\n",
    "5. Fourth layer: 512 fully connected neurons, activated by rectified linear unit.\n",
    "6. Output layer: 1 Sigmoid activated neuron."
   ]
  },
  {
   "cell_type": "code",
   "execution_count": 15,
   "metadata": {
    "colab": {},
    "colab_type": "code",
    "id": "018wipn-AuH0"
   },
   "outputs": [],
   "source": [
    "model = models.Sequential()\n",
    "model.add(layers.Flatten(input_shape=(150, 150, 3)))\n",
    "model.add(layers.Dense(512, activation='relu'))\n",
    "model.add(layers.Dense(512, activation='relu'))\n",
    "model.add(layers.Dense(512, activation='relu'))\n",
    "model.add(layers.Dense(512, activation='relu'))\n",
    "model.add(layers.Dense(512, activation='relu'))\n",
    "model.add(layers.Dense(1, activation='sigmoid'))"
   ]
  },
  {
   "cell_type": "code",
   "execution_count": 16,
   "metadata": {
    "colab": {},
    "colab_type": "code",
    "id": "FObu2eXefawi"
   },
   "outputs": [
    {
     "name": "stdout",
     "output_type": "stream",
     "text": [
      "Model: \"sequential_2\"\n",
      "_________________________________________________________________\n",
      "Layer (type)                 Output Shape              Param #   \n",
      "=================================================================\n",
      "flatten_2 (Flatten)          (None, 67500)             0         \n",
      "_________________________________________________________________\n",
      "dense_5 (Dense)              (None, 512)               34560512  \n",
      "_________________________________________________________________\n",
      "dense_6 (Dense)              (None, 512)               262656    \n",
      "_________________________________________________________________\n",
      "dense_7 (Dense)              (None, 512)               262656    \n",
      "_________________________________________________________________\n",
      "dense_8 (Dense)              (None, 512)               262656    \n",
      "_________________________________________________________________\n",
      "dense_9 (Dense)              (None, 512)               262656    \n",
      "_________________________________________________________________\n",
      "dense_10 (Dense)             (None, 1)                 513       \n",
      "=================================================================\n",
      "Total params: 35,611,649\n",
      "Trainable params: 35,611,649\n",
      "Non-trainable params: 0\n",
      "_________________________________________________________________\n"
     ]
    }
   ],
   "source": [
    "model.summary()"
   ]
  },
  {
   "cell_type": "code",
   "execution_count": 17,
   "metadata": {
    "colab": {},
    "colab_type": "code",
    "id": "UTAfXDR_fawm"
   },
   "outputs": [],
   "source": [
    "from keras import optimizers\n",
    "\n",
    "model.compile(loss='binary_crossentropy',\n",
    "              optimizer=optimizers.SGD(lr=0.01, momentum=0.0, decay=0.0, nesterov=False),\n",
    "              metrics=['acc'])"
   ]
  },
  {
   "cell_type": "markdown",
   "metadata": {},
   "source": [
    "# First model training:\n",
    "\n",
    "## Characteristics:\n",
    "\n",
    "1. Batch in training: 20\n",
    "2. Batch in validation: 20\n",
    "3. Steps per epoch: 100\n",
    "4. Epochs: 30\n",
    "5. Validation steps:50\n",
    "6. LEarning rate: 0.01"
   ]
  },
  {
   "cell_type": "code",
   "execution_count": 18,
   "metadata": {
    "colab": {},
    "colab_type": "code",
    "id": "iHHoZxNFfawx"
   },
   "outputs": [
    {
     "name": "stdout",
     "output_type": "stream",
     "text": [
      "Epoch 1/30\n",
      "100/100 [==============================] - 82s 818ms/step - loss: 0.6986 - acc: 0.4985 - val_loss: 0.6759 - val_acc: 0.5400\n",
      "Epoch 2/30\n",
      "100/100 [==============================] - 79s 788ms/step - loss: 0.6851 - acc: 0.5470 - val_loss: 0.6539 - val_acc: 0.5360\n",
      "Epoch 3/30\n",
      "100/100 [==============================] - 79s 792ms/step - loss: 0.6793 - acc: 0.5705 - val_loss: 0.6636 - val_acc: 0.5510\n",
      "Epoch 4/30\n",
      "100/100 [==============================] - 78s 781ms/step - loss: 0.6775 - acc: 0.5755 - val_loss: 0.7107 - val_acc: 0.5640\n",
      "Epoch 5/30\n",
      "100/100 [==============================] - 77s 772ms/step - loss: 0.6673 - acc: 0.5790 - val_loss: 0.7608 - val_acc: 0.5660\n",
      "Epoch 6/30\n",
      "100/100 [==============================] - 78s 780ms/step - loss: 0.6600 - acc: 0.6105 - val_loss: 0.6908 - val_acc: 0.5900\n",
      "Epoch 7/30\n",
      "100/100 [==============================] - 79s 791ms/step - loss: 0.6519 - acc: 0.6135 - val_loss: 0.7862 - val_acc: 0.5880\n",
      "Epoch 8/30\n",
      "100/100 [==============================] - 78s 783ms/step - loss: 0.6531 - acc: 0.6175 - val_loss: 0.6287 - val_acc: 0.5600\n",
      "Epoch 9/30\n",
      "100/100 [==============================] - 78s 782ms/step - loss: 0.6353 - acc: 0.6505 - val_loss: 0.6863 - val_acc: 0.5830\n",
      "Epoch 10/30\n",
      "100/100 [==============================] - 79s 792ms/step - loss: 0.6296 - acc: 0.6470 - val_loss: 0.5556 - val_acc: 0.6210\n",
      "Epoch 11/30\n",
      "100/100 [==============================] - 79s 791ms/step - loss: 0.6281 - acc: 0.6465 - val_loss: 0.5698 - val_acc: 0.6250\n",
      "Epoch 12/30\n",
      "100/100 [==============================] - 78s 783ms/step - loss: 0.6181 - acc: 0.6570 - val_loss: 0.7698 - val_acc: 0.5780\n",
      "Epoch 13/30\n",
      "100/100 [==============================] - 77s 772ms/step - loss: 0.6074 - acc: 0.6635 - val_loss: 0.7183 - val_acc: 0.6210\n",
      "Epoch 14/30\n",
      "100/100 [==============================] - 80s 801ms/step - loss: 0.6105 - acc: 0.6665 - val_loss: 0.6875 - val_acc: 0.6040\n",
      "Epoch 15/30\n",
      "100/100 [==============================] - 80s 798ms/step - loss: 0.6020 - acc: 0.6665 - val_loss: 0.8054 - val_acc: 0.5580\n",
      "Epoch 16/30\n",
      "100/100 [==============================] - 80s 795ms/step - loss: 0.5933 - acc: 0.6745 - val_loss: 0.6980 - val_acc: 0.5650\n",
      "Epoch 17/30\n",
      "100/100 [==============================] - 80s 798ms/step - loss: 0.5752 - acc: 0.7050 - val_loss: 0.7598 - val_acc: 0.5880\n",
      "Epoch 18/30\n",
      "100/100 [==============================] - 80s 803ms/step - loss: 0.5650 - acc: 0.7060 - val_loss: 0.6195 - val_acc: 0.5880\n",
      "Epoch 19/30\n",
      "100/100 [==============================] - 81s 812ms/step - loss: 0.5720 - acc: 0.6985 - val_loss: 0.7401 - val_acc: 0.6020\n",
      "Epoch 20/30\n",
      "100/100 [==============================] - 79s 785ms/step - loss: 0.5484 - acc: 0.7270 - val_loss: 0.7554 - val_acc: 0.5820\n",
      "Epoch 21/30\n",
      "100/100 [==============================] - 81s 810ms/step - loss: 0.5408 - acc: 0.7205 - val_loss: 0.5925 - val_acc: 0.5950\n",
      "Epoch 22/30\n",
      "100/100 [==============================] - 81s 808ms/step - loss: 0.5445 - acc: 0.7175 - val_loss: 0.6484 - val_acc: 0.5510\n",
      "Epoch 23/30\n",
      "100/100 [==============================] - 80s 798ms/step - loss: 0.5354 - acc: 0.7270 - val_loss: 0.6351 - val_acc: 0.6040\n",
      "Epoch 24/30\n",
      "100/100 [==============================] - 79s 793ms/step - loss: 0.5227 - acc: 0.7350 - val_loss: 0.6337 - val_acc: 0.6120\n",
      "Epoch 25/30\n",
      "100/100 [==============================] - 80s 799ms/step - loss: 0.5042 - acc: 0.7535 - val_loss: 0.8064 - val_acc: 0.6110\n",
      "Epoch 26/30\n",
      "100/100 [==============================] - 80s 798ms/step - loss: 0.5021 - acc: 0.7565 - val_loss: 0.7664 - val_acc: 0.5910\n",
      "Epoch 27/30\n",
      "100/100 [==============================] - 78s 782ms/step - loss: 0.4927 - acc: 0.7635 - val_loss: 0.7562 - val_acc: 0.6070\n",
      "Epoch 28/30\n",
      "100/100 [==============================] - 79s 792ms/step - loss: 0.4726 - acc: 0.7715 - val_loss: 0.4957 - val_acc: 0.6190\n",
      "Epoch 29/30\n",
      "100/100 [==============================] - 79s 788ms/step - loss: 0.4755 - acc: 0.7735 - val_loss: 0.9140 - val_acc: 0.6280\n",
      "Epoch 30/30\n",
      "100/100 [==============================] - 80s 798ms/step - loss: 0.4654 - acc: 0.7865 - val_loss: 1.1521 - val_acc: 0.5660\n"
     ]
    }
   ],
   "source": [
    "history = model.fit_generator(\n",
    "      train_generator,\n",
    "      steps_per_epoch=100,\n",
    "      epochs=30,\n",
    "      validation_data=validation_generator,\n",
    "      validation_steps=50)"
   ]
  },
  {
   "cell_type": "markdown",
   "metadata": {},
   "source": [
    "# First model training:\n",
    "\n",
    "## Results:\n",
    "\n",
    "While this model included additional layers for the NN it was easily observable that the only difference with the previous model was a reduction in the accuracy obtained on the training level. This however didn't affected the accuracy obtained with the validation data-set. This two factors imply that while the model was not as efficient as before to achieve overtraining, it still continued lacking the capabilities of generalization required to adequately classify the validation set."
   ]
  },
  {
   "cell_type": "code",
   "execution_count": 19,
   "metadata": {
    "colab": {
     "base_uri": "https://localhost:8080/",
     "height": 232
    },
    "colab_type": "code",
    "executionInfo": {
     "elapsed": 374,
     "status": "error",
     "timestamp": 1583115068444,
     "user": {
      "displayName": "Jesús Leopoldo Llano García",
      "photoUrl": "https://lh3.googleusercontent.com/a-/AOh14Ggh50_e9Hk0sAIwY10hcKorQi0ew_DDbDNtDplE=s64",
      "userId": "11166401614180834702"
     },
     "user_tz": 360
    },
    "id": "pyjXYq1hfawz",
    "outputId": "c0b172e5-3827-4570-ca81-f7422623336d"
   },
   "outputs": [
    {
     "data": {
      "image/png": "[encoded data removed]",
      "text/plain": [
       "<Figure size 432x288 with 1 Axes>"
      ]
     },
     "metadata": {
      "needs_background": "light"
     },
     "output_type": "display_data"
    },
    {
     "data": {
      "image/png": "[encoded data removed]",
      "text/plain": [
       "<Figure size 432x288 with 1 Axes>"
      ]
     },
     "metadata": {
      "needs_background": "light"
     },
     "output_type": "display_data"
    }
   ],
   "source": [
    "import matplotlib.pyplot as plt\n",
    "\n",
    "acc = history.history['acc']\n",
    "val_acc = history.history['val_acc']\n",
    "loss = history.history['loss']\n",
    "val_loss = history.history['val_loss']\n",
    "\n",
    "epochs = range(len(acc))\n",
    "\n",
    "plt.plot(epochs, acc, 'bo', label='Training acc')\n",
    "plt.plot(epochs, val_acc, 'b', label='Validation acc')\n",
    "plt.title('Training and validation accuracy')\n",
    "plt.legend()\n",
    "\n",
    "plt.figure()\n",
    "\n",
    "plt.plot(epochs, loss, 'bo', label='Training loss')\n",
    "plt.plot(epochs, val_loss, 'b', label='Validation loss')\n",
    "plt.title('Training and validation loss')\n",
    "plt.legend()\n",
    "\n",
    "plt.show()"
   ]
  },
  {
   "cell_type": "markdown",
   "metadata": {},
   "source": [
    "# Second neural network:\n",
    "\n",
    "## Network architecture:\n",
    "\n",
    "This network has only two hidden layers.\n",
    "\n",
    "1. Input layer: 150 x 150 x 3 neurons \n",
    "2. First layer: 512 fully connected neurons, activated by rectified linear unit.\n",
    "3. Second layer: 512 fully connected neurons, activated by rectified linear unit.\n",
    "5. Output layer: 1 Sigmoid activated neuron."
   ]
  },
  {
   "cell_type": "code",
   "execution_count": 20,
   "metadata": {},
   "outputs": [],
   "source": [
    "model = models.Sequential()\n",
    "model.add(layers.Flatten(input_shape=(150, 150, 3)))\n",
    "model.add(layers.Dense(512, activation='relu'))\n",
    "model.add(layers.Dense(512, activation='relu'))\n",
    "model.add(layers.Dense(1, activation='sigmoid'))"
   ]
  },
  {
   "cell_type": "code",
   "execution_count": 21,
   "metadata": {
    "colab": {},
    "colab_type": "code",
    "id": "FObu2eXefawi"
   },
   "outputs": [
    {
     "name": "stdout",
     "output_type": "stream",
     "text": [
      "Model: \"sequential_3\"\n",
      "_________________________________________________________________\n",
      "Layer (type)                 Output Shape              Param #   \n",
      "=================================================================\n",
      "flatten_3 (Flatten)          (None, 67500)             0         \n",
      "_________________________________________________________________\n",
      "dense_11 (Dense)             (None, 512)               34560512  \n",
      "_________________________________________________________________\n",
      "dense_12 (Dense)             (None, 512)               262656    \n",
      "_________________________________________________________________\n",
      "dense_13 (Dense)             (None, 1)                 513       \n",
      "=================================================================\n",
      "Total params: 34,823,681\n",
      "Trainable params: 34,823,681\n",
      "Non-trainable params: 0\n",
      "_________________________________________________________________\n"
     ]
    }
   ],
   "source": [
    "model.summary()"
   ]
  },
  {
   "cell_type": "code",
   "execution_count": 22,
   "metadata": {
    "colab": {},
    "colab_type": "code",
    "id": "UTAfXDR_fawm"
   },
   "outputs": [],
   "source": [
    "from keras import optimizers\n",
    "\n",
    "model.compile(loss='binary_crossentropy',\n",
    "              optimizer=optimizers.SGD(lr=0.01, momentum=0.0, decay=0.0, nesterov=False),\n",
    "              metrics=['acc'])"
   ]
  },
  {
   "cell_type": "markdown",
   "metadata": {},
   "source": [
    "# Example model training:\n",
    "\n",
    "## Characteristics:\n",
    "\n",
    "1. Batch in training: 20\n",
    "2. Batch in validation: 20\n",
    "3. Steps per epoch: 100\n",
    "4. Epochs: 30\n",
    "5. Validation steps:50\n",
    "6. Learning rate: 0.01"
   ]
  },
  {
   "cell_type": "code",
   "execution_count": 23,
   "metadata": {
    "colab": {},
    "colab_type": "code",
    "id": "iHHoZxNFfawx"
   },
   "outputs": [
    {
     "name": "stdout",
     "output_type": "stream",
     "text": [
      "Epoch 1/30\n",
      "100/100 [==============================] - 78s 777ms/step - loss: 0.7245 - acc: 0.5190 - val_loss: 0.7817 - val_acc: 0.5010\n",
      "Epoch 2/30\n",
      "100/100 [==============================] - 77s 774ms/step - loss: 0.6959 - acc: 0.5350 - val_loss: 0.7919 - val_acc: 0.5040\n",
      "Epoch 3/30\n",
      "100/100 [==============================] - 76s 765ms/step - loss: 0.6914 - acc: 0.5485 - val_loss: 0.7021 - val_acc: 0.5670\n",
      "Epoch 4/30\n",
      "100/100 [==============================] - 74s 745ms/step - loss: 0.6742 - acc: 0.5785 - val_loss: 0.8774 - val_acc: 0.5080\n",
      "Epoch 5/30\n",
      "100/100 [==============================] - 77s 771ms/step - loss: 0.6727 - acc: 0.5850 - val_loss: 0.7171 - val_acc: 0.5900\n",
      "Epoch 6/30\n",
      "100/100 [==============================] - 77s 769ms/step - loss: 0.6717 - acc: 0.5940 - val_loss: 0.6223 - val_acc: 0.5850\n",
      "Epoch 7/30\n",
      "100/100 [==============================] - 77s 770ms/step - loss: 0.6474 - acc: 0.6135 - val_loss: 0.7782 - val_acc: 0.5600\n",
      "Epoch 8/30\n",
      "100/100 [==============================] - 77s 766ms/step - loss: 0.6428 - acc: 0.6205 - val_loss: 0.6514 - val_acc: 0.6100\n",
      "Epoch 9/30\n",
      "100/100 [==============================] - 77s 770ms/step - loss: 0.6360 - acc: 0.6345 - val_loss: 0.5751 - val_acc: 0.5490\n",
      "Epoch 10/30\n",
      "100/100 [==============================] - 77s 766ms/step - loss: 0.6241 - acc: 0.6460 - val_loss: 0.6967 - val_acc: 0.5370\n",
      "Epoch 11/30\n",
      "100/100 [==============================] - 74s 739ms/step - loss: 0.6187 - acc: 0.6520 - val_loss: 0.5610 - val_acc: 0.5860\n",
      "Epoch 12/30\n",
      "100/100 [==============================] - 76s 760ms/step - loss: 0.6156 - acc: 0.6515 - val_loss: 0.6999 - val_acc: 0.6240\n",
      "Epoch 13/30\n",
      "100/100 [==============================] - 77s 769ms/step - loss: 0.5986 - acc: 0.6815 - val_loss: 0.5301 - val_acc: 0.5770\n",
      "Epoch 14/30\n",
      "100/100 [==============================] - 77s 765ms/step - loss: 0.5998 - acc: 0.6645 - val_loss: 0.5305 - val_acc: 0.5970\n",
      "Epoch 15/30\n",
      "100/100 [==============================] - 76s 759ms/step - loss: 0.5763 - acc: 0.6940 - val_loss: 0.7818 - val_acc: 0.5260\n",
      "Epoch 16/30\n",
      "100/100 [==============================] - 75s 755ms/step - loss: 0.5709 - acc: 0.7050 - val_loss: 0.6872 - val_acc: 0.6220\n",
      "Epoch 17/30\n",
      "100/100 [==============================] - 76s 762ms/step - loss: 0.5592 - acc: 0.7075 - val_loss: 0.6997 - val_acc: 0.5410\n",
      "Epoch 18/30\n",
      "100/100 [==============================] - 72s 721ms/step - loss: 0.5483 - acc: 0.7120 - val_loss: 0.5204 - val_acc: 0.6210\n",
      "Epoch 19/30\n",
      "100/100 [==============================] - 76s 756ms/step - loss: 0.5395 - acc: 0.7165 - val_loss: 0.8116 - val_acc: 0.5930\n",
      "Epoch 20/30\n",
      "100/100 [==============================] - 77s 772ms/step - loss: 0.5335 - acc: 0.7290 - val_loss: 0.8906 - val_acc: 0.5890\n",
      "Epoch 21/30\n",
      "100/100 [==============================] - 77s 771ms/step - loss: 0.5220 - acc: 0.7390 - val_loss: 0.9231 - val_acc: 0.6110\n",
      "Epoch 22/30\n",
      "100/100 [==============================] - 75s 755ms/step - loss: 0.5096 - acc: 0.7490 - val_loss: 0.7439 - val_acc: 0.6030\n",
      "Epoch 23/30\n",
      "100/100 [==============================] - 76s 763ms/step - loss: 0.4978 - acc: 0.7535 - val_loss: 0.9582 - val_acc: 0.5440\n",
      "Epoch 24/30\n",
      "100/100 [==============================] - 72s 723ms/step - loss: 0.5013 - acc: 0.7570 - val_loss: 0.8553 - val_acc: 0.6100\n",
      "Epoch 25/30\n",
      "100/100 [==============================] - 74s 737ms/step - loss: 0.4874 - acc: 0.7680 - val_loss: 0.5046 - val_acc: 0.6150\n",
      "Epoch 26/30\n",
      "100/100 [==============================] - 75s 755ms/step - loss: 0.4788 - acc: 0.7640 - val_loss: 0.6156 - val_acc: 0.5930\n",
      "Epoch 27/30\n",
      "100/100 [==============================] - 76s 758ms/step - loss: 0.4546 - acc: 0.7835 - val_loss: 0.4892 - val_acc: 0.6140\n",
      "Epoch 28/30\n",
      "100/100 [==============================] - 76s 756ms/step - loss: 0.4491 - acc: 0.7890 - val_loss: 0.7521 - val_acc: 0.6050\n",
      "Epoch 29/30\n",
      "100/100 [==============================] - 73s 729ms/step - loss: 0.4436 - acc: 0.7870 - val_loss: 1.5052 - val_acc: 0.5800\n",
      "Epoch 30/30\n",
      "100/100 [==============================] - 73s 732ms/step - loss: 0.4118 - acc: 0.8020 - val_loss: 1.4361 - val_acc: 0.5970\n"
     ]
    }
   ],
   "source": [
    "history = model.fit_generator(\n",
    "      train_generator,\n",
    "      steps_per_epoch=100,\n",
    "      epochs=30,\n",
    "      validation_data=validation_generator,\n",
    "      validation_steps=50)"
   ]
  },
  {
   "cell_type": "markdown",
   "metadata": {},
   "source": [
    "# Second model training:\n",
    "\n",
    "## Results:\n",
    "\n",
    "Here again the results show a considerable decrease on the accuracy during the training phase and relatively no impovement during validation. This again confirms with high probability that the model overfitted, however again not as much as the original 4-layer model."
   ]
  },
  {
   "cell_type": "code",
   "execution_count": 24,
   "metadata": {
    "colab": {
     "base_uri": "https://localhost:8080/",
     "height": 232
    },
    "colab_type": "code",
    "executionInfo": {
     "elapsed": 374,
     "status": "error",
     "timestamp": 1583115068444,
     "user": {
      "displayName": "Jesús Leopoldo Llano García",
      "photoUrl": "https://lh3.googleusercontent.com/a-/AOh14Ggh50_e9Hk0sAIwY10hcKorQi0ew_DDbDNtDplE=s64",
      "userId": "11166401614180834702"
     },
     "user_tz": 360
    },
    "id": "pyjXYq1hfawz",
    "outputId": "c0b172e5-3827-4570-ca81-f7422623336d"
   },
   "outputs": [
    {
     "data": {
      "image/png": "[encoded data removed]",
      "text/plain": [
       "<Figure size 432x288 with 1 Axes>"
      ]
     },
     "metadata": {
      "needs_background": "light"
     },
     "output_type": "display_data"
    },
    {
     "data": {
      "image/png": "[encoded data removed]",
      "text/plain": [
       "<Figure size 432x288 with 1 Axes>"
      ]
     },
     "metadata": {
      "needs_background": "light"
     },
     "output_type": "display_data"
    }
   ],
   "source": [
    "import matplotlib.pyplot as plt\n",
    "\n",
    "acc = history.history['acc']\n",
    "val_acc = history.history['val_acc']\n",
    "loss = history.history['loss']\n",
    "val_loss = history.history['val_loss']\n",
    "\n",
    "epochs = range(len(acc))\n",
    "\n",
    "plt.plot(epochs, acc, 'bo', label='Training acc')\n",
    "plt.plot(epochs, val_acc, 'b', label='Validation acc')\n",
    "plt.title('Training and validation accuracy')\n",
    "plt.legend()\n",
    "\n",
    "plt.figure()\n",
    "\n",
    "plt.plot(epochs, loss, 'bo', label='Training loss')\n",
    "plt.plot(epochs, val_loss, 'b', label='Validation loss')\n",
    "plt.title('Training and validation loss')\n",
    "plt.legend()\n",
    "\n",
    "plt.show()"
   ]
  },
  {
   "cell_type": "markdown",
   "metadata": {},
   "source": [
    "# Third neural network:\n",
    "\n",
    "## Network architecture:\n",
    "\n",
    "For this architecture, we decreased the number of units in the first and third layer by half\n",
    "\n",
    "1. Input layer: 150 x 150 x 3 neurons \n",
    "2. First layer: 256 fully connected neurons, activated by rectified linear unit.\n",
    "3. Second layer: 512 fully connected neurons, activated by rectified linear unit.\n",
    "4. Third layer: 256 fully connected neurons, activated by rectified linear unit.\n",
    "5. Output layer: 1 Sigmoid activated neuron."
   ]
  },
  {
   "cell_type": "code",
   "execution_count": 25,
   "metadata": {},
   "outputs": [],
   "source": [
    "model = models.Sequential()\n",
    "model.add(layers.Flatten(input_shape=(150, 150, 3)))\n",
    "model.add(layers.Dense(256, activation='relu'))\n",
    "model.add(layers.Dense(512, activation='relu'))\n",
    "model.add(layers.Dense(256, activation='relu'))\n",
    "model.add(layers.Dense(1, activation='sigmoid'))"
   ]
  },
  {
   "cell_type": "code",
   "execution_count": 26,
   "metadata": {
    "colab": {},
    "colab_type": "code",
    "id": "FObu2eXefawi"
   },
   "outputs": [
    {
     "name": "stdout",
     "output_type": "stream",
     "text": [
      "Model: \"sequential_4\"\n",
      "_________________________________________________________________\n",
      "Layer (type)                 Output Shape              Param #   \n",
      "=================================================================\n",
      "flatten_4 (Flatten)          (None, 67500)             0         \n",
      "_________________________________________________________________\n",
      "dense_14 (Dense)             (None, 256)               17280256  \n",
      "_________________________________________________________________\n",
      "dense_15 (Dense)             (None, 512)               131584    \n",
      "_________________________________________________________________\n",
      "dense_16 (Dense)             (None, 256)               131328    \n",
      "_________________________________________________________________\n",
      "dense_17 (Dense)             (None, 1)                 257       \n",
      "=================================================================\n",
      "Total params: 17,543,425\n",
      "Trainable params: 17,543,425\n",
      "Non-trainable params: 0\n",
      "_________________________________________________________________\n"
     ]
    }
   ],
   "source": [
    "model.summary()"
   ]
  },
  {
   "cell_type": "code",
   "execution_count": 27,
   "metadata": {
    "colab": {},
    "colab_type": "code",
    "id": "UTAfXDR_fawm"
   },
   "outputs": [],
   "source": [
    "from keras import optimizers\n",
    "\n",
    "model.compile(loss='binary_crossentropy',\n",
    "              optimizer=optimizers.SGD(lr=0.01, momentum=0.0, decay=0.0, nesterov=False),\n",
    "              metrics=['acc'])"
   ]
  },
  {
   "cell_type": "markdown",
   "metadata": {},
   "source": [
    "# Third model training:\n",
    "\n",
    "## Characteristics:\n",
    "\n",
    "1. Batch in training: 20\n",
    "2. Batch in validation: 20\n",
    "3. Steps per epoch: 100\n",
    "4. Epochs: 30\n",
    "5. Validation steps:50\n",
    "6. Learning rate: 0.01"
   ]
  },
  {
   "cell_type": "code",
   "execution_count": 28,
   "metadata": {
    "colab": {},
    "colab_type": "code",
    "id": "iHHoZxNFfawx"
   },
   "outputs": [
    {
     "name": "stdout",
     "output_type": "stream",
     "text": [
      "Epoch 1/30\n",
      "100/100 [==============================] - 44s 442ms/step - loss: 0.7169 - acc: 0.5240 - val_loss: 0.7255 - val_acc: 0.5050\n",
      "Epoch 2/30\n",
      "100/100 [==============================] - 44s 441ms/step - loss: 0.6929 - acc: 0.5205 - val_loss: 0.6936 - val_acc: 0.5680\n",
      "Epoch 3/30\n",
      "100/100 [==============================] - 44s 442ms/step - loss: 0.6836 - acc: 0.5645 - val_loss: 0.7156 - val_acc: 0.5710\n",
      "Epoch 4/30\n",
      "100/100 [==============================] - 42s 424ms/step - loss: 0.6837 - acc: 0.5635 - val_loss: 0.6511 - val_acc: 0.5620\n",
      "Epoch 5/30\n",
      "100/100 [==============================] - 46s 459ms/step - loss: 0.6768 - acc: 0.5660 - val_loss: 0.6625 - val_acc: 0.5750\n",
      "Epoch 6/30\n",
      "100/100 [==============================] - 46s 458ms/step - loss: 0.6703 - acc: 0.5860 - val_loss: 0.6155 - val_acc: 0.5490\n",
      "Epoch 7/30\n",
      "100/100 [==============================] - 46s 463ms/step - loss: 0.6533 - acc: 0.6110 - val_loss: 0.5881 - val_acc: 0.6050\n",
      "Epoch 8/30\n",
      "100/100 [==============================] - 47s 465ms/step - loss: 0.6576 - acc: 0.6015 - val_loss: 0.5981 - val_acc: 0.5600\n",
      "Epoch 9/30\n",
      "100/100 [==============================] - 46s 456ms/step - loss: 0.6481 - acc: 0.6260 - val_loss: 0.6879 - val_acc: 0.6080\n",
      "Epoch 10/30\n",
      "100/100 [==============================] - 46s 462ms/step - loss: 0.6387 - acc: 0.6405 - val_loss: 0.7162 - val_acc: 0.6220\n",
      "Epoch 11/30\n",
      "100/100 [==============================] - 46s 459ms/step - loss: 0.6290 - acc: 0.6500 - val_loss: 0.6617 - val_acc: 0.6250\n",
      "Epoch 12/30\n",
      "100/100 [==============================] - 46s 459ms/step - loss: 0.6237 - acc: 0.6445 - val_loss: 0.6786 - val_acc: 0.5890\n",
      "Epoch 13/30\n",
      "100/100 [==============================] - 46s 463ms/step - loss: 0.6303 - acc: 0.6370 - val_loss: 0.6268 - val_acc: 0.5680\n",
      "Epoch 14/30\n",
      "100/100 [==============================] - 46s 461ms/step - loss: 0.6111 - acc: 0.6625 - val_loss: 0.6795 - val_acc: 0.5650\n",
      "Epoch 15/30\n",
      "100/100 [==============================] - 46s 461ms/step - loss: 0.6019 - acc: 0.6785 - val_loss: 0.7524 - val_acc: 0.6030\n",
      "Epoch 16/30\n",
      "100/100 [==============================] - 46s 464ms/step - loss: 0.5881 - acc: 0.6685 - val_loss: 0.6633 - val_acc: 0.6060\n",
      "Epoch 17/30\n",
      "100/100 [==============================] - 46s 464ms/step - loss: 0.5786 - acc: 0.7050 - val_loss: 0.6814 - val_acc: 0.6170\n",
      "Epoch 18/30\n",
      "100/100 [==============================] - 46s 456ms/step - loss: 0.5731 - acc: 0.6885 - val_loss: 0.8172 - val_acc: 0.6050\n",
      "Epoch 19/30\n",
      "100/100 [==============================] - 46s 459ms/step - loss: 0.5684 - acc: 0.6980 - val_loss: 0.6592 - val_acc: 0.6120\n",
      "Epoch 20/30\n",
      "100/100 [==============================] - 46s 465ms/step - loss: 0.5680 - acc: 0.7005 - val_loss: 1.0143 - val_acc: 0.5620\n",
      "Epoch 21/30\n",
      "100/100 [==============================] - 46s 458ms/step - loss: 0.5558 - acc: 0.7110 - val_loss: 0.7517 - val_acc: 0.5510\n",
      "Epoch 22/30\n",
      "100/100 [==============================] - 46s 459ms/step - loss: 0.5367 - acc: 0.7365 - val_loss: 0.7981 - val_acc: 0.6310\n",
      "Epoch 23/30\n",
      "100/100 [==============================] - 46s 461ms/step - loss: 0.5475 - acc: 0.7210 - val_loss: 0.8582 - val_acc: 0.5850\n",
      "Epoch 24/30\n",
      "100/100 [==============================] - 46s 456ms/step - loss: 0.5357 - acc: 0.7285 - val_loss: 0.5373 - val_acc: 0.6180\n",
      "Epoch 25/30\n",
      "100/100 [==============================] - 46s 456ms/step - loss: 0.5344 - acc: 0.7295 - val_loss: 0.5687 - val_acc: 0.6120\n",
      "Epoch 26/30\n",
      "100/100 [==============================] - 46s 464ms/step - loss: 0.5289 - acc: 0.7315 - val_loss: 0.9681 - val_acc: 0.6220\n",
      "Epoch 27/30\n",
      "100/100 [==============================] - 46s 457ms/step - loss: 0.5174 - acc: 0.7410 - val_loss: 0.6475 - val_acc: 0.5910\n",
      "Epoch 28/30\n",
      "100/100 [==============================] - 47s 467ms/step - loss: 0.5080 - acc: 0.7415 - val_loss: 0.8467 - val_acc: 0.5920\n",
      "Epoch 29/30\n",
      "100/100 [==============================] - 46s 464ms/step - loss: 0.4899 - acc: 0.7560 - val_loss: 0.7938 - val_acc: 0.6040\n",
      "Epoch 30/30\n",
      "100/100 [==============================] - 46s 460ms/step - loss: 0.4665 - acc: 0.7620 - val_loss: 0.6965 - val_acc: 0.6120\n"
     ]
    }
   ],
   "source": [
    "history = model.fit_generator(\n",
    "      train_generator,\n",
    "      steps_per_epoch=100,\n",
    "      epochs=30,\n",
    "      validation_data=validation_generator,\n",
    "      validation_steps=50)"
   ]
  },
  {
   "cell_type": "markdown",
   "metadata": {},
   "source": [
    "# Third model training:\n",
    "\n",
    "## Results:\n",
    "\n",
    "Validation accuracy improved if any the slightest as it seems to have acquired an upwards trend, yet again the model seems to have overfitted with the training set but with a poorer performance than that of all the previous models."
   ]
  },
  {
   "cell_type": "code",
   "execution_count": 29,
   "metadata": {
    "colab": {
     "base_uri": "https://localhost:8080/",
     "height": 232
    },
    "colab_type": "code",
    "executionInfo": {
     "elapsed": 374,
     "status": "error",
     "timestamp": 1583115068444,
     "user": {
      "displayName": "Jesús Leopoldo Llano García",
      "photoUrl": "https://lh3.googleusercontent.com/a-/AOh14Ggh50_e9Hk0sAIwY10hcKorQi0ew_DDbDNtDplE=s64",
      "userId": "11166401614180834702"
     },
     "user_tz": 360
    },
    "id": "pyjXYq1hfawz",
    "outputId": "c0b172e5-3827-4570-ca81-f7422623336d"
   },
   "outputs": [
    {
     "data": {
      "image/png": "[encoded data removed]",
      "text/plain": [
       "<Figure size 432x288 with 1 Axes>"
      ]
     },
     "metadata": {
      "needs_background": "light"
     },
     "output_type": "display_data"
    },
    {
     "data": {
      "image/png": "[encoded data removed]",
      "text/plain": [
       "<Figure size 432x288 with 1 Axes>"
      ]
     },
     "metadata": {
      "needs_background": "light"
     },
     "output_type": "display_data"
    }
   ],
   "source": [
    "import matplotlib.pyplot as plt\n",
    "\n",
    "acc = history.history['acc']\n",
    "val_acc = history.history['val_acc']\n",
    "loss = history.history['loss']\n",
    "val_loss = history.history['val_loss']\n",
    "\n",
    "epochs = range(len(acc))\n",
    "\n",
    "plt.plot(epochs, acc, 'bo', label='Training acc')\n",
    "plt.plot(epochs, val_acc, 'b', label='Validation acc')\n",
    "plt.title('Training and validation accuracy')\n",
    "plt.legend()\n",
    "\n",
    "plt.figure()\n",
    "\n",
    "plt.plot(epochs, loss, 'bo', label='Training loss')\n",
    "plt.plot(epochs, val_loss, 'b', label='Validation loss')\n",
    "plt.title('Training and validation loss')\n",
    "plt.legend()\n",
    "\n",
    "plt.show()"
   ]
  },
  {
   "cell_type": "markdown",
   "metadata": {},
   "source": [
    "# Fourth neural network:\n",
    "\n",
    "## Network architecture:\n",
    "\n",
    "The network has five hidden layers, but the number of neurons is reduced from 512 to 256\n",
    "\n",
    "1. Input layer: 150 x 150 x 3 neurons \n",
    "2. First layer: 256 fully connected neurons, activated by rectified linear unit.\n",
    "3. Second layer: 256 fully connected neurons, activated by rectified linear unit.\n",
    "4. Third layer: 256 fully connected neurons, activated by rectified linear unit.\n",
    "5. Fourth layer: 256 fully connected neurons, activated by rectified linear unit.\n",
    "6. Fifth layer :256 fully connected neurons, activated by rectified linear unit.\n",
    "7. Output layer: 1 Sigmoid activated neuron."
   ]
  },
  {
   "cell_type": "code",
   "execution_count": 30,
   "metadata": {},
   "outputs": [],
   "source": [
    "model = models.Sequential()\n",
    "model.add(layers.Flatten(input_shape=(150, 150, 3)))\n",
    "model.add(layers.Dense(256, activation='relu'))\n",
    "model.add(layers.Dense(256, activation='relu'))\n",
    "model.add(layers.Dense(256, activation='relu'))\n",
    "model.add(layers.Dense(256, activation='relu'))\n",
    "model.add(layers.Dense(256, activation='relu'))\n",
    "model.add(layers.Dense(1, activation='sigmoid'))"
   ]
  },
  {
   "cell_type": "code",
   "execution_count": 31,
   "metadata": {
    "colab": {},
    "colab_type": "code",
    "id": "FObu2eXefawi"
   },
   "outputs": [
    {
     "name": "stdout",
     "output_type": "stream",
     "text": [
      "Model: \"sequential_5\"\n",
      "_________________________________________________________________\n",
      "Layer (type)                 Output Shape              Param #   \n",
      "=================================================================\n",
      "flatten_5 (Flatten)          (None, 67500)             0         \n",
      "_________________________________________________________________\n",
      "dense_18 (Dense)             (None, 256)               17280256  \n",
      "_________________________________________________________________\n",
      "dense_19 (Dense)             (None, 256)               65792     \n",
      "_________________________________________________________________\n",
      "dense_20 (Dense)             (None, 256)               65792     \n",
      "_________________________________________________________________\n",
      "dense_21 (Dense)             (None, 256)               65792     \n",
      "_________________________________________________________________\n",
      "dense_22 (Dense)             (None, 256)               65792     \n",
      "_________________________________________________________________\n",
      "dense_23 (Dense)             (None, 1)                 257       \n",
      "=================================================================\n",
      "Total params: 17,543,681\n",
      "Trainable params: 17,543,681\n",
      "Non-trainable params: 0\n",
      "_________________________________________________________________\n"
     ]
    }
   ],
   "source": [
    "model.summary()"
   ]
  },
  {
   "cell_type": "code",
   "execution_count": 32,
   "metadata": {
    "colab": {},
    "colab_type": "code",
    "id": "UTAfXDR_fawm"
   },
   "outputs": [],
   "source": [
    "from keras import optimizers\n",
    "\n",
    "model.compile(loss='binary_crossentropy',\n",
    "              optimizer=optimizers.SGD(lr=0.01, momentum=0.0, decay=0.0, nesterov=False),\n",
    "              metrics=['acc'])"
   ]
  },
  {
   "cell_type": "markdown",
   "metadata": {},
   "source": [
    "# Fourth model training:\n",
    "\n",
    "## Characteristics:\n",
    "\n",
    "1. Batch in training: 20\n",
    "2. Batch in validation: 20\n",
    "3. Steps per epoch: 100\n",
    "4. Epochs: 30\n",
    "5. Validation steps:50\n",
    "6. Learning rate: 0.01"
   ]
  },
  {
   "cell_type": "code",
   "execution_count": 33,
   "metadata": {
    "colab": {},
    "colab_type": "code",
    "id": "iHHoZxNFfawx"
   },
   "outputs": [
    {
     "name": "stdout",
     "output_type": "stream",
     "text": [
      "Epoch 1/30\n",
      "100/100 [==============================] - 47s 466ms/step - loss: 0.6960 - acc: 0.5220 - val_loss: 0.6661 - val_acc: 0.5360\n",
      "Epoch 2/30\n",
      "100/100 [==============================] - 46s 461ms/step - loss: 0.6872 - acc: 0.5545 - val_loss: 0.6958 - val_acc: 0.5160\n",
      "Epoch 3/30\n",
      "100/100 [==============================] - 47s 467ms/step - loss: 0.6819 - acc: 0.5610 - val_loss: 0.6736 - val_acc: 0.5570\n",
      "Epoch 4/30\n",
      "100/100 [==============================] - 46s 461ms/step - loss: 0.6723 - acc: 0.5800 - val_loss: 0.7100 - val_acc: 0.5670\n",
      "Epoch 5/30\n",
      "100/100 [==============================] - 46s 463ms/step - loss: 0.6621 - acc: 0.6070 - val_loss: 0.7242 - val_acc: 0.5540\n",
      "Epoch 6/30\n",
      "100/100 [==============================] - 47s 466ms/step - loss: 0.6605 - acc: 0.6100 - val_loss: 0.6985 - val_acc: 0.5810\n",
      "Epoch 7/30\n",
      "100/100 [==============================] - 46s 459ms/step - loss: 0.6562 - acc: 0.6150 - val_loss: 0.5765 - val_acc: 0.5650\n",
      "Epoch 8/30\n",
      "100/100 [==============================] - 46s 460ms/step - loss: 0.6463 - acc: 0.6155 - val_loss: 0.6682 - val_acc: 0.5830\n",
      "Epoch 9/30\n",
      "100/100 [==============================] - 47s 466ms/step - loss: 0.6394 - acc: 0.6360 - val_loss: 0.7068 - val_acc: 0.6030\n",
      "Epoch 10/30\n",
      "100/100 [==============================] - 46s 464ms/step - loss: 0.6365 - acc: 0.6375 - val_loss: 0.6146 - val_acc: 0.5530\n",
      "Epoch 11/30\n",
      "100/100 [==============================] - 46s 459ms/step - loss: 0.6295 - acc: 0.6425 - val_loss: 0.8257 - val_acc: 0.5780\n",
      "Epoch 12/30\n",
      "100/100 [==============================] - 46s 463ms/step - loss: 0.6278 - acc: 0.6370 - val_loss: 0.7354 - val_acc: 0.5970\n",
      "Epoch 13/30\n",
      "100/100 [==============================] - 46s 462ms/step - loss: 0.6159 - acc: 0.6470 - val_loss: 0.7183 - val_acc: 0.5540\n",
      "Epoch 14/30\n",
      "100/100 [==============================] - 46s 461ms/step - loss: 0.6043 - acc: 0.6695 - val_loss: 0.6332 - val_acc: 0.6290\n",
      "Epoch 15/30\n",
      "100/100 [==============================] - 46s 462ms/step - loss: 0.6024 - acc: 0.6700 - val_loss: 0.6254 - val_acc: 0.6080\n",
      "Epoch 16/30\n",
      "100/100 [==============================] - 46s 457ms/step - loss: 0.5884 - acc: 0.6825 - val_loss: 0.6097 - val_acc: 0.6250\n",
      "Epoch 17/30\n",
      "100/100 [==============================] - 46s 460ms/step - loss: 0.5780 - acc: 0.6890 - val_loss: 0.6746 - val_acc: 0.5970\n",
      "Epoch 18/30\n",
      "100/100 [==============================] - 46s 461ms/step - loss: 0.5791 - acc: 0.6945 - val_loss: 0.7211 - val_acc: 0.6150\n",
      "Epoch 19/30\n",
      "100/100 [==============================] - 46s 460ms/step - loss: 0.5755 - acc: 0.6915 - val_loss: 0.5969 - val_acc: 0.5790\n",
      "Epoch 20/30\n",
      "100/100 [==============================] - 46s 457ms/step - loss: 0.5546 - acc: 0.7185 - val_loss: 1.0448 - val_acc: 0.5350\n",
      "Epoch 21/30\n",
      "100/100 [==============================] - 47s 465ms/step - loss: 0.5372 - acc: 0.7260 - val_loss: 0.5672 - val_acc: 0.6190\n",
      "Epoch 22/30\n",
      "100/100 [==============================] - 46s 462ms/step - loss: 0.5438 - acc: 0.7150 - val_loss: 0.9690 - val_acc: 0.6080\n",
      "Epoch 23/30\n",
      "100/100 [==============================] - 46s 459ms/step - loss: 0.5430 - acc: 0.7205 - val_loss: 0.9735 - val_acc: 0.5780\n",
      "Epoch 24/30\n",
      "100/100 [==============================] - 46s 461ms/step - loss: 0.5284 - acc: 0.7340 - val_loss: 0.4356 - val_acc: 0.6190\n",
      "Epoch 25/30\n",
      "100/100 [==============================] - 46s 461ms/step - loss: 0.5329 - acc: 0.7305 - val_loss: 0.5714 - val_acc: 0.6170\n",
      "Epoch 26/30\n",
      "100/100 [==============================] - 46s 460ms/step - loss: 0.5075 - acc: 0.7395 - val_loss: 0.7453 - val_acc: 0.6150\n",
      "Epoch 27/30\n",
      "100/100 [==============================] - 47s 466ms/step - loss: 0.4982 - acc: 0.7520 - val_loss: 0.6309 - val_acc: 0.6400\n",
      "Epoch 28/30\n",
      "100/100 [==============================] - 46s 458ms/step - loss: 0.4882 - acc: 0.7745 - val_loss: 0.7043 - val_acc: 0.5920\n",
      "Epoch 29/30\n",
      "100/100 [==============================] - 46s 461ms/step - loss: 0.4855 - acc: 0.7645 - val_loss: 0.6624 - val_acc: 0.6300\n",
      "Epoch 30/30\n",
      "100/100 [==============================] - 47s 466ms/step - loss: 0.4830 - acc: 0.7635 - val_loss: 1.3272 - val_acc: 0.5210\n"
     ]
    }
   ],
   "source": [
    "history = model.fit_generator(\n",
    "      train_generator,\n",
    "      steps_per_epoch=100,\n",
    "      epochs=30,\n",
    "      validation_data=validation_generator,\n",
    "      validation_steps=50)"
   ]
  },
  {
   "cell_type": "markdown",
   "metadata": {},
   "source": [
    "# Fourth model training:\n",
    "\n",
    "## Results:\n",
    "\n",
    "The training accuracy of this particular model increased too much without improving the validation accuracy, again this model got overfitted. And not surprisingly the validation accuracy seemed to have lost any coherence or any possible increment showing almost random behaviour."
   ]
  },
  {
   "cell_type": "code",
   "execution_count": 34,
   "metadata": {
    "colab": {
     "base_uri": "https://localhost:8080/",
     "height": 232
    },
    "colab_type": "code",
    "executionInfo": {
     "elapsed": 374,
     "status": "error",
     "timestamp": 1583115068444,
     "user": {
      "displayName": "Jesús Leopoldo Llano García",
      "photoUrl": "https://lh3.googleusercontent.com/a-/AOh14Ggh50_e9Hk0sAIwY10hcKorQi0ew_DDbDNtDplE=s64",
      "userId": "11166401614180834702"
     },
     "user_tz": 360
    },
    "id": "pyjXYq1hfawz",
    "outputId": "c0b172e5-3827-4570-ca81-f7422623336d"
   },
   "outputs": [
    {
     "data": {
      "image/png": "[encoded data removed]",
      "text/plain": [
       "<Figure size 432x288 with 1 Axes>"
      ]
     },
     "metadata": {
      "needs_background": "light"
     },
     "output_type": "display_data"
    },
    {
     "data": {
      "image/png": "[encoded data removed]",
      "text/plain": [
       "<Figure size 432x288 with 1 Axes>"
      ]
     },
     "metadata": {
      "needs_background": "light"
     },
     "output_type": "display_data"
    }
   ],
   "source": [
    "import matplotlib.pyplot as plt\n",
    "\n",
    "acc = history.history['acc']\n",
    "val_acc = history.history['val_acc']\n",
    "loss = history.history['loss']\n",
    "val_loss = history.history['val_loss']\n",
    "\n",
    "epochs = range(len(acc))\n",
    "\n",
    "plt.plot(epochs, acc, 'bo', label='Training acc')\n",
    "plt.plot(epochs, val_acc, 'b', label='Validation acc')\n",
    "plt.title('Training and validation accuracy')\n",
    "plt.legend()\n",
    "\n",
    "plt.figure()\n",
    "\n",
    "plt.plot(epochs, loss, 'bo', label='Training loss')\n",
    "plt.plot(epochs, val_loss, 'b', label='Validation loss')\n",
    "plt.title('Training and validation loss')\n",
    "plt.legend()\n",
    "\n",
    "plt.show()"
   ]
  },
  {
   "cell_type": "markdown",
   "metadata": {},
   "source": [
    "# Fifth neural network:\n",
    "\n",
    "## Network architecture:\n",
    "\n",
    "\n",
    "1. Input layer: 150 x 150 x 3 neurons \n",
    "2. First layer: 512 fully connected neurons, activated by rectified linear unit.\n",
    "3. Second layer: 512 fully connected neurons, activated by rectified linear unit.\n",
    "4. Third layer: 512 fully connected neurons, activated by rectified linear unit.\n",
    "5. Fourth layer: 512 fully connected neurons, activated by rectified linear unit.\n",
    "7. Output layer: 1 Sigmoid activated neuron."
   ]
  },
  {
   "cell_type": "code",
   "execution_count": 35,
   "metadata": {},
   "outputs": [],
   "source": [
    "model = models.Sequential()\n",
    "model.add(layers.Flatten(input_shape=(150, 150, 3)))\n",
    "model.add(layers.Dense(512, activation='relu'))\n",
    "model.add(layers.Dense(512, activation='relu'))\n",
    "model.add(layers.Dense(512, activation='relu'))\n",
    "model.add(layers.Dense(512, activation='relu'))\n",
    "model.add(layers.Dense(1, activation='sigmoid'))"
   ]
  },
  {
   "cell_type": "code",
   "execution_count": 36,
   "metadata": {
    "colab": {},
    "colab_type": "code",
    "id": "FObu2eXefawi"
   },
   "outputs": [
    {
     "name": "stdout",
     "output_type": "stream",
     "text": [
      "Model: \"sequential_6\"\n",
      "_________________________________________________________________\n",
      "Layer (type)                 Output Shape              Param #   \n",
      "=================================================================\n",
      "flatten_6 (Flatten)          (None, 67500)             0         \n",
      "_________________________________________________________________\n",
      "dense_24 (Dense)             (None, 512)               34560512  \n",
      "_________________________________________________________________\n",
      "dense_25 (Dense)             (None, 512)               262656    \n",
      "_________________________________________________________________\n",
      "dense_26 (Dense)             (None, 512)               262656    \n",
      "_________________________________________________________________\n",
      "dense_27 (Dense)             (None, 512)               262656    \n",
      "_________________________________________________________________\n",
      "dense_28 (Dense)             (None, 1)                 513       \n",
      "=================================================================\n",
      "Total params: 35,348,993\n",
      "Trainable params: 35,348,993\n",
      "Non-trainable params: 0\n",
      "_________________________________________________________________\n"
     ]
    }
   ],
   "source": [
    "model.summary()"
   ]
  },
  {
   "cell_type": "code",
   "execution_count": 37,
   "metadata": {},
   "outputs": [],
   "source": [
    "model.compile(loss='binary_crossentropy',\n",
    "              optimizer=optimizers.SGD(lr=0.0001, momentum=0.0, decay=0.0, nesterov=False),\n",
    "              metrics=['acc'])"
   ]
  },
  {
   "cell_type": "markdown",
   "metadata": {},
   "source": [
    "# Fifth model training:\n",
    "\n",
    "## Characteristics:\n",
    "\n",
    "Here, we begin changing the learning rate from 0.01 to 0.0001\n",
    "\n",
    "1. Batch in training: 20\n",
    "2. Batch in validation: 20\n",
    "3. Steps per epoch: 100\n",
    "4. Epochs: 30\n",
    "5. Validation steps:50\n",
    "6. Learning rate: 0.0001"
   ]
  },
  {
   "cell_type": "code",
   "execution_count": 38,
   "metadata": {
    "colab": {},
    "colab_type": "code",
    "id": "iHHoZxNFfawx"
   },
   "outputs": [
    {
     "name": "stdout",
     "output_type": "stream",
     "text": [
      "Epoch 1/30\n",
      "100/100 [==============================] - 82s 823ms/step - loss: 0.6966 - acc: 0.5030 - val_loss: 0.7060 - val_acc: 0.5160\n",
      "Epoch 2/30\n",
      "100/100 [==============================] - 82s 817ms/step - loss: 0.6924 - acc: 0.5295 - val_loss: 0.6851 - val_acc: 0.5240\n",
      "Epoch 3/30\n",
      "100/100 [==============================] - 82s 818ms/step - loss: 0.6891 - acc: 0.5590 - val_loss: 0.6654 - val_acc: 0.5380\n",
      "Epoch 4/30\n",
      "100/100 [==============================] - 80s 799ms/step - loss: 0.6864 - acc: 0.5570 - val_loss: 0.6980 - val_acc: 0.5450\n",
      "Epoch 5/30\n",
      "100/100 [==============================] - 81s 814ms/step - loss: 0.6838 - acc: 0.5690 - val_loss: 0.6784 - val_acc: 0.5520\n",
      "Epoch 6/30\n",
      "100/100 [==============================] - 82s 817ms/step - loss: 0.6821 - acc: 0.5790 - val_loss: 0.6800 - val_acc: 0.5580\n",
      "Epoch 7/30\n",
      "100/100 [==============================] - 81s 810ms/step - loss: 0.6796 - acc: 0.5855 - val_loss: 0.6951 - val_acc: 0.5630\n",
      "Epoch 8/30\n",
      "100/100 [==============================] - 82s 818ms/step - loss: 0.6778 - acc: 0.5815 - val_loss: 0.7095 - val_acc: 0.5630\n",
      "Epoch 9/30\n",
      "100/100 [==============================] - 81s 806ms/step - loss: 0.6759 - acc: 0.5995 - val_loss: 0.6425 - val_acc: 0.5540\n",
      "Epoch 10/30\n",
      "100/100 [==============================] - 81s 813ms/step - loss: 0.6742 - acc: 0.5995 - val_loss: 0.7067 - val_acc: 0.5660\n",
      "Epoch 11/30\n",
      "100/100 [==============================] - 82s 816ms/step - loss: 0.6728 - acc: 0.6015 - val_loss: 0.6515 - val_acc: 0.5540\n",
      "Epoch 12/30\n",
      "100/100 [==============================] - 82s 817ms/step - loss: 0.6714 - acc: 0.6085 - val_loss: 0.7145 - val_acc: 0.5690\n",
      "Epoch 13/30\n",
      "100/100 [==============================] - 81s 814ms/step - loss: 0.6698 - acc: 0.6225 - val_loss: 0.6444 - val_acc: 0.5680\n",
      "Epoch 14/30\n",
      "100/100 [==============================] - 81s 812ms/step - loss: 0.6682 - acc: 0.6240 - val_loss: 0.6957 - val_acc: 0.5650\n",
      "Epoch 15/30\n",
      "100/100 [==============================] - 81s 813ms/step - loss: 0.6672 - acc: 0.6265 - val_loss: 0.7312 - val_acc: 0.5750\n",
      "Epoch 16/30\n",
      "100/100 [==============================] - 81s 808ms/step - loss: 0.6657 - acc: 0.6230 - val_loss: 0.6926 - val_acc: 0.5730\n",
      "Epoch 17/30\n",
      "100/100 [==============================] - 81s 811ms/step - loss: 0.6644 - acc: 0.6330 - val_loss: 0.6873 - val_acc: 0.5690\n",
      "Epoch 18/30\n",
      "100/100 [==============================] - 82s 823ms/step - loss: 0.6625 - acc: 0.6330 - val_loss: 0.6934 - val_acc: 0.5680\n",
      "Epoch 19/30\n",
      "100/100 [==============================] - 82s 817ms/step - loss: 0.6613 - acc: 0.6380 - val_loss: 0.6902 - val_acc: 0.5810\n",
      "Epoch 20/30\n",
      "100/100 [==============================] - 81s 813ms/step - loss: 0.6598 - acc: 0.6425 - val_loss: 0.6403 - val_acc: 0.5770\n",
      "Epoch 21/30\n",
      "100/100 [==============================] - 81s 813ms/step - loss: 0.6563 - acc: 0.6425 - val_loss: 0.6556 - val_acc: 0.5720\n",
      "Epoch 22/30\n",
      "100/100 [==============================] - 82s 816ms/step - loss: 0.6576 - acc: 0.6365 - val_loss: 0.6717 - val_acc: 0.6010\n",
      "Epoch 23/30\n",
      "100/100 [==============================] - 81s 814ms/step - loss: 0.6559 - acc: 0.6510 - val_loss: 0.6599 - val_acc: 0.5990\n",
      "Epoch 24/30\n",
      "100/100 [==============================] - 82s 817ms/step - loss: 0.6542 - acc: 0.6565 - val_loss: 0.6948 - val_acc: 0.5730\n",
      "Epoch 25/30\n",
      "100/100 [==============================] - 82s 817ms/step - loss: 0.6532 - acc: 0.6565 - val_loss: 0.7315 - val_acc: 0.5990\n",
      "Epoch 26/30\n",
      "100/100 [==============================] - 82s 818ms/step - loss: 0.6517 - acc: 0.6635 - val_loss: 0.7197 - val_acc: 0.5880\n",
      "Epoch 27/30\n",
      "100/100 [==============================] - 82s 816ms/step - loss: 0.6502 - acc: 0.6610 - val_loss: 0.7054 - val_acc: 0.5740\n",
      "Epoch 28/30\n",
      "100/100 [==============================] - 81s 813ms/step - loss: 0.6497 - acc: 0.6600 - val_loss: 0.6626 - val_acc: 0.5980\n",
      "Epoch 29/30\n",
      "100/100 [==============================] - 82s 816ms/step - loss: 0.6480 - acc: 0.6605 - val_loss: 0.6583 - val_acc: 0.5940\n",
      "Epoch 30/30\n",
      "100/100 [==============================] - 81s 814ms/step - loss: 0.6466 - acc: 0.6670 - val_loss: 0.6280 - val_acc: 0.5990\n"
     ]
    }
   ],
   "source": [
    "history = model.fit_generator(\n",
    "      train_generator,\n",
    "      steps_per_epoch=100,\n",
    "      epochs=30,\n",
    "      validation_data=validation_generator,\n",
    "      validation_steps=50)"
   ]
  },
  {
   "cell_type": "markdown",
   "metadata": {},
   "source": [
    "# Fifth model training:\n",
    "\n",
    "## Results:\n",
    "\n",
    "The training accuracy escalated rather quickly unlike the validation accuracy, this behaviour implies that the system got overfitted. The validation accuracy grew smoother than in previous cases, thanks to the significantly smaller steps that the gradient descent took while modifing the paremeters of the model because of the diminishing of the learning rate. The tradeoff for this smoothness is that the trining time almost doubles, obtauning practically the same results than previous models."
   ]
  },
  {
   "cell_type": "code",
   "execution_count": 39,
   "metadata": {
    "colab": {
     "base_uri": "https://localhost:8080/",
     "height": 232
    },
    "colab_type": "code",
    "executionInfo": {
     "elapsed": 374,
     "status": "error",
     "timestamp": 1583115068444,
     "user": {
      "displayName": "Jesús Leopoldo Llano García",
      "photoUrl": "https://lh3.googleusercontent.com/a-/AOh14Ggh50_e9Hk0sAIwY10hcKorQi0ew_DDbDNtDplE=s64",
      "userId": "11166401614180834702"
     },
     "user_tz": 360
    },
    "id": "pyjXYq1hfawz",
    "outputId": "c0b172e5-3827-4570-ca81-f7422623336d"
   },
   "outputs": [
    {
     "data": {
      "image/png": "[encoded data removed]",
      "text/plain": [
       "<Figure size 432x288 with 1 Axes>"
      ]
     },
     "metadata": {
      "needs_background": "light"
     },
     "output_type": "display_data"
    },
    {
     "data": {
      "image/png": "[encoded data removed]",
      "text/plain": [
       "<Figure size 432x288 with 1 Axes>"
      ]
     },
     "metadata": {
      "needs_background": "light"
     },
     "output_type": "display_data"
    }
   ],
   "source": [
    "import matplotlib.pyplot as plt\n",
    "\n",
    "acc = history.history['acc']\n",
    "val_acc = history.history['val_acc']\n",
    "loss = history.history['loss']\n",
    "val_loss = history.history['val_loss']\n",
    "\n",
    "epochs = range(len(acc))\n",
    "\n",
    "plt.plot(epochs, acc, 'bo', label='Training acc')\n",
    "plt.plot(epochs, val_acc, 'b', label='Validation acc')\n",
    "plt.title('Training and validation accuracy')\n",
    "plt.legend()\n",
    "\n",
    "plt.figure()\n",
    "\n",
    "plt.plot(epochs, loss, 'bo', label='Training loss')\n",
    "plt.plot(epochs, val_loss, 'b', label='Validation loss')\n",
    "plt.title('Training and validation loss')\n",
    "plt.legend()\n",
    "\n",
    "plt.show()"
   ]
  },
  {
   "cell_type": "markdown",
   "metadata": {},
   "source": [
    "# Sixth neural network:\n",
    "\n",
    "## Network architecture:\n",
    "\n",
    "\n",
    "1. Input layer: 150 x 150 x 3 neurons \n",
    "2. First layer: 512 fully connected neurons, activated by rectified linear unit.\n",
    "3. Second layer: 512 fully connected neurons, activated by rectified linear unit.\n",
    "4. Third layer: 512 fully connected neurons, activated by rectified linear unit.\n",
    "5. Fourth layer: 512 fully connected neurons, activated by rectified linear unit.\n",
    "7. Output layer: 1 Sigmoid activated neuron."
   ]
  },
  {
   "cell_type": "code",
   "execution_count": 40,
   "metadata": {},
   "outputs": [],
   "source": [
    "model = models.Sequential()\n",
    "model.add(layers.Flatten(input_shape=(150, 150, 3)))\n",
    "model.add(layers.Dense(512, activation='relu'))\n",
    "model.add(layers.Dense(512, activation='relu'))\n",
    "model.add(layers.Dense(512, activation='relu'))\n",
    "model.add(layers.Dense(512, activation='relu'))\n",
    "model.add(layers.Dense(1, activation='sigmoid'))"
   ]
  },
  {
   "cell_type": "code",
   "execution_count": 41,
   "metadata": {
    "colab": {},
    "colab_type": "code",
    "id": "FObu2eXefawi"
   },
   "outputs": [
    {
     "name": "stdout",
     "output_type": "stream",
     "text": [
      "Model: \"sequential_7\"\n",
      "_________________________________________________________________\n",
      "Layer (type)                 Output Shape              Param #   \n",
      "=================================================================\n",
      "flatten_7 (Flatten)          (None, 67500)             0         \n",
      "_________________________________________________________________\n",
      "dense_29 (Dense)             (None, 512)               34560512  \n",
      "_________________________________________________________________\n",
      "dense_30 (Dense)             (None, 512)               262656    \n",
      "_________________________________________________________________\n",
      "dense_31 (Dense)             (None, 512)               262656    \n",
      "_________________________________________________________________\n",
      "dense_32 (Dense)             (None, 512)               262656    \n",
      "_________________________________________________________________\n",
      "dense_33 (Dense)             (None, 1)                 513       \n",
      "=================================================================\n",
      "Total params: 35,348,993\n",
      "Trainable params: 35,348,993\n",
      "Non-trainable params: 0\n",
      "_________________________________________________________________\n"
     ]
    }
   ],
   "source": [
    "model.summary()"
   ]
  },
  {
   "cell_type": "code",
   "execution_count": 42,
   "metadata": {},
   "outputs": [],
   "source": [
    "model.compile(loss='binary_crossentropy',\n",
    "              optimizer=optimizers.SGD(lr=0.5, momentum=0.0, decay=0.0, nesterov=False),\n",
    "              metrics=['acc'])"
   ]
  },
  {
   "cell_type": "markdown",
   "metadata": {},
   "source": [
    "# Sixth model training:\n",
    "\n",
    "## Characteristics:\n",
    "\n",
    "In this case, we set the learning rate in the other direction, and make it 50 times larger\n",
    "\n",
    "1. Batch in training: 20\n",
    "2. Batch in validation: 20\n",
    "3. Steps per epoch: 100\n",
    "4. Epochs: 30\n",
    "5. Validation steps:50\n",
    "6. Learning rate: 0.5"
   ]
  },
  {
   "cell_type": "code",
   "execution_count": 43,
   "metadata": {
    "colab": {},
    "colab_type": "code",
    "id": "iHHoZxNFfawx"
   },
   "outputs": [
    {
     "name": "stdout",
     "output_type": "stream",
     "text": [
      "Epoch 1/30\n",
      "100/100 [==============================] - 83s 828ms/step - loss: nan - acc: 0.0265 - val_loss: nan - val_acc: 0.0000e+00\n",
      "Epoch 2/30\n",
      "100/100 [==============================] - 82s 823ms/step - loss: nan - acc: 0.0000e+00 - val_loss: nan - val_acc: 0.0000e+00\n",
      "Epoch 3/30\n",
      "100/100 [==============================] - 82s 818ms/step - loss: nan - acc: 0.0000e+00 - val_loss: nan - val_acc: 0.0000e+00\n",
      "Epoch 4/30\n",
      "100/100 [==============================] - 82s 822ms/step - loss: nan - acc: 0.0000e+00 - val_loss: nan - val_acc: 0.0000e+00\n",
      "Epoch 5/30\n",
      "100/100 [==============================] - 83s 826ms/step - loss: nan - acc: 0.0000e+00 - val_loss: nan - val_acc: 0.0000e+00\n",
      "Epoch 6/30\n",
      "100/100 [==============================] - 82s 822ms/step - loss: nan - acc: 0.0000e+00 - val_loss: nan - val_acc: 0.0000e+00\n",
      "Epoch 7/30\n",
      "100/100 [==============================] - 82s 823ms/step - loss: nan - acc: 0.0000e+00 - val_loss: nan - val_acc: 0.0000e+00\n",
      "Epoch 8/30\n",
      "100/100 [==============================] - 82s 821ms/step - loss: nan - acc: 0.0000e+00 - val_loss: nan - val_acc: 0.0000e+00\n",
      "Epoch 9/30\n",
      "100/100 [==============================] - 83s 826ms/step - loss: nan - acc: 0.0000e+00 - val_loss: nan - val_acc: 0.0000e+00\n",
      "Epoch 10/30\n",
      "100/100 [==============================] - 83s 826ms/step - loss: nan - acc: 0.0000e+00 - val_loss: nan - val_acc: 0.0000e+00\n",
      "Epoch 11/30\n",
      "100/100 [==============================] - 83s 827ms/step - loss: nan - acc: 0.0000e+00 - val_loss: nan - val_acc: 0.0000e+00\n",
      "Epoch 12/30\n",
      "100/100 [==============================] - 82s 823ms/step - loss: nan - acc: 0.0000e+00 - val_loss: nan - val_acc: 0.0000e+00\n",
      "Epoch 13/30\n",
      "100/100 [==============================] - 82s 819ms/step - loss: nan - acc: 0.0000e+00 - val_loss: nan - val_acc: 0.0000e+00\n",
      "Epoch 14/30\n",
      "100/100 [==============================] - 82s 821ms/step - loss: nan - acc: 0.0000e+00 - val_loss: nan - val_acc: 0.0000e+00\n",
      "Epoch 15/30\n",
      "100/100 [==============================] - 82s 823ms/step - loss: nan - acc: 0.0000e+00 - val_loss: nan - val_acc: 0.0000e+00\n",
      "Epoch 16/30\n",
      "100/100 [==============================] - 82s 825ms/step - loss: nan - acc: 0.0000e+00 - val_loss: nan - val_acc: 0.0000e+00\n",
      "Epoch 17/30\n",
      "100/100 [==============================] - 82s 824ms/step - loss: nan - acc: 0.0000e+00 - val_loss: nan - val_acc: 0.0000e+00\n",
      "Epoch 18/30\n",
      "100/100 [==============================] - 83s 827ms/step - loss: nan - acc: 0.0000e+00 - val_loss: nan - val_acc: 0.0000e+00\n",
      "Epoch 19/30\n",
      "100/100 [==============================] - 82s 817ms/step - loss: nan - acc: 0.0000e+00 - val_loss: nan - val_acc: 0.0000e+00\n",
      "Epoch 20/30\n",
      "100/100 [==============================] - 82s 823ms/step - loss: nan - acc: 0.0000e+00 - val_loss: nan - val_acc: 0.0000e+00\n",
      "Epoch 21/30\n",
      "100/100 [==============================] - 82s 817ms/step - loss: nan - acc: 0.0000e+00 - val_loss: nan - val_acc: 0.0000e+00\n",
      "Epoch 22/30\n",
      "100/100 [==============================] - 82s 825ms/step - loss: nan - acc: 0.0000e+00 - val_loss: nan - val_acc: 0.0000e+00\n",
      "Epoch 23/30\n",
      "100/100 [==============================] - 81s 815ms/step - loss: nan - acc: 0.0000e+00 - val_loss: nan - val_acc: 0.0000e+00\n",
      "Epoch 24/30\n",
      "100/100 [==============================] - 82s 820ms/step - loss: nan - acc: 0.0000e+00 - val_loss: nan - val_acc: 0.0000e+00\n",
      "Epoch 25/30\n",
      "100/100 [==============================] - 83s 826ms/step - loss: nan - acc: 0.0000e+00 - val_loss: nan - val_acc: 0.0000e+00\n",
      "Epoch 26/30\n",
      "100/100 [==============================] - 82s 822ms/step - loss: nan - acc: 0.0000e+00 - val_loss: nan - val_acc: 0.0000e+00\n",
      "Epoch 27/30\n",
      "100/100 [==============================] - 82s 822ms/step - loss: nan - acc: 0.0000e+00 - val_loss: nan - val_acc: 0.0000e+00\n",
      "Epoch 28/30\n",
      "100/100 [==============================] - 82s 820ms/step - loss: nan - acc: 0.0000e+00 - val_loss: nan - val_acc: 0.0000e+00\n",
      "Epoch 29/30\n",
      "100/100 [==============================] - 83s 827ms/step - loss: nan - acc: 0.0000e+00 - val_loss: nan - val_acc: 0.0000e+00\n",
      "Epoch 30/30\n",
      "100/100 [==============================] - 83s 831ms/step - loss: nan - acc: 0.0000e+00 - val_loss: nan - val_acc: 0.0000e+00\n"
     ]
    }
   ],
   "source": [
    "history = model.fit_generator(\n",
    "      train_generator,\n",
    "      steps_per_epoch=100,\n",
    "      epochs=30,\n",
    "      validation_data=validation_generator,\n",
    "      validation_steps=50)"
   ]
  },
  {
   "cell_type": "markdown",
   "metadata": {},
   "source": [
    "# Sixth model training:\n",
    "\n",
    "## Results:\n",
    "\n",
    "In this case the algorithm did not learn at all. We think that such a big learning rate made the parameters get so high that the registers containing them got overflown."
   ]
  },
  {
   "cell_type": "code",
   "execution_count": 44,
   "metadata": {
    "colab": {
     "base_uri": "https://localhost:8080/",
     "height": 232
    },
    "colab_type": "code",
    "executionInfo": {
     "elapsed": 374,
     "status": "error",
     "timestamp": 1583115068444,
     "user": {
      "displayName": "Jesús Leopoldo Llano García",
      "photoUrl": "https://lh3.googleusercontent.com/a-/AOh14Ggh50_e9Hk0sAIwY10hcKorQi0ew_DDbDNtDplE=s64",
      "userId": "11166401614180834702"
     },
     "user_tz": 360
    },
    "id": "pyjXYq1hfawz",
    "outputId": "c0b172e5-3827-4570-ca81-f7422623336d"
   },
   "outputs": [
    {
     "data": {
      "image/png": "[encoded data removed]",
      "text/plain": [
       "<Figure size 432x288 with 1 Axes>"
      ]
     },
     "metadata": {
      "needs_background": "light"
     },
     "output_type": "display_data"
    },
    {
     "data": {
      "image/png": "[encoded data removed]",
      "text/plain": [
       "<Figure size 432x288 with 1 Axes>"
      ]
     },
     "metadata": {
      "needs_background": "light"
     },
     "output_type": "display_data"
    }
   ],
   "source": [
    "import matplotlib.pyplot as plt\n",
    "\n",
    "acc = history.history['acc']\n",
    "val_acc = history.history['val_acc']\n",
    "loss = history.history['loss']\n",
    "val_loss = history.history['val_loss']\n",
    "\n",
    "epochs = range(len(acc))\n",
    "\n",
    "plt.plot(epochs, acc, 'bo', label='Training acc')\n",
    "plt.plot(epochs, val_acc, 'b', label='Validation acc')\n",
    "plt.title('Training and validation accuracy')\n",
    "plt.legend()\n",
    "\n",
    "plt.figure()\n",
    "\n",
    "plt.plot(epochs, loss, 'bo', label='Training loss')\n",
    "plt.plot(epochs, val_loss, 'b', label='Validation loss')\n",
    "plt.title('Training and validation loss')\n",
    "plt.legend()\n",
    "\n",
    "plt.show()"
   ]
  },
  {
   "cell_type": "markdown",
   "metadata": {},
   "source": [
    "# Seventh neural network:\n",
    "\n",
    "## Network architecture:\n",
    "\n",
    "\n",
    "1. Input layer: 150 x 150 x 3 neurons \n",
    "2. First layer: 512 fully connected neurons, activated by rectified linear unit.\n",
    "3. Second layer: 512 fully connected neurons, activated by rectified linear unit.\n",
    "4. Third layer: 512 fully connected neurons, activated by rectified linear unit.\n",
    "7. Output layer: 1 Sigmoid activated neuron."
   ]
  },
  {
   "cell_type": "code",
   "execution_count": 45,
   "metadata": {},
   "outputs": [],
   "source": [
    "model = models.Sequential()\n",
    "model.add(layers.Flatten(input_shape=(150, 150, 3)))\n",
    "model.add(layers.Dense(512, activation='relu'))\n",
    "model.add(layers.Dense(512, activation='relu'))\n",
    "model.add(layers.Dense(512, activation='relu'))\n",
    "model.add(layers.Dense(1, activation='sigmoid'))"
   ]
  },
  {
   "cell_type": "code",
   "execution_count": 46,
   "metadata": {
    "colab": {},
    "colab_type": "code",
    "id": "P5ilr9NDfawq"
   },
   "outputs": [
    {
     "name": "stdout",
     "output_type": "stream",
     "text": [
      "Found 2000 images belonging to 2 classes.\n",
      "Found 1000 images belonging to 2 classes.\n"
     ]
    }
   ],
   "source": [
    "from keras.preprocessing.image import ImageDataGenerator\n",
    "\n",
    "# All images will be rescaled by 1./255\n",
    "train_datagen = ImageDataGenerator(rescale=1./255)\n",
    "test_datagen = ImageDataGenerator(rescale=1./255)\n",
    "\n",
    "train_generator = train_datagen.flow_from_directory(\n",
    "        # This is the target directory\n",
    "        train_dir,\n",
    "        # All images will be resized to 150x150\n",
    "        target_size=(150, 150),\n",
    "        batch_size=10,\n",
    "        # Since we use binary_crossentropy loss, we need binary labels\n",
    "        class_mode='binary')\n",
    "\n",
    "validation_generator = test_datagen.flow_from_directory(\n",
    "        validation_dir,\n",
    "        target_size=(150, 150),\n",
    "        batch_size=10,\n",
    "        class_mode='binary')"
   ]
  },
  {
   "cell_type": "markdown",
   "metadata": {},
   "source": [
    "# Seventh model training:\n",
    "\n",
    "For this model, we returned to the learning rate of 0.01, but we halved the batch size\n",
    "\n",
    "## Characteristics:\n",
    "\n",
    "1. Batch in training: 10\n",
    "2. Batch in validation: 10\n",
    "3. Steps per epoch: 100\n",
    "4. Epochs: 30\n",
    "5. Validation steps:50\n",
    "6. Learning rate: 0.01"
   ]
  },
  {
   "cell_type": "code",
   "execution_count": 47,
   "metadata": {
    "colab": {},
    "colab_type": "code",
    "id": "AeUmiwrTfawt"
   },
   "outputs": [
    {
     "name": "stdout",
     "output_type": "stream",
     "text": [
      "data batch shape: (10, 150, 150, 3)\n",
      "labels batch shape: (10,)\n"
     ]
    }
   ],
   "source": [
    "for data_batch, labels_batch in train_generator:\n",
    "    print('data batch shape:', data_batch.shape)\n",
    "    print('labels batch shape:', labels_batch.shape)\n",
    "    break"
   ]
  },
  {
   "cell_type": "code",
   "execution_count": 48,
   "metadata": {
    "colab": {},
    "colab_type": "code",
    "id": "FObu2eXefawi"
   },
   "outputs": [
    {
     "name": "stdout",
     "output_type": "stream",
     "text": [
      "Model: \"sequential_8\"\n",
      "_________________________________________________________________\n",
      "Layer (type)                 Output Shape              Param #   \n",
      "=================================================================\n",
      "flatten_8 (Flatten)          (None, 67500)             0         \n",
      "_________________________________________________________________\n",
      "dense_34 (Dense)             (None, 512)               34560512  \n",
      "_________________________________________________________________\n",
      "dense_35 (Dense)             (None, 512)               262656    \n",
      "_________________________________________________________________\n",
      "dense_36 (Dense)             (None, 512)               262656    \n",
      "_________________________________________________________________\n",
      "dense_37 (Dense)             (None, 1)                 513       \n",
      "=================================================================\n",
      "Total params: 35,086,337\n",
      "Trainable params: 35,086,337\n",
      "Non-trainable params: 0\n",
      "_________________________________________________________________\n"
     ]
    }
   ],
   "source": [
    "model.summary()"
   ]
  },
  {
   "cell_type": "code",
   "execution_count": 49,
   "metadata": {
    "colab": {},
    "colab_type": "code",
    "id": "UTAfXDR_fawm"
   },
   "outputs": [],
   "source": [
    "from keras import optimizers\n",
    "\n",
    "model.compile(loss='binary_crossentropy',\n",
    "              optimizer=optimizers.SGD(lr=0.01, momentum=0.0, decay=0.0, nesterov=False),\n",
    "              metrics=['acc'])"
   ]
  },
  {
   "cell_type": "code",
   "execution_count": 50,
   "metadata": {
    "colab": {},
    "colab_type": "code",
    "id": "iHHoZxNFfawx"
   },
   "outputs": [
    {
     "name": "stdout",
     "output_type": "stream",
     "text": [
      "Epoch 1/30\n",
      "100/100 [==============================] - 78s 780ms/step - loss: 0.7282 - acc: 0.5100 - val_loss: 0.6612 - val_acc: 0.4880\n",
      "Epoch 2/30\n",
      "100/100 [==============================] - 78s 777ms/step - loss: 0.7035 - acc: 0.5050 - val_loss: 0.7063 - val_acc: 0.5260\n",
      "Epoch 3/30\n",
      "100/100 [==============================] - 77s 774ms/step - loss: 0.6979 - acc: 0.5130 - val_loss: 0.6813 - val_acc: 0.4720\n",
      "Epoch 4/30\n",
      "100/100 [==============================] - 77s 770ms/step - loss: 0.6931 - acc: 0.5380 - val_loss: 0.6978 - val_acc: 0.4720\n",
      "Epoch 5/30\n",
      "100/100 [==============================] - 78s 776ms/step - loss: 0.6846 - acc: 0.5500 - val_loss: 0.7270 - val_acc: 0.5460\n",
      "Epoch 6/30\n",
      "100/100 [==============================] - 77s 774ms/step - loss: 0.6896 - acc: 0.5320 - val_loss: 0.7058 - val_acc: 0.5160\n",
      "Epoch 7/30\n",
      "100/100 [==============================] - 77s 771ms/step - loss: 0.6810 - acc: 0.5800 - val_loss: 0.6400 - val_acc: 0.5180\n",
      "Epoch 8/30\n",
      "100/100 [==============================] - 77s 773ms/step - loss: 0.6851 - acc: 0.5530 - val_loss: 0.7874 - val_acc: 0.5460\n",
      "Epoch 9/30\n",
      "100/100 [==============================] - 78s 780ms/step - loss: 0.6721 - acc: 0.5910 - val_loss: 0.6785 - val_acc: 0.5760\n",
      "Epoch 10/30\n",
      "100/100 [==============================] - 78s 776ms/step - loss: 0.6779 - acc: 0.5740 - val_loss: 0.6930 - val_acc: 0.5960\n",
      "Epoch 11/30\n",
      "100/100 [==============================] - 78s 776ms/step - loss: 0.6585 - acc: 0.6270 - val_loss: 0.6462 - val_acc: 0.5800\n",
      "Epoch 12/30\n",
      "100/100 [==============================] - 77s 774ms/step - loss: 0.6723 - acc: 0.5890 - val_loss: 0.6365 - val_acc: 0.6140\n",
      "Epoch 13/30\n",
      "100/100 [==============================] - 77s 773ms/step - loss: 0.6636 - acc: 0.6040 - val_loss: 0.6449 - val_acc: 0.6300\n",
      "Epoch 14/30\n",
      "100/100 [==============================] - 77s 770ms/step - loss: 0.6601 - acc: 0.6180 - val_loss: 0.8399 - val_acc: 0.5780\n",
      "Epoch 15/30\n",
      "100/100 [==============================] - 77s 774ms/step - loss: 0.6469 - acc: 0.6230 - val_loss: 0.8236 - val_acc: 0.5060\n",
      "Epoch 16/30\n",
      "100/100 [==============================] - 78s 776ms/step - loss: 0.6412 - acc: 0.6470 - val_loss: 0.5447 - val_acc: 0.5660\n",
      "Epoch 17/30\n",
      "100/100 [==============================] - 77s 773ms/step - loss: 0.6426 - acc: 0.6230 - val_loss: 0.5625 - val_acc: 0.5900\n",
      "Epoch 18/30\n",
      "100/100 [==============================] - 77s 772ms/step - loss: 0.6380 - acc: 0.6450 - val_loss: 0.8284 - val_acc: 0.5860\n",
      "Epoch 19/30\n",
      "100/100 [==============================] - 77s 772ms/step - loss: 0.6316 - acc: 0.6360 - val_loss: 0.6523 - val_acc: 0.6280\n",
      "Epoch 20/30\n",
      "100/100 [==============================] - 77s 770ms/step - loss: 0.6250 - acc: 0.6530 - val_loss: 0.7109 - val_acc: 0.6200\n",
      "Epoch 21/30\n",
      "100/100 [==============================] - 78s 775ms/step - loss: 0.6280 - acc: 0.6620 - val_loss: 1.0116 - val_acc: 0.5960\n",
      "Epoch 22/30\n",
      "100/100 [==============================] - 77s 771ms/step - loss: 0.6151 - acc: 0.6620 - val_loss: 0.5932 - val_acc: 0.6120\n",
      "Epoch 23/30\n",
      "100/100 [==============================] - 77s 773ms/step - loss: 0.5832 - acc: 0.7060 - val_loss: 0.5102 - val_acc: 0.6380\n",
      "Epoch 24/30\n",
      "100/100 [==============================] - 78s 776ms/step - loss: 0.6283 - acc: 0.6430 - val_loss: 0.7509 - val_acc: 0.5760\n",
      "Epoch 25/30\n",
      "100/100 [==============================] - 78s 777ms/step - loss: 0.5963 - acc: 0.6790 - val_loss: 0.5990 - val_acc: 0.6280\n",
      "Epoch 26/30\n",
      "100/100 [==============================] - 78s 779ms/step - loss: 0.5964 - acc: 0.6850 - val_loss: 0.7007 - val_acc: 0.5880\n",
      "Epoch 27/30\n",
      "100/100 [==============================] - 78s 781ms/step - loss: 0.6007 - acc: 0.6710 - val_loss: 0.6457 - val_acc: 0.6240\n",
      "Epoch 28/30\n",
      "100/100 [==============================] - 77s 767ms/step - loss: 0.5747 - acc: 0.6820 - val_loss: 0.6273 - val_acc: 0.5520\n",
      "Epoch 29/30\n",
      "100/100 [==============================] - 77s 772ms/step - loss: 0.5704 - acc: 0.6930 - val_loss: 0.7060 - val_acc: 0.6160\n",
      "Epoch 30/30\n",
      "100/100 [==============================] - 78s 780ms/step - loss: 0.5911 - acc: 0.6750 - val_loss: 0.5864 - val_acc: 0.6100\n"
     ]
    }
   ],
   "source": [
    "history = model.fit_generator(\n",
    "      train_generator,\n",
    "      steps_per_epoch=100,\n",
    "      epochs=30,\n",
    "      validation_data=validation_generator,\n",
    "      validation_steps=50)"
   ]
  },
  {
   "cell_type": "markdown",
   "metadata": {},
   "source": [
    "# Seventh model training:\n",
    "\n",
    "## Results:\n",
    "\n",
    "Changing the batch size from 20 to 10 units did not had a meaningful effect in the performance of the model, the training accuracy continues to increase at a significantly faster rate than that of the validation model meaning only that once again the model continues to learn the training set instead of identifying any patterns."
   ]
  },
  {
   "cell_type": "code",
   "execution_count": 51,
   "metadata": {
    "colab": {
     "base_uri": "https://localhost:8080/",
     "height": 232
    },
    "colab_type": "code",
    "executionInfo": {
     "elapsed": 374,
     "status": "error",
     "timestamp": 1583115068444,
     "user": {
      "displayName": "Jesús Leopoldo Llano García",
      "photoUrl": "https://lh3.googleusercontent.com/a-/AOh14Ggh50_e9Hk0sAIwY10hcKorQi0ew_DDbDNtDplE=s64",
      "userId": "11166401614180834702"
     },
     "user_tz": 360
    },
    "id": "pyjXYq1hfawz",
    "outputId": "c0b172e5-3827-4570-ca81-f7422623336d"
   },
   "outputs": [
    {
     "data": {
      "image/png": "[encoded data removed]",
      "text/plain": [
       "<Figure size 432x288 with 1 Axes>"
      ]
     },
     "metadata": {
      "needs_background": "light"
     },
     "output_type": "display_data"
    },
    {
     "data": {
      "image/png": "[encoded data removed]",
      "text/plain": [
       "<Figure size 432x288 with 1 Axes>"
      ]
     },
     "metadata": {
      "needs_background": "light"
     },
     "output_type": "display_data"
    }
   ],
   "source": [
    "import matplotlib.pyplot as plt\n",
    "\n",
    "acc = history.history['acc']\n",
    "val_acc = history.history['val_acc']\n",
    "loss = history.history['loss']\n",
    "val_loss = history.history['val_loss']\n",
    "\n",
    "epochs = range(len(acc))\n",
    "\n",
    "plt.plot(epochs, acc, 'bo', label='Training acc')\n",
    "plt.plot(epochs, val_acc, 'b', label='Validation acc')\n",
    "plt.title('Training and validation accuracy')\n",
    "plt.legend()\n",
    "\n",
    "plt.figure()\n",
    "\n",
    "plt.plot(epochs, loss, 'bo', label='Training loss')\n",
    "plt.plot(epochs, val_loss, 'b', label='Validation loss')\n",
    "plt.title('Training and validation loss')\n",
    "plt.legend()\n",
    "\n",
    "plt.show()"
   ]
  },
  {
   "cell_type": "markdown",
   "metadata": {},
   "source": [
    "# Eighth neural network:\n",
    "\n",
    "## Network architecture:\n",
    "\n",
    "\n",
    "1. Input layer: 150 x 150 x 3 neurons \n",
    "2. First layer: 512 fully connected neurons, activated by rectified linear unit.\n",
    "3. Second layer: 512 fully connected neurons, activated by rectified linear unit.\n",
    "4. Third layer: 512 fully connected neurons, activated by rectified linear unit.\n",
    "7. Output layer: 1 Sigmoid activated neuron."
   ]
  },
  {
   "cell_type": "code",
   "execution_count": 57,
   "metadata": {
    "colab": {},
    "colab_type": "code",
    "id": "P5ilr9NDfawq"
   },
   "outputs": [
    {
     "name": "stdout",
     "output_type": "stream",
     "text": [
      "Found 2000 images belonging to 2 classes.\n",
      "Found 1000 images belonging to 2 classes.\n"
     ]
    }
   ],
   "source": [
    "from keras.preprocessing.image import ImageDataGenerator\n",
    "\n",
    "# All images will be rescaled by 1./255\n",
    "train_datagen = ImageDataGenerator(rescale=1./255)\n",
    "test_datagen = ImageDataGenerator(rescale=1./255)\n",
    "\n",
    "train_generator = train_datagen.flow_from_directory(\n",
    "        # This is the target directory\n",
    "        train_dir,\n",
    "        # All images will be resized to 150x150\n",
    "        target_size=(150, 150),\n",
    "        batch_size=40,\n",
    "        # Since we use binary_crossentropy loss, we need binary labels\n",
    "        class_mode='binary')\n",
    "\n",
    "validation_generator = test_datagen.flow_from_directory(\n",
    "        validation_dir,\n",
    "        target_size=(150, 150),\n",
    "        batch_size=40,\n",
    "        class_mode='binary')"
   ]
  },
  {
   "cell_type": "code",
   "execution_count": 58,
   "metadata": {
    "colab": {},
    "colab_type": "code",
    "id": "AeUmiwrTfawt"
   },
   "outputs": [
    {
     "name": "stdout",
     "output_type": "stream",
     "text": [
      "data batch shape: (40, 150, 150, 3)\n",
      "labels batch shape: (40,)\n"
     ]
    }
   ],
   "source": [
    "for data_batch, labels_batch in train_generator:\n",
    "    print('data batch shape:', data_batch.shape)\n",
    "    print('labels batch shape:', labels_batch.shape)\n",
    "    break"
   ]
  },
  {
   "cell_type": "markdown",
   "metadata": {},
   "source": [
    "# Eighth model training:\n",
    "\n",
    "We made the batch size greater instead of diminishing it.\n",
    "\n",
    "## Characteristics:\n",
    "\n",
    "1. Batch in training: 40\n",
    "2. Batch in validation: 40\n",
    "3. Steps per epoch: 100\n",
    "4. Epochs: 30\n",
    "5. Validation steps:50\n",
    "6. Learning rate: 0.01"
   ]
  },
  {
   "cell_type": "code",
   "execution_count": 59,
   "metadata": {
    "colab": {},
    "colab_type": "code",
    "id": "FObu2eXefawi"
   },
   "outputs": [
    {
     "name": "stdout",
     "output_type": "stream",
     "text": [
      "Model: \"sequential_8\"\n",
      "_________________________________________________________________\n",
      "Layer (type)                 Output Shape              Param #   \n",
      "=================================================================\n",
      "flatten_8 (Flatten)          (None, 67500)             0         \n",
      "_________________________________________________________________\n",
      "dense_34 (Dense)             (None, 512)               34560512  \n",
      "_________________________________________________________________\n",
      "dense_35 (Dense)             (None, 512)               262656    \n",
      "_________________________________________________________________\n",
      "dense_36 (Dense)             (None, 512)               262656    \n",
      "_________________________________________________________________\n",
      "dense_37 (Dense)             (None, 1)                 513       \n",
      "=================================================================\n",
      "Total params: 35,086,337\n",
      "Trainable params: 35,086,337\n",
      "Non-trainable params: 0\n",
      "_________________________________________________________________\n"
     ]
    }
   ],
   "source": [
    "model.summary()"
   ]
  },
  {
   "cell_type": "code",
   "execution_count": 60,
   "metadata": {
    "colab": {},
    "colab_type": "code",
    "id": "UTAfXDR_fawm"
   },
   "outputs": [],
   "source": [
    "from keras import optimizers\n",
    "\n",
    "model.compile(loss='binary_crossentropy',\n",
    "              optimizer=optimizers.SGD(lr=0.01, momentum=0.0, decay=0.0, nesterov=False),\n",
    "              metrics=['acc'])"
   ]
  },
  {
   "cell_type": "code",
   "execution_count": 61,
   "metadata": {
    "colab": {},
    "colab_type": "code",
    "id": "iHHoZxNFfawx"
   },
   "outputs": [
    {
     "name": "stdout",
     "output_type": "stream",
     "text": [
      "Epoch 1/30\n",
      "100/100 [==============================] - 92s 916ms/step - loss: 0.5199 - acc: 0.7297 - val_loss: 0.5909 - val_acc: 0.5960\n",
      "Epoch 2/30\n",
      "100/100 [==============================] - 91s 910ms/step - loss: 0.5030 - acc: 0.7480 - val_loss: 0.7160 - val_acc: 0.6200\n",
      "Epoch 3/30\n",
      "100/100 [==============================] - 91s 915ms/step - loss: 0.4880 - acc: 0.7563 - val_loss: 0.7351 - val_acc: 0.5860\n",
      "Epoch 4/30\n",
      "100/100 [==============================] - 91s 910ms/step - loss: 0.4720 - acc: 0.7697 - val_loss: 0.8265 - val_acc: 0.6320\n",
      "Epoch 5/30\n",
      "100/100 [==============================] - 90s 904ms/step - loss: 0.4649 - acc: 0.7745 - val_loss: 0.9382 - val_acc: 0.6080\n",
      "Epoch 6/30\n",
      "100/100 [==============================] - 92s 918ms/step - loss: 0.4546 - acc: 0.7822 - val_loss: 0.7962 - val_acc: 0.5900\n",
      "Epoch 7/30\n",
      "100/100 [==============================] - 92s 918ms/step - loss: 0.4405 - acc: 0.7960 - val_loss: 0.9122 - val_acc: 0.5980\n",
      "Epoch 8/30\n",
      "100/100 [==============================] - 92s 921ms/step - loss: 0.4383 - acc: 0.7928 - val_loss: 0.7893 - val_acc: 0.6080\n",
      "Epoch 9/30\n",
      "100/100 [==============================] - 93s 928ms/step - loss: 0.4366 - acc: 0.7990 - val_loss: 0.8212 - val_acc: 0.6130\n",
      "Epoch 10/30\n",
      "100/100 [==============================] - 91s 914ms/step - loss: 0.4093 - acc: 0.8250 - val_loss: 0.7236 - val_acc: 0.5990\n",
      "Epoch 11/30\n",
      "100/100 [==============================] - 90s 904ms/step - loss: 0.3989 - acc: 0.8177 - val_loss: 0.6007 - val_acc: 0.6060\n",
      "Epoch 12/30\n",
      "100/100 [==============================] - 91s 909ms/step - loss: 0.4006 - acc: 0.8230 - val_loss: 1.0183 - val_acc: 0.6200\n",
      "Epoch 13/30\n",
      "100/100 [==============================] - 89s 891ms/step - loss: 0.4021 - acc: 0.8190 - val_loss: 0.8001 - val_acc: 0.6140\n",
      "Epoch 14/30\n",
      "100/100 [==============================] - 90s 896ms/step - loss: 0.3604 - acc: 0.8415 - val_loss: 1.1221 - val_acc: 0.5920\n",
      "Epoch 15/30\n",
      "100/100 [==============================] - 91s 914ms/step - loss: 0.3456 - acc: 0.8530 - val_loss: 1.3220 - val_acc: 0.5220\n",
      "Epoch 16/30\n",
      "100/100 [==============================] - 90s 896ms/step - loss: 0.3613 - acc: 0.8468 - val_loss: 1.3225 - val_acc: 0.5970\n",
      "Epoch 17/30\n",
      "100/100 [==============================] - 90s 904ms/step - loss: 0.3461 - acc: 0.8443 - val_loss: 0.6341 - val_acc: 0.5900\n",
      "Epoch 18/30\n",
      "100/100 [==============================] - 93s 930ms/step - loss: 0.3163 - acc: 0.8717 - val_loss: 0.7681 - val_acc: 0.6140\n",
      "Epoch 19/30\n",
      "100/100 [==============================] - 92s 920ms/step - loss: 0.3077 - acc: 0.8665 - val_loss: 0.8805 - val_acc: 0.5940\n",
      "Epoch 20/30\n",
      "100/100 [==============================] - 92s 924ms/step - loss: 0.2991 - acc: 0.8740 - val_loss: 0.7043 - val_acc: 0.6020\n",
      "Epoch 21/30\n",
      "100/100 [==============================] - 93s 927ms/step - loss: 0.3114 - acc: 0.8715 - val_loss: 1.2351 - val_acc: 0.5750\n",
      "Epoch 22/30\n",
      "100/100 [==============================] - 92s 923ms/step - loss: 0.3341 - acc: 0.8612 - val_loss: 0.9829 - val_acc: 0.6090\n",
      "Epoch 23/30\n",
      "100/100 [==============================] - 91s 914ms/step - loss: 0.2927 - acc: 0.8767 - val_loss: 1.0154 - val_acc: 0.5900\n",
      "Epoch 24/30\n",
      "100/100 [==============================] - 92s 916ms/step - loss: 0.2443 - acc: 0.8978 - val_loss: 1.1995 - val_acc: 0.5610\n",
      "Epoch 25/30\n",
      "100/100 [==============================] - 90s 905ms/step - loss: 0.2806 - acc: 0.8917 - val_loss: 1.1476 - val_acc: 0.5850\n",
      "Epoch 26/30\n",
      "100/100 [==============================] - 91s 912ms/step - loss: 0.3369 - acc: 0.8662 - val_loss: 0.8997 - val_acc: 0.6080\n",
      "Epoch 27/30\n",
      "100/100 [==============================] - 92s 920ms/step - loss: 0.2876 - acc: 0.8765 - val_loss: 0.7047 - val_acc: 0.6200\n",
      "Epoch 28/30\n",
      "100/100 [==============================] - 91s 913ms/step - loss: 0.2487 - acc: 0.9072 - val_loss: 0.6599 - val_acc: 0.6130\n",
      "Epoch 29/30\n",
      "100/100 [==============================] - 92s 916ms/step - loss: 0.2151 - acc: 0.9160 - val_loss: 1.3838 - val_acc: 0.6100\n",
      "Epoch 30/30\n",
      "100/100 [==============================] - 92s 915ms/step - loss: 0.2341 - acc: 0.9080 - val_loss: 1.0858 - val_acc: 0.6060\n"
     ]
    }
   ],
   "source": [
    "history = model.fit_generator(\n",
    "      train_generator,\n",
    "      steps_per_epoch=100,\n",
    "      epochs=30,\n",
    "      validation_data=validation_generator,\n",
    "      validation_steps=50)"
   ]
  },
  {
   "cell_type": "markdown",
   "metadata": {},
   "source": [
    "# Eighth model training:\n",
    "\n",
    "## Results:\n",
    "\n",
    "Increasing the batch size almost to twice the original size did caused the model to have an slightly increase in performance, however we barely reach above 0.6 during validation this hoever unlike other models remained more stable through the process. This means that while a larger batch is useful for providing the model with more examples to generalize with it is not enough to avoid overfitting nor to provide a better generalization for new instances."
   ]
  },
  {
   "cell_type": "code",
   "execution_count": 62,
   "metadata": {
    "colab": {
     "base_uri": "https://localhost:8080/",
     "height": 232
    },
    "colab_type": "code",
    "executionInfo": {
     "elapsed": 374,
     "status": "error",
     "timestamp": 1583115068444,
     "user": {
      "displayName": "Jesús Leopoldo Llano García",
      "photoUrl": "https://lh3.googleusercontent.com/a-/AOh14Ggh50_e9Hk0sAIwY10hcKorQi0ew_DDbDNtDplE=s64",
      "userId": "11166401614180834702"
     },
     "user_tz": 360
    },
    "id": "pyjXYq1hfawz",
    "outputId": "c0b172e5-3827-4570-ca81-f7422623336d"
   },
   "outputs": [
    {
     "data": {
      "image/png": "[encoded data removed]",
      "text/plain": [
       "<Figure size 432x288 with 1 Axes>"
      ]
     },
     "metadata": {
      "needs_background": "light"
     },
     "output_type": "display_data"
    },
    {
     "data": {
      "image/png": "[encoded data removed]",
      "text/plain": [
       "<Figure size 432x288 with 1 Axes>"
      ]
     },
     "metadata": {
      "needs_background": "light"
     },
     "output_type": "display_data"
    }
   ],
   "source": [
    "import matplotlib.pyplot as plt\n",
    "\n",
    "acc = history.history['acc']\n",
    "val_acc = history.history['val_acc']\n",
    "loss = history.history['loss']\n",
    "val_loss = history.history['val_loss']\n",
    "\n",
    "epochs = range(len(acc))\n",
    "\n",
    "plt.plot(epochs, acc, 'bo', label='Training acc')\n",
    "plt.plot(epochs, val_acc, 'b', label='Validation acc')\n",
    "plt.title('Training and validation accuracy')\n",
    "plt.legend()\n",
    "\n",
    "plt.figure()\n",
    "\n",
    "plt.plot(epochs, loss, 'bo', label='Training loss')\n",
    "plt.plot(epochs, val_loss, 'b', label='Validation loss')\n",
    "plt.title('Training and validation loss')\n",
    "plt.legend()\n",
    "\n",
    "plt.show()"
   ]
  },
  {
   "cell_type": "markdown",
   "metadata": {},
   "source": [
    "# Ninth neural network:\n",
    "\n",
    "For this network, all the hidden layers have implemented a kernel regularized with l2 = 0.0001\n",
    "\n",
    "## Network architecture:\n",
    "\n",
    "\n",
    "1. Input layer: 150 x 150 x 3 neurons \n",
    "2. First layer: 256 fully connected neurons, activated by rectified linear unit.\n",
    "3. Second layer: 256 fully connected neurons, activated by rectified linear unit.\n",
    "4. Third layer: 256 fully connected neurons, activated by rectified linear unit.\n",
    "5. Fourth layer: 256 fully connected neurons, activated by rectified linear unit.\n",
    "6. Fifth layer: 256 fully connected neurons, activated by rectified linear unit.\n",
    "7. Output layer: 1 Sigmoid activated neuron."
   ]
  },
  {
   "cell_type": "code",
   "execution_count": 63,
   "metadata": {},
   "outputs": [],
   "source": [
    "from keras import regularizers\n",
    "\n",
    "model = models.Sequential()\n",
    "model.add(layers.Flatten(input_shape=(150, 150, 3)))\n",
    "model.add(layers.Dense(256, activation='relu', kernel_regularizer=regularizers.l2(0.0001)))\n",
    "model.add(layers.Dense(256, activation='relu', kernel_regularizer=regularizers.l2(0.0001)))\n",
    "model.add(layers.Dense(256, activation='relu', kernel_regularizer=regularizers.l2(0.0001)))\n",
    "model.add(layers.Dense(256, activation='relu', kernel_regularizer=regularizers.l2(0.0001)))\n",
    "model.add(layers.Dense(256, activation='relu', kernel_regularizer=regularizers.l2(0.0001)))\n",
    "model.add(layers.Dense(1, activation='sigmoid'))"
   ]
  },
  {
   "cell_type": "code",
   "execution_count": 64,
   "metadata": {
    "colab": {},
    "colab_type": "code",
    "id": "FObu2eXefawi"
   },
   "outputs": [
    {
     "name": "stdout",
     "output_type": "stream",
     "text": [
      "Model: \"sequential_9\"\n",
      "_________________________________________________________________\n",
      "Layer (type)                 Output Shape              Param #   \n",
      "=================================================================\n",
      "flatten_9 (Flatten)          (None, 67500)             0         \n",
      "_________________________________________________________________\n",
      "dense_38 (Dense)             (None, 256)               17280256  \n",
      "_________________________________________________________________\n",
      "dense_39 (Dense)             (None, 256)               65792     \n",
      "_________________________________________________________________\n",
      "dense_40 (Dense)             (None, 256)               65792     \n",
      "_________________________________________________________________\n",
      "dense_41 (Dense)             (None, 256)               65792     \n",
      "_________________________________________________________________\n",
      "dense_42 (Dense)             (None, 256)               65792     \n",
      "_________________________________________________________________\n",
      "dense_43 (Dense)             (None, 1)                 257       \n",
      "=================================================================\n",
      "Total params: 17,543,681\n",
      "Trainable params: 17,543,681\n",
      "Non-trainable params: 0\n",
      "_________________________________________________________________\n"
     ]
    }
   ],
   "source": [
    "model.summary()"
   ]
  },
  {
   "cell_type": "code",
   "execution_count": 65,
   "metadata": {
    "colab": {},
    "colab_type": "code",
    "id": "P5ilr9NDfawq"
   },
   "outputs": [
    {
     "name": "stdout",
     "output_type": "stream",
     "text": [
      "Found 2000 images belonging to 2 classes.\n",
      "Found 1000 images belonging to 2 classes.\n"
     ]
    }
   ],
   "source": [
    "from keras.preprocessing.image import ImageDataGenerator\n",
    "\n",
    "# All images will be rescaled by 1./255\n",
    "train_datagen = ImageDataGenerator(rescale=1./255)\n",
    "test_datagen = ImageDataGenerator(rescale=1./255)\n",
    "\n",
    "train_generator = train_datagen.flow_from_directory(\n",
    "        # This is the target directory\n",
    "        train_dir,\n",
    "        # All images will be resized to 150x150\n",
    "        target_size=(150, 150),\n",
    "        batch_size=20,\n",
    "        # Since we use binary_crossentropy loss, we need binary labels\n",
    "        class_mode='binary')\n",
    "\n",
    "validation_generator = test_datagen.flow_from_directory(\n",
    "        validation_dir,\n",
    "        target_size=(150, 150),\n",
    "        batch_size=20,\n",
    "        class_mode='binary')"
   ]
  },
  {
   "cell_type": "markdown",
   "metadata": {},
   "source": [
    "# Ninth model training:\n",
    "\n",
    "## Characteristics:\n",
    "\n",
    "1. Batch in training: 20\n",
    "2. Batch in validation: 20\n",
    "3. Steps per epoch: 100\n",
    "4. Epochs: 30\n",
    "5. Validation steps:50\n",
    "6. Learning rate: 0.01\n",
    "7. Regularization is implemented with l2 = 0.0001"
   ]
  },
  {
   "cell_type": "code",
   "execution_count": 66,
   "metadata": {
    "colab": {},
    "colab_type": "code",
    "id": "UTAfXDR_fawm"
   },
   "outputs": [],
   "source": [
    "from keras import optimizers\n",
    "\n",
    "model.compile(loss='binary_crossentropy',\n",
    "              optimizer=optimizers.SGD(lr=0.01, momentum=0.0, decay=0.0, nesterov=False),\n",
    "              metrics=['acc'])"
   ]
  },
  {
   "cell_type": "code",
   "execution_count": 67,
   "metadata": {
    "colab": {},
    "colab_type": "code",
    "id": "iHHoZxNFfawx"
   },
   "outputs": [
    {
     "name": "stdout",
     "output_type": "stream",
     "text": [
      "Epoch 1/30\n",
      "100/100 [==============================] - 84s 839ms/step - loss: 0.8517 - acc: 0.5200 - val_loss: 0.8521 - val_acc: 0.5500\n",
      "Epoch 2/30\n",
      "100/100 [==============================] - 83s 829ms/step - loss: 0.8409 - acc: 0.5575 - val_loss: 0.8735 - val_acc: 0.5300\n",
      "Epoch 3/30\n",
      "100/100 [==============================] - 84s 838ms/step - loss: 0.8353 - acc: 0.5635 - val_loss: 0.8817 - val_acc: 0.5440\n",
      "Epoch 4/30\n",
      "100/100 [==============================] - 83s 828ms/step - loss: 0.8293 - acc: 0.5790 - val_loss: 0.7401 - val_acc: 0.5900\n",
      "Epoch 5/30\n",
      "100/100 [==============================] - 84s 838ms/step - loss: 0.8231 - acc: 0.5960 - val_loss: 0.8378 - val_acc: 0.5830\n",
      "Epoch 6/30\n",
      "100/100 [==============================] - 84s 837ms/step - loss: 0.8170 - acc: 0.5980 - val_loss: 0.8187 - val_acc: 0.5540\n",
      "Epoch 7/30\n",
      "100/100 [==============================] - 82s 825ms/step - loss: 0.8101 - acc: 0.6005 - val_loss: 0.8323 - val_acc: 0.5690\n",
      "Epoch 8/30\n",
      "100/100 [==============================] - 82s 822ms/step - loss: 0.7979 - acc: 0.6245 - val_loss: 0.7826 - val_acc: 0.5660\n",
      "Epoch 9/30\n",
      "100/100 [==============================] - 83s 829ms/step - loss: 0.7929 - acc: 0.6270 - val_loss: 0.8495 - val_acc: 0.5690\n",
      "Epoch 10/30\n",
      "100/100 [==============================] - 83s 828ms/step - loss: 0.7891 - acc: 0.6390 - val_loss: 0.9433 - val_acc: 0.5940\n",
      "Epoch 11/30\n",
      "100/100 [==============================] - 83s 831ms/step - loss: 0.7815 - acc: 0.6420 - val_loss: 0.9196 - val_acc: 0.6150\n",
      "Epoch 12/30\n",
      "100/100 [==============================] - 84s 841ms/step - loss: 0.7800 - acc: 0.6420 - val_loss: 0.7124 - val_acc: 0.5790\n",
      "Epoch 13/30\n",
      "100/100 [==============================] - 83s 831ms/step - loss: 0.7699 - acc: 0.6505 - val_loss: 0.7207 - val_acc: 0.6080\n",
      "Epoch 14/30\n",
      "100/100 [==============================] - 84s 838ms/step - loss: 0.7691 - acc: 0.6600 - val_loss: 0.7559 - val_acc: 0.5890\n",
      "Epoch 15/30\n",
      "100/100 [==============================] - 83s 831ms/step - loss: 0.7495 - acc: 0.6730 - val_loss: 0.9503 - val_acc: 0.5670\n",
      "Epoch 16/30\n",
      "100/100 [==============================] - 83s 833ms/step - loss: 0.7560 - acc: 0.6760 - val_loss: 0.9889 - val_acc: 0.6050\n",
      "Epoch 17/30\n",
      "100/100 [==============================] - 82s 825ms/step - loss: 0.7462 - acc: 0.6815 - val_loss: 0.8722 - val_acc: 0.6180\n",
      "Epoch 18/30\n",
      "100/100 [==============================] - 83s 831ms/step - loss: 0.7320 - acc: 0.7000 - val_loss: 0.7784 - val_acc: 0.5690\n",
      "Epoch 19/30\n",
      "100/100 [==============================] - 83s 831ms/step - loss: 0.7275 - acc: 0.6985 - val_loss: 0.9206 - val_acc: 0.5910\n",
      "Epoch 20/30\n",
      "100/100 [==============================] - 83s 834ms/step - loss: 0.7161 - acc: 0.7130 - val_loss: 0.9718 - val_acc: 0.5830\n",
      "Epoch 21/30\n",
      "100/100 [==============================] - 85s 847ms/step - loss: 0.7069 - acc: 0.7240 - val_loss: 1.1190 - val_acc: 0.6060\n",
      "Epoch 22/30\n",
      "100/100 [==============================] - 83s 833ms/step - loss: 0.7030 - acc: 0.7150 - val_loss: 1.0794 - val_acc: 0.5960\n",
      "Epoch 23/30\n",
      "100/100 [==============================] - 84s 841ms/step - loss: 0.6796 - acc: 0.7370 - val_loss: 0.6938 - val_acc: 0.5930\n",
      "Epoch 24/30\n",
      "100/100 [==============================] - 83s 830ms/step - loss: 0.6926 - acc: 0.7240 - val_loss: 0.8418 - val_acc: 0.6020\n",
      "Epoch 25/30\n",
      "100/100 [==============================] - 83s 835ms/step - loss: 0.6763 - acc: 0.7400 - val_loss: 0.7152 - val_acc: 0.6340\n",
      "Epoch 26/30\n",
      "100/100 [==============================] - 83s 834ms/step - loss: 0.6609 - acc: 0.7515 - val_loss: 0.8024 - val_acc: 0.6450\n",
      "Epoch 27/30\n",
      "100/100 [==============================] - 82s 817ms/step - loss: 0.6546 - acc: 0.7590 - val_loss: 0.5998 - val_acc: 0.6050\n",
      "Epoch 28/30\n",
      "100/100 [==============================] - 82s 818ms/step - loss: 0.6540 - acc: 0.7590 - val_loss: 0.7418 - val_acc: 0.6100\n",
      "Epoch 29/30\n",
      "100/100 [==============================] - 82s 819ms/step - loss: 0.6750 - acc: 0.7430 - val_loss: 0.8529 - val_acc: 0.5800\n",
      "Epoch 30/30\n",
      "100/100 [==============================] - 84s 839ms/step - loss: 0.6335 - acc: 0.7655 - val_loss: 1.5938 - val_acc: 0.5650\n"
     ]
    }
   ],
   "source": [
    "history = model.fit_generator(\n",
    "      train_generator,\n",
    "      steps_per_epoch=100,\n",
    "      epochs=30,\n",
    "      validation_data=validation_generator,\n",
    "      validation_steps=50)"
   ]
  },
  {
   "cell_type": "markdown",
   "metadata": {},
   "source": [
    "# Ninth model training:\n",
    "\n",
    "## Results:\n",
    "\n",
    "Intended to be a tool for reducing the complexity of a model the Ridge Regression did caused the network to avoid as much overfitting as it had previously done, however the predictive model obtained was not good enough to classify the validation set. It is worth noting that this time the NN was capable of obtaining acciracies of 0.63 and 0.64 at two of the epochs which shows a better performance yet the improvement over previos attemps is negligible."
   ]
  },
  {
   "cell_type": "code",
   "execution_count": 68,
   "metadata": {
    "colab": {
     "base_uri": "https://localhost:8080/",
     "height": 232
    },
    "colab_type": "code",
    "executionInfo": {
     "elapsed": 374,
     "status": "error",
     "timestamp": 1583115068444,
     "user": {
      "displayName": "Jesús Leopoldo Llano García",
      "photoUrl": "https://lh3.googleusercontent.com/a-/AOh14Ggh50_e9Hk0sAIwY10hcKorQi0ew_DDbDNtDplE=s64",
      "userId": "11166401614180834702"
     },
     "user_tz": 360
    },
    "id": "pyjXYq1hfawz",
    "outputId": "c0b172e5-3827-4570-ca81-f7422623336d"
   },
   "outputs": [
    {
     "data": {
      "image/png": "[encoded data removed]",
      "text/plain": [
       "<Figure size 432x288 with 1 Axes>"
      ]
     },
     "metadata": {
      "needs_background": "light"
     },
     "output_type": "display_data"
    },
    {
     "data": {
      "image/png": "[encoded data removed]",
      "text/plain": [
       "<Figure size 432x288 with 1 Axes>"
      ]
     },
     "metadata": {
      "needs_background": "light"
     },
     "output_type": "display_data"
    }
   ],
   "source": [
    "import matplotlib.pyplot as plt\n",
    "\n",
    "acc = history.history['acc']\n",
    "val_acc = history.history['val_acc']\n",
    "loss = history.history['loss']\n",
    "val_loss = history.history['val_loss']\n",
    "\n",
    "epochs = range(len(acc))\n",
    "\n",
    "plt.plot(epochs, acc, 'bo', label='Training acc')\n",
    "plt.plot(epochs, val_acc, 'b', label='Validation acc')\n",
    "plt.title('Training and validation accuracy')\n",
    "plt.legend()\n",
    "\n",
    "plt.figure()\n",
    "\n",
    "plt.plot(epochs, loss, 'bo', label='Training loss')\n",
    "plt.plot(epochs, val_loss, 'b', label='Validation loss')\n",
    "plt.title('Training and validation loss')\n",
    "plt.legend()\n",
    "\n",
    "plt.show()"
   ]
  },
  {
   "cell_type": "markdown",
   "metadata": {},
   "source": [
    "# Tenth neural network:\n",
    "\n",
    "This neural network has implemented a regularizer with l2 = 0.0001, and it also implement the dropout method with a probability of 0.25.\n",
    "\n",
    "## Network architecture:\n",
    "\n",
    "\n",
    "1. Input layer: 150 x 150 x 3 neurons \n",
    "2. First layer: 512 fully connected neurons, activated by rectified linear unit.\n",
    "3. Second layer: 512 fully connected neurons, activated by rectified linear unit.\n",
    "4. Third layer: 512 fully connected neurons, activated by rectified linear unit.\n",
    "5. Fourth layer: 512 fully connected neurons, activated by rectified linear unit.\n",
    "6. Fifth layer : 512 fully connected neurons, activated by rectified linear unit.\n",
    "7. Output layer: 1 Sigmoid activated neuron."
   ]
  },
  {
   "cell_type": "code",
   "execution_count": 77,
   "metadata": {},
   "outputs": [],
   "source": [
    "from keras.layers import Dropout\n",
    "\n",
    "model = models.Sequential()\n",
    "model.add(layers.Flatten(input_shape=(150, 150, 3)))\n",
    "model.add(layers.Dense(512, activation='relu', kernel_regularizer=regularizers.l2(0.0001)))\n",
    "model.add(Dropout(0.25))\n",
    "model.add(layers.Dense(512, activation='relu', kernel_regularizer=regularizers.l2(0.0001)))\n",
    "model.add(Dropout(0.25))\n",
    "model.add(layers.Dense(512, activation='relu', kernel_regularizer=regularizers.l2(0.0001)))\n",
    "model.add(Dropout(0.25))\n",
    "model.add(layers.Dense(512, activation='relu', kernel_regularizer=regularizers.l2(0.0001)))\n",
    "model.add(Dropout(0.25))\n",
    "model.add(layers.Dense(512, activation='relu', kernel_regularizer=regularizers.l2(0.0001)))\n",
    "model.add(Dropout(0.25))\n",
    "model.add(layers.Dense(1, activation='sigmoid'))"
   ]
  },
  {
   "cell_type": "code",
   "execution_count": 78,
   "metadata": {
    "colab": {},
    "colab_type": "code",
    "id": "FObu2eXefawi"
   },
   "outputs": [
    {
     "name": "stdout",
     "output_type": "stream",
     "text": [
      "Model: \"sequential_12\"\n",
      "_________________________________________________________________\n",
      "Layer (type)                 Output Shape              Param #   \n",
      "=================================================================\n",
      "flatten_12 (Flatten)         (None, 67500)             0         \n",
      "_________________________________________________________________\n",
      "dense_56 (Dense)             (None, 512)               34560512  \n",
      "_________________________________________________________________\n",
      "dropout_11 (Dropout)         (None, 512)               0         \n",
      "_________________________________________________________________\n",
      "dense_57 (Dense)             (None, 512)               262656    \n",
      "_________________________________________________________________\n",
      "dropout_12 (Dropout)         (None, 512)               0         \n",
      "_________________________________________________________________\n",
      "dense_58 (Dense)             (None, 512)               262656    \n",
      "_________________________________________________________________\n",
      "dropout_13 (Dropout)         (None, 512)               0         \n",
      "_________________________________________________________________\n",
      "dense_59 (Dense)             (None, 512)               262656    \n",
      "_________________________________________________________________\n",
      "dropout_14 (Dropout)         (None, 512)               0         \n",
      "_________________________________________________________________\n",
      "dense_60 (Dense)             (None, 512)               262656    \n",
      "_________________________________________________________________\n",
      "dropout_15 (Dropout)         (None, 512)               0         \n",
      "_________________________________________________________________\n",
      "dense_61 (Dense)             (None, 1)                 513       \n",
      "=================================================================\n",
      "Total params: 35,611,649\n",
      "Trainable params: 35,611,649\n",
      "Non-trainable params: 0\n",
      "_________________________________________________________________\n"
     ]
    }
   ],
   "source": [
    "model.summary()"
   ]
  },
  {
   "cell_type": "code",
   "execution_count": 79,
   "metadata": {
    "colab": {},
    "colab_type": "code",
    "id": "UTAfXDR_fawm"
   },
   "outputs": [],
   "source": [
    "from keras import optimizers\n",
    "\n",
    "model.compile(loss='binary_crossentropy',\n",
    "              optimizer=optimizers.SGD(lr=0.01, momentum=0.0, decay=0.0, nesterov=False),\n",
    "              metrics=['acc'])"
   ]
  },
  {
   "cell_type": "markdown",
   "metadata": {},
   "source": [
    "# Tenth model training:\n",
    "\n",
    "## Characteristics:\n",
    "\n",
    "1. Batch in training: 20\n",
    "2. Batch in validation: 20\n",
    "3. Steps per epoch: 100\n",
    "4. Epochs: 30\n",
    "5. Validation steps:50\n",
    "6. Learning rate: 0.01\n",
    "7. Regularization with l2 = 0.0001\n",
    "8. Dropout with probability of 0.25"
   ]
  },
  {
   "cell_type": "code",
   "execution_count": 80,
   "metadata": {
    "colab": {},
    "colab_type": "code",
    "id": "iHHoZxNFfawx"
   },
   "outputs": [
    {
     "name": "stdout",
     "output_type": "stream",
     "text": [
      "Epoch 1/30\n",
      "100/100 [==============================] - 151s 2s/step - loss: 1.0288 - acc: 0.5110 - val_loss: 1.0097 - val_acc: 0.5000\n",
      "Epoch 2/30\n",
      "100/100 [==============================] - 151s 2s/step - loss: 1.0176 - acc: 0.4990 - val_loss: 1.0062 - val_acc: 0.5000\n",
      "Epoch 3/30\n",
      "100/100 [==============================] - 151s 2s/step - loss: 1.0073 - acc: 0.5080 - val_loss: 0.9982 - val_acc: 0.5010\n",
      "Epoch 4/30\n",
      "100/100 [==============================] - 154s 2s/step - loss: 1.0067 - acc: 0.5010 - val_loss: 0.9984 - val_acc: 0.5030\n",
      "Epoch 5/30\n",
      "100/100 [==============================] - 149s 1s/step - loss: 1.0035 - acc: 0.5070 - val_loss: 0.9828 - val_acc: 0.5460\n",
      "Epoch 6/30\n",
      "100/100 [==============================] - 150s 2s/step - loss: 0.9982 - acc: 0.5305 - val_loss: 0.9802 - val_acc: 0.5450\n",
      "Epoch 7/30\n",
      "100/100 [==============================] - 150s 2s/step - loss: 0.9998 - acc: 0.5280 - val_loss: 1.0239 - val_acc: 0.5080\n",
      "Epoch 8/30\n",
      "100/100 [==============================] - 150s 1s/step - loss: 0.9977 - acc: 0.5280 - val_loss: 0.9972 - val_acc: 0.5530\n",
      "Epoch 9/30\n",
      "100/100 [==============================] - 149s 1s/step - loss: 0.9946 - acc: 0.5285 - val_loss: 0.9712 - val_acc: 0.5450\n",
      "Epoch 10/30\n",
      "100/100 [==============================] - 151s 2s/step - loss: 0.9947 - acc: 0.5330 - val_loss: 0.9847 - val_acc: 0.5440\n",
      "Epoch 11/30\n",
      "100/100 [==============================] - 151s 2s/step - loss: 0.9924 - acc: 0.5385 - val_loss: 0.9738 - val_acc: 0.5430\n",
      "Epoch 12/30\n",
      "100/100 [==============================] - 150s 2s/step - loss: 0.9868 - acc: 0.5495 - val_loss: 0.9843 - val_acc: 0.5530\n",
      "Epoch 13/30\n",
      "100/100 [==============================] - 151s 2s/step - loss: 0.9821 - acc: 0.5765 - val_loss: 1.0219 - val_acc: 0.5510\n",
      "Epoch 14/30\n",
      "100/100 [==============================] - 150s 1s/step - loss: 0.9875 - acc: 0.5595 - val_loss: 0.9885 - val_acc: 0.5600\n",
      "Epoch 15/30\n",
      "100/100 [==============================] - 150s 2s/step - loss: 0.9779 - acc: 0.5750 - val_loss: 0.9378 - val_acc: 0.5590\n",
      "Epoch 16/30\n",
      "100/100 [==============================] - 150s 2s/step - loss: 0.9768 - acc: 0.5770 - val_loss: 0.9594 - val_acc: 0.5650\n",
      "Epoch 17/30\n",
      "100/100 [==============================] - 155s 2s/step - loss: 0.9695 - acc: 0.5995 - val_loss: 0.9581 - val_acc: 0.5360\n",
      "Epoch 18/30\n",
      "100/100 [==============================] - 155s 2s/step - loss: 0.9707 - acc: 0.5980 - val_loss: 0.9405 - val_acc: 0.5950\n",
      "Epoch 19/30\n",
      "100/100 [==============================] - 154s 2s/step - loss: 0.9675 - acc: 0.5880 - val_loss: 0.9689 - val_acc: 0.5940\n",
      "Epoch 20/30\n",
      "100/100 [==============================] - 155s 2s/step - loss: 0.9651 - acc: 0.6100 - val_loss: 0.8992 - val_acc: 0.6070\n",
      "Epoch 21/30\n",
      "100/100 [==============================] - 153s 2s/step - loss: 0.9631 - acc: 0.6105 - val_loss: 0.9554 - val_acc: 0.5830\n",
      "Epoch 22/30\n",
      "100/100 [==============================] - 157s 2s/step - loss: 0.9595 - acc: 0.6245 - val_loss: 1.0482 - val_acc: 0.5550\n",
      "Epoch 23/30\n",
      "100/100 [==============================] - 156s 2s/step - loss: 0.9534 - acc: 0.6265 - val_loss: 0.9737 - val_acc: 0.6070\n",
      "Epoch 24/30\n",
      "100/100 [==============================] - 155s 2s/step - loss: 0.9535 - acc: 0.6240 - val_loss: 0.9003 - val_acc: 0.5950\n",
      "Epoch 25/30\n",
      "100/100 [==============================] - 154s 2s/step - loss: 0.9477 - acc: 0.6230 - val_loss: 0.9235 - val_acc: 0.5970\n",
      "Epoch 26/30\n",
      "100/100 [==============================] - 154s 2s/step - loss: 0.9379 - acc: 0.6310 - val_loss: 0.9680 - val_acc: 0.6010\n",
      "Epoch 27/30\n",
      "100/100 [==============================] - 155s 2s/step - loss: 0.9380 - acc: 0.6340 - val_loss: 0.9227 - val_acc: 0.5700\n",
      "Epoch 28/30\n",
      "100/100 [==============================] - 154s 2s/step - loss: 0.9353 - acc: 0.6475 - val_loss: 1.0223 - val_acc: 0.6100\n",
      "Epoch 29/30\n",
      "100/100 [==============================] - 155s 2s/step - loss: 0.9334 - acc: 0.6450 - val_loss: 1.1170 - val_acc: 0.6180\n",
      "Epoch 30/30\n",
      "100/100 [==============================] - 156s 2s/step - loss: 0.9236 - acc: 0.6470 - val_loss: 1.0978 - val_acc: 0.6150\n"
     ]
    }
   ],
   "source": [
    "history = model.fit_generator(\n",
    "      train_generator,\n",
    "      steps_per_epoch=100,\n",
    "      epochs=30,\n",
    "      validation_data=validation_generator,\n",
    "      validation_steps=50)"
   ]
  },
  {
   "cell_type": "markdown",
   "metadata": {},
   "source": [
    "# Tenth model training:\n",
    "\n",
    "## Results:\n",
    "\n",
    "By duplicating the number of hiden units and combining both a Ridge regression and a set of dropout layers, we where able to fight overfitting as both the training and the validation accuracies show similar behaviours and are closer one another.  However as shown in the plots the trend of the training accuracy still increases more than that of the validation. Not to mention the overall poor performance of the model while classifying new instances. Furthermore, we can see that the cost function for the validation set skyrockets just before the algorithm terminates."
   ]
  },
  {
   "cell_type": "code",
   "execution_count": 81,
   "metadata": {
    "colab": {
     "base_uri": "https://localhost:8080/",
     "height": 232
    },
    "colab_type": "code",
    "executionInfo": {
     "elapsed": 374,
     "status": "error",
     "timestamp": 1583115068444,
     "user": {
      "displayName": "Jesús Leopoldo Llano García",
      "photoUrl": "https://lh3.googleusercontent.com/a-/AOh14Ggh50_e9Hk0sAIwY10hcKorQi0ew_DDbDNtDplE=s64",
      "userId": "11166401614180834702"
     },
     "user_tz": 360
    },
    "id": "pyjXYq1hfawz",
    "outputId": "c0b172e5-3827-4570-ca81-f7422623336d"
   },
   "outputs": [
    {
     "data": {
      "image/png": "[encoded data removed]",
      "text/plain": [
       "<Figure size 432x288 with 1 Axes>"
      ]
     },
     "metadata": {
      "needs_background": "light"
     },
     "output_type": "display_data"
    },
    {
     "data": {
      "image/png": "[encoded data removed]",
      "text/plain": [
       "<Figure size 432x288 with 1 Axes>"
      ]
     },
     "metadata": {
      "needs_background": "light"
     },
     "output_type": "display_data"
    }
   ],
   "source": [
    "import matplotlib.pyplot as plt\n",
    "\n",
    "acc = history.history['acc']\n",
    "val_acc = history.history['val_acc']\n",
    "loss = history.history['loss']\n",
    "val_loss = history.history['val_loss']\n",
    "\n",
    "epochs = range(len(acc))\n",
    "\n",
    "plt.plot(epochs, acc, 'bo', label='Training acc')\n",
    "plt.plot(epochs, val_acc, 'b', label='Validation acc')\n",
    "plt.title('Training and validation accuracy')\n",
    "plt.legend()\n",
    "\n",
    "plt.figure()\n",
    "\n",
    "plt.plot(epochs, loss, 'bo', label='Training loss')\n",
    "plt.plot(epochs, val_loss, 'b', label='Validation loss')\n",
    "plt.title('Training and validation loss')\n",
    "plt.legend()\n",
    "\n",
    "plt.show()"
   ]
  },
  {
   "cell_type": "markdown",
   "metadata": {},
   "source": [
    "# Eleventh neural network:\n",
    "\n",
    "The neural network has implemented a regularizer with l2 = 0.0001 and dropout with probability of 0.25 in every hidden layer\n",
    "\n",
    "## Network architecture:\n",
    "\n",
    "\n",
    "1. Input layer: 150 x 150 x 3 neurons \n",
    "2. First layer: 512 fully connected neurons, activated by rectified linear unit.\n",
    "3. Second layer: 512 fully connected neurons, activated by rectified linear unit.\n",
    "4. Third layer: 512 fully connected neurons, activated by rectified linear unit.\n",
    "5. Fourth layer: 512 fully connected neurons, activated by rectified linear unit.\n",
    "6. Fifth layer: 512 fully connected neurons, activated by rectified linear unit.\n",
    "7. Output layer: 1 Sigmoid activated neuron."
   ]
  },
  {
   "cell_type": "code",
   "execution_count": 82,
   "metadata": {},
   "outputs": [],
   "source": [
    "model = models.Sequential()\n",
    "model.add(layers.Flatten(input_shape=(150, 150, 3)))\n",
    "model.add(layers.Dense(512, activation='relu', kernel_regularizer=regularizers.l2(0.0001)))\n",
    "model.add(Dropout(0.25))\n",
    "model.add(layers.Dense(512, activation='relu', kernel_regularizer=regularizers.l2(0.0001)))\n",
    "model.add(Dropout(0.25))\n",
    "model.add(layers.Dense(512, activation='relu', kernel_regularizer=regularizers.l2(0.0001)))\n",
    "model.add(Dropout(0.25))\n",
    "model.add(layers.Dense(512, activation='relu', kernel_regularizer=regularizers.l2(0.0001)))\n",
    "model.add(Dropout(0.25))\n",
    "model.add(layers.Dense(512, activation='relu', kernel_regularizer=regularizers.l2(0.0001)))\n",
    "model.add(Dropout(0.25))\n",
    "model.add(layers.Dense(1, activation='sigmoid'))"
   ]
  },
  {
   "cell_type": "code",
   "execution_count": 83,
   "metadata": {
    "colab": {},
    "colab_type": "code",
    "id": "FObu2eXefawi"
   },
   "outputs": [
    {
     "name": "stdout",
     "output_type": "stream",
     "text": [
      "Model: \"sequential_13\"\n",
      "_________________________________________________________________\n",
      "Layer (type)                 Output Shape              Param #   \n",
      "=================================================================\n",
      "flatten_13 (Flatten)         (None, 67500)             0         \n",
      "_________________________________________________________________\n",
      "dense_62 (Dense)             (None, 512)               34560512  \n",
      "_________________________________________________________________\n",
      "dropout_16 (Dropout)         (None, 512)               0         \n",
      "_________________________________________________________________\n",
      "dense_63 (Dense)             (None, 512)               262656    \n",
      "_________________________________________________________________\n",
      "dropout_17 (Dropout)         (None, 512)               0         \n",
      "_________________________________________________________________\n",
      "dense_64 (Dense)             (None, 512)               262656    \n",
      "_________________________________________________________________\n",
      "dropout_18 (Dropout)         (None, 512)               0         \n",
      "_________________________________________________________________\n",
      "dense_65 (Dense)             (None, 512)               262656    \n",
      "_________________________________________________________________\n",
      "dropout_19 (Dropout)         (None, 512)               0         \n",
      "_________________________________________________________________\n",
      "dense_66 (Dense)             (None, 512)               262656    \n",
      "_________________________________________________________________\n",
      "dropout_20 (Dropout)         (None, 512)               0         \n",
      "_________________________________________________________________\n",
      "dense_67 (Dense)             (None, 1)                 513       \n",
      "=================================================================\n",
      "Total params: 35,611,649\n",
      "Trainable params: 35,611,649\n",
      "Non-trainable params: 0\n",
      "_________________________________________________________________\n"
     ]
    }
   ],
   "source": [
    "model.summary()"
   ]
  },
  {
   "cell_type": "code",
   "execution_count": 85,
   "metadata": {},
   "outputs": [],
   "source": [
    "from keras.callbacks import EarlyStopping\n",
    "\n",
    "model.compile(loss='binary_crossentropy',\n",
    "              optimizer=optimizers.SGD(lr=0.01, momentum=0.0, decay=0.0, nesterov=False),\n",
    "              metrics=['acc'])"
   ]
  },
  {
   "cell_type": "markdown",
   "metadata": {},
   "source": [
    "# Eleventh model training:\n",
    "\n",
    "## Characteristics:\n",
    "\n",
    "1. Batch in training: 20\n",
    "2. Batch in validation: 20\n",
    "3. Steps per epoch: 100\n",
    "4. Epochs: 30\n",
    "5. Validation steps:50\n",
    "6. Learning rate: 0.01\n",
    "7. Regularization with l2 = 0.0001\n",
    "8. Dropout with probability of 0.25\n",
    "9. Early stopping with patience of 2\n"
   ]
  },
  {
   "cell_type": "code",
   "execution_count": 86,
   "metadata": {
    "colab": {},
    "colab_type": "code",
    "id": "iHHoZxNFfawx"
   },
   "outputs": [
    {
     "name": "stdout",
     "output_type": "stream",
     "text": [
      "Epoch 1/30\n",
      "100/100 [==============================] - 159s 2s/step - loss: 1.0316 - acc: 0.4995 - val_loss: 1.0167 - val_acc: 0.5000\n",
      "Epoch 2/30\n",
      "100/100 [==============================] - 157s 2s/step - loss: 1.0107 - acc: 0.5070 - val_loss: 0.9963 - val_acc: 0.4960\n",
      "Epoch 3/30\n",
      "100/100 [==============================] - 158s 2s/step - loss: 1.0090 - acc: 0.4920 - val_loss: 0.9969 - val_acc: 0.5320\n",
      "Epoch 4/30\n",
      "100/100 [==============================] - 157s 2s/step - loss: 1.0034 - acc: 0.5180 - val_loss: 0.9970 - val_acc: 0.5340\n",
      "Epoch 5/30\n",
      "100/100 [==============================] - 155s 2s/step - loss: 1.0018 - acc: 0.5045 - val_loss: 0.9847 - val_acc: 0.5310\n",
      "Epoch 6/30\n",
      "100/100 [==============================] - 156s 2s/step - loss: 1.0007 - acc: 0.5265 - val_loss: 0.9992 - val_acc: 0.5400\n",
      "Epoch 7/30\n",
      "100/100 [==============================] - 156s 2s/step - loss: 1.0022 - acc: 0.5200 - val_loss: 0.9942 - val_acc: 0.5480\n",
      "Epoch 8/30\n",
      "100/100 [==============================] - 156s 2s/step - loss: 0.9965 - acc: 0.5215 - val_loss: 0.9615 - val_acc: 0.5470\n",
      "Epoch 9/30\n",
      "100/100 [==============================] - 158s 2s/step - loss: 0.9957 - acc: 0.5370 - val_loss: 0.9806 - val_acc: 0.5070\n"
     ]
    }
   ],
   "source": [
    "history = model.fit_generator(\n",
    "      train_generator,\n",
    "      steps_per_epoch=100,\n",
    "      epochs=30,\n",
    "      validation_data=validation_generator,\n",
    "      validation_steps=50, callbacks=[EarlyStopping(monitor='val_acc', patience=2)])"
   ]
  },
  {
   "cell_type": "markdown",
   "metadata": {},
   "source": [
    "# Eleventh model training:\n",
    "\n",
    "## Results:\n",
    "\n",
    "In this particular case the early stopping only caused the model to stop the training at an early stage. While this significantly reduced the computational cost of the more complex model it also affected negatively to the performance of the network, since only 9 out of the 30 epochs where performed."
   ]
  },
  {
   "cell_type": "code",
   "execution_count": 87,
   "metadata": {
    "colab": {
     "base_uri": "https://localhost:8080/",
     "height": 232
    },
    "colab_type": "code",
    "executionInfo": {
     "elapsed": 374,
     "status": "error",
     "timestamp": 1583115068444,
     "user": {
      "displayName": "Jesús Leopoldo Llano García",
      "photoUrl": "https://lh3.googleusercontent.com/a-/AOh14Ggh50_e9Hk0sAIwY10hcKorQi0ew_DDbDNtDplE=s64",
      "userId": "11166401614180834702"
     },
     "user_tz": 360
    },
    "id": "pyjXYq1hfawz",
    "outputId": "c0b172e5-3827-4570-ca81-f7422623336d"
   },
   "outputs": [
    {
     "data": {
      "image/png": "[encoded data removed]",
      "text/plain": [
       "<Figure size 432x288 with 1 Axes>"
      ]
     },
     "metadata": {
      "needs_background": "light"
     },
     "output_type": "display_data"
    },
    {
     "data": {
      "image/png": "[encoded data removed]",
      "text/plain": [
       "<Figure size 432x288 with 1 Axes>"
      ]
     },
     "metadata": {
      "needs_background": "light"
     },
     "output_type": "display_data"
    }
   ],
   "source": [
    "import matplotlib.pyplot as plt\n",
    "\n",
    "acc = history.history['acc']\n",
    "val_acc = history.history['val_acc']\n",
    "loss = history.history['loss']\n",
    "val_loss = history.history['val_loss']\n",
    "\n",
    "epochs = range(len(acc))\n",
    "\n",
    "plt.plot(epochs, acc, 'bo', label='Training acc')\n",
    "plt.plot(epochs, val_acc, 'b', label='Validation acc')\n",
    "plt.title('Training and validation accuracy')\n",
    "plt.legend()\n",
    "\n",
    "plt.figure()\n",
    "\n",
    "plt.plot(epochs, loss, 'bo', label='Training loss')\n",
    "plt.plot(epochs, val_loss, 'b', label='Validation loss')\n",
    "plt.title('Training and validation loss')\n",
    "plt.legend()\n",
    "\n",
    "plt.show()"
   ]
  },
  {
   "cell_type": "markdown",
   "metadata": {},
   "source": [
    "# Twelfth neural network:\n",
    "\n",
    "This neural network has implemented a regularizer with l2 = 0.0001 and dropout with probability of 0.25 in every hidden layer\n",
    "\n",
    "## Network architecture:\n",
    "\n",
    "\n",
    "1. Input layer: 150 x 150 x 3 neurons \n",
    "2. First layer: 512 fully connected neurons, activated by rectified linear unit.\n",
    "3. Second layer: 512 fully connected neurons, activated by rectified linear unit.\n",
    "4. Third layer: 512 fully connected neurons, activated by rectified linear unit.\n",
    "5. Fourth layer: 512 fully connected neurons, activated by rectified linear unit.\n",
    "6. Fifth layer: 512 fully connected neurons, activated by rectified linear unit.\n",
    "7. Output layer: 1 Sigmoid activated neuron."
   ]
  },
  {
   "cell_type": "code",
   "execution_count": 88,
   "metadata": {},
   "outputs": [],
   "source": [
    "model = models.Sequential()\n",
    "model.add(layers.Flatten(input_shape=(150, 150, 3)))\n",
    "model.add(layers.Dense(512, activation='relu', kernel_regularizer=regularizers.l2(0.0001)))\n",
    "model.add(Dropout(0.25))\n",
    "model.add(layers.Dense(512, activation='relu', kernel_regularizer=regularizers.l2(0.0001)))\n",
    "model.add(Dropout(0.25))\n",
    "model.add(layers.Dense(512, activation='relu', kernel_regularizer=regularizers.l2(0.0001)))\n",
    "model.add(Dropout(0.25))\n",
    "model.add(layers.Dense(512, activation='relu', kernel_regularizer=regularizers.l2(0.0001)))\n",
    "model.add(Dropout(0.25))\n",
    "model.add(layers.Dense(512, activation='relu', kernel_regularizer=regularizers.l2(0.0001)))\n",
    "model.add(Dropout(0.25))\n",
    "model.add(layers.Dense(1, activation='sigmoid'))"
   ]
  },
  {
   "cell_type": "code",
   "execution_count": 89,
   "metadata": {},
   "outputs": [],
   "source": [
    "from keras.callbacks import EarlyStopping\n",
    "\n",
    "model.compile(loss='binary_crossentropy',\n",
    "              optimizer=optimizers.SGD(lr=0.01, momentum=0.0, decay=0.0, nesterov=False),\n",
    "              metrics=['acc'])"
   ]
  },
  {
   "cell_type": "markdown",
   "metadata": {},
   "source": [
    "# Twelfth model training:\n",
    "\n",
    "## Characteristics:\n",
    "\n",
    "1. Batch in training: 20\n",
    "2. Batch in validation: 20\n",
    "3. Steps per epoch: 100\n",
    "4. Epochs: 30\n",
    "5. Validation steps:50\n",
    "6. Learning rate: 0.01\n",
    "7. Regularization with l2 = 0.0001\n",
    "8. Dropout with probability of 0.25\n",
    "9. Early stopping with a patience of 3 "
   ]
  },
  {
   "cell_type": "code",
   "execution_count": 91,
   "metadata": {},
   "outputs": [
    {
     "name": "stdout",
     "output_type": "stream",
     "text": [
      "Epoch 1/30\n",
      "100/100 [==============================] - 152s 2s/step - loss: 1.0300 - acc: 0.5045 - val_loss: 1.0051 - val_acc: 0.5120\n",
      "Epoch 2/30\n",
      "100/100 [==============================] - 151s 2s/step - loss: 1.0061 - acc: 0.5290 - val_loss: 0.9877 - val_acc: 0.5230\n",
      "Epoch 3/30\n",
      "100/100 [==============================] - 153s 2s/step - loss: 1.0103 - acc: 0.5015 - val_loss: 1.0456 - val_acc: 0.5000\n",
      "Epoch 4/30\n",
      "100/100 [==============================] - 151s 2s/step - loss: 1.0064 - acc: 0.5055 - val_loss: 1.0040 - val_acc: 0.5080\n",
      "Epoch 5/30\n",
      "100/100 [==============================] - 148s 1s/step - loss: 1.0008 - acc: 0.5110 - val_loss: 1.0013 - val_acc: 0.5200\n"
     ]
    }
   ],
   "source": [
    "history = model.fit_generator(\n",
    "      train_generator,\n",
    "      steps_per_epoch=100,\n",
    "      epochs=30,\n",
    "      validation_data=validation_generator,\n",
    "      validation_steps=50, callbacks=[EarlyStopping(monitor='val_acc', patience=3)])"
   ]
  },
  {
   "cell_type": "code",
   "execution_count": 92,
   "metadata": {},
   "outputs": [
    {
     "data": {
      "image/png": "[encoded data removed]",
      "text/plain": [
       "<Figure size 432x288 with 1 Axes>"
      ]
     },
     "metadata": {
      "needs_background": "light"
     },
     "output_type": "display_data"
    },
    {
     "data": {
      "image/png": "[encoded data removed]",
      "text/plain": [
       "<Figure size 432x288 with 1 Axes>"
      ]
     },
     "metadata": {
      "needs_background": "light"
     },
     "output_type": "display_data"
    }
   ],
   "source": [
    "import matplotlib.pyplot as plt\n",
    "\n",
    "acc = history.history['acc']\n",
    "val_acc = history.history['val_acc']\n",
    "loss = history.history['loss']\n",
    "val_loss = history.history['val_loss']\n",
    "\n",
    "epochs = range(len(acc))\n",
    "\n",
    "plt.plot(epochs, acc, 'bo', label='Training acc')\n",
    "plt.plot(epochs, val_acc, 'b', label='Validation acc')\n",
    "plt.title('Training and validation accuracy')\n",
    "plt.legend()\n",
    "\n",
    "plt.figure()\n",
    "\n",
    "plt.plot(epochs, loss, 'bo', label='Training loss')\n",
    "plt.plot(epochs, val_loss, 'b', label='Validation loss')\n",
    "plt.title('Training and validation loss')\n",
    "plt.legend()\n",
    "\n",
    "plt.show()"
   ]
  },
  {
   "cell_type": "markdown",
   "metadata": {},
   "source": [
    "# Twelfth model training:\n",
    "\n",
    "## Results:\n",
    "\n",
    "Somehow this time even when the patience of the earlystopping was increased the model stopped earlier, which only resulted in even poorer results than those obtained by the previous hoever we can see that the accuracy of both the training and validation is quite similar."
   ]
  },
  {
   "cell_type": "markdown",
   "metadata": {},
   "source": [
    "# Discussion\n",
    "\n",
    "This dataset is not easy to solve. In fact, having just over 0.83 accuracy would make you earn bronze in the kaggle competition. By analysing the winners of that same competition, we can guarantee that it is possible to achieve an accuracy of almost 0.99 but for this a lot of preprocessing and more complex techniques would be necessary, together with a lot of time and computational resources. \n",
    "\n",
    "It was relatively easy to see some of the effects that the hyperparameters have over the training and performance of a model: more complex models take longer to train but have a larger possibility of achieve a better accuracy. The learning rate has the effect of smoothing the validation and test accuracy and costs over time due to the difference in the step size that the gradient takes while searching for the optimal weights and bias. But some effects were negligible, like adding more hidden layers or halving the number of units per layer. This does not mean that the tools used here are useless, the dataset is just difficult to classify using techniques so basic, definitelly there are more advanced contraptions that might obtain a better performance, however we have to take note on the importance of identifying the adequate model for a particular task."
   ]
  },
  {
   "cell_type": "code",
   "execution_count": null,
   "metadata": {},
   "outputs": [],
   "source": []
  }
 ],
 "metadata": {
  "colab": {
   "name": "A3_dogsvscatsDNN.ipynb",
   "provenance": [
    {
     "file_id": "1lCaBGCpjm4mw-bZ90hc4C3X-IqNLzmhn",
     "timestamp": 1583089583386
    }
   ]
  },
  "kernel_info": {
   "name": "python3"
  },
  "kernelspec": {
   "display_name": "Python 3",
   "language": "python",
   "name": "python3"
  },
  "language_info": {
   "codemirror_mode": {
    "name": "ipython",
    "version": 3
   },
   "file_extension": ".py",
   "mimetype": "text/x-python",
   "name": "python",
   "nbconvert_exporter": "python",
   "pygments_lexer": "ipython3",
   "version": "3.6.9"
  },
  "nteract": {
   "version": "0.12.3"
  }
 },
 "nbformat": 4,
 "nbformat_minor": 1
}
