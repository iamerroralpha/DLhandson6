{
 "cells": [
  {
   "cell_type": "markdown",
   "metadata": {
    "colab_type": "text",
    "collapsed": true,
    "id": "43vJgpZNfawL"
   },
   "source": [
    "# Assignment 3\n",
    "\n",
    "__Instructions:__\n",
    "- You will use this Keras program to perform binary classification experiments on the Dogs and Cats dataset.\n",
    "- You can download the original dataset from www.kaggle.com/c/dogs-vs-cats/data (you’ll need to create a Kaggle account if you don’t already have one—don’t worry, the process is painless).\n",
    "- Adjust the following hyperparameters:\n",
    "    - Number of hidden layers\n",
    "    - Number of hidden units\n",
    "    - Learning rate\n",
    "    - Mini-batch size\n",
    "- Use two or more regularization methods.\n",
    "- Discuss the effect of these hyperparameters and regularization in the performance of classification and in the model overfitting.\n",
    "\n",
    "__Evaluation ponderation:__\n",
    "- Hyperparameters tuning and corresponding discussion ---- 50%\n",
    "- Regularization and corresponding discussion ------------ 50%\n",
    "- Total ---------------------------------------------------100%\n",
    "\n",
    "Code reference: https://github.com/fchollet"
   ]
  },
  {
   "cell_type": "code",
   "execution_count": 1,
   "metadata": {
    "colab": {
     "base_uri": "https://localhost:8080/",
     "height": 97
    },
    "colab_type": "code",
    "executionInfo": {
     "elapsed": 2151,
     "status": "ok",
     "timestamp": 1583204365699,
     "user": {
      "displayName": "Jesús Leopoldo Llano García",
      "photoUrl": "https://lh3.googleusercontent.com/a-/AOh14Ggh50_e9Hk0sAIwY10hcKorQi0ew_DDbDNtDplE=s64",
      "userId": "11166401614180834702"
     },
     "user_tz": 360
    },
    "id": "mJtLJoRWfawO",
    "outputId": "c82f23ce-af08-47e3-886f-5464d6f67fa2"
   },
   "outputs": [
    {
     "ename": "ModuleNotFoundError",
     "evalue": "No module named 'keras'",
     "output_type": "error",
     "traceback": [
      "\u001b[0;31m---------------------------------------------------------------------------\u001b[0m",
      "\u001b[0;31mModuleNotFoundError\u001b[0m                       Traceback (most recent call last)",
      "\u001b[0;32m<ipython-input-1-98cd3281928c>\u001b[0m in \u001b[0;36m<module>\u001b[0;34m\u001b[0m\n\u001b[0;32m----> 1\u001b[0;31m \u001b[0;32mimport\u001b[0m \u001b[0mkeras\u001b[0m\u001b[0;34m\u001b[0m\u001b[0;34m\u001b[0m\u001b[0m\n\u001b[0m\u001b[1;32m      2\u001b[0m \u001b[0mkeras\u001b[0m\u001b[0;34m.\u001b[0m\u001b[0m__version__\u001b[0m\u001b[0;34m\u001b[0m\u001b[0;34m\u001b[0m\u001b[0m\n",
      "\u001b[0;31mModuleNotFoundError\u001b[0m: No module named 'keras'"
     ]
    }
   ],
   "source": [
    "import keras\n",
    "keras.__version__"
   ]
  },
  {
   "cell_type": "code",
   "execution_count": 6,
   "metadata": {
    "colab": {},
    "colab_type": "code",
    "id": "2xiM2S1mfawT"
   },
   "outputs": [],
   "source": [
    "import os, shutil"
   ]
  },
  {
   "cell_type": "code",
   "execution_count": null,
   "metadata": {
    "colab": {
     "base_uri": "https://localhost:8080/",
     "height": 105
    },
    "colab_type": "code",
    "id": "oQf4s-d1Vr7w",
    "outputId": "36ce1bc9-0f7a-41a1-fd1b-167a5c684b3d"
   },
   "outputs": [],
   "source": [
    "from google.colab import drive\n",
    "drive.mount('/content/drive',force_remount=True)"
   ]
  },
  {
   "cell_type": "code",
   "execution_count": 7,
   "metadata": {},
   "outputs": [],
   "source": [
    "#runthis if you already have run the whole thing and you dont wanna f it up\n",
    "\n",
    "original_dataset_dir = '/home/guby/Documents/Playground/A3-20200303T030127Z-001/A3/Data/train'\n",
    "\n",
    "base_dir = 'CatsNDogs'\n",
    "\n",
    "train_dir = os.path.join(base_dir, 'train')\n",
    "validation_dir = os.path.join(base_dir, 'validation')\n",
    "test_dir = os.path.join(base_dir, 'test')\n",
    "\n",
    "train_cats_dir = os.path.join(train_dir, 'cats')\n",
    "\n",
    "# Directory with our training dog pictures\n",
    "train_dogs_dir = os.path.join(train_dir, 'dogs')\n",
    "\n",
    "# Directory with our validation cat pictures\n",
    "validation_cats_dir = os.path.join(validation_dir, 'cats')\n",
    "\n",
    "# Directory with our validation dog pictures\n",
    "validation_dogs_dir = os.path.join(validation_dir, 'dogs')\n",
    "\n",
    "# Directory with our validation cat pictures\n",
    "test_cats_dir = os.path.join(test_dir, 'cats')\n",
    "\n",
    "# Directory with our validation dog pictures\n",
    "test_dogs_dir = os.path.join(test_dir, 'dogs')"
   ]
  },
  {
   "cell_type": "code",
   "execution_count": 7,
   "metadata": {
    "colab": {
     "base_uri": "https://localhost:8080/",
     "height": 232
    },
    "colab_type": "code",
    "executionInfo": {
     "elapsed": 4551,
     "status": "error",
     "timestamp": 1583115068171,
     "user": {
      "displayName": "Jesús Leopoldo Llano García",
      "photoUrl": "https://lh3.googleusercontent.com/a-/AOh14Ggh50_e9Hk0sAIwY10hcKorQi0ew_DDbDNtDplE=s64",
      "userId": "11166401614180834702"
     },
     "user_tz": 360
    },
    "id": "x4fCLOpZfawX",
    "outputId": "3dd39763-1290-42a7-fa05-ea50f3936631"
   },
   "outputs": [],
   "source": [
    "# Please correct the urls accordingly\n",
    "\n",
    "# The path to the directory where the original\n",
    "# dataset was uncompressed\n",
    "original_dataset_dir = '/home/guby/Documents/Playground/A3-20200303T030127Z-001/A3/Data/train'\n",
    "\n",
    "# The directory where we will\n",
    "# store our smaller dataset\n",
    "base_dir = 'CatsNDogs'\n",
    "os.mkdir(base_dir)\n",
    "\n",
    "# Directories for our training,\n",
    "# validation and test splits\n",
    "train_dir = os.path.join(base_dir, 'train')\n",
    "os.mkdir(train_dir)\n",
    "validation_dir = os.path.join(base_dir, 'validation')\n",
    "os.mkdir(validation_dir)\n",
    "test_dir = os.path.join(base_dir, 'test')\n",
    "os.mkdir(test_dir)\n",
    "\n",
    "# Directory with our training cat pictures\n",
    "train_cats_dir = os.path.join(train_dir, 'cats')\n",
    "os.mkdir(train_cats_dir)\n",
    "\n",
    "# Directory with our training dog pictures\n",
    "train_dogs_dir = os.path.join(train_dir, 'dogs')\n",
    "os.mkdir(train_dogs_dir)\n",
    "\n",
    "# Directory with our validation cat pictures\n",
    "validation_cats_dir = os.path.join(validation_dir, 'cats')\n",
    "os.mkdir(validation_cats_dir)\n",
    "\n",
    "# Directory with our validation dog pictures\n",
    "validation_dogs_dir = os.path.join(validation_dir, 'dogs')\n",
    "os.mkdir(validation_dogs_dir)\n",
    "\n",
    "# Directory with our validation cat pictures\n",
    "test_cats_dir = os.path.join(test_dir, 'cats')\n",
    "os.mkdir(test_cats_dir)\n",
    "\n",
    "# Directory with our validation dog pictures\n",
    "test_dogs_dir = os.path.join(test_dir, 'dogs')\n",
    "os.mkdir(test_dogs_dir)\n",
    "\n",
    "# Copy first 1000 cat images to train_cats_dir\n",
    "fnames = ['cat.{}.jpg'.format(i) for i in range(1000)]\n",
    "for fname in fnames:\n",
    "    src = os.path.join(original_dataset_dir, fname)\n",
    "    dst = os.path.join(train_cats_dir, fname)\n",
    "    shutil.copyfile(src, dst)\n",
    "\n",
    "# Copy next 500 cat images to validation_cats_dir\n",
    "fnames = ['cat.{}.jpg'.format(i) for i in range(1000, 1500)]\n",
    "for fname in fnames:\n",
    "    src = os.path.join(original_dataset_dir, fname)\n",
    "    dst = os.path.join(validation_cats_dir, fname)\n",
    "    shutil.copyfile(src, dst)\n",
    "    \n",
    "# Copy next 500 cat images to test_cats_dir\n",
    "fnames = ['cat.{}.jpg'.format(i) for i in range(1500, 2000)]\n",
    "for fname in fnames:\n",
    "    src = os.path.join(original_dataset_dir, fname)\n",
    "    dst = os.path.join(test_cats_dir, fname)\n",
    "    shutil.copyfile(src, dst)\n",
    "    \n",
    "# Copy first 1000 dog images to train_dogs_dir\n",
    "fnames = ['dog.{}.jpg'.format(i) for i in range(1000)]\n",
    "for fname in fnames:\n",
    "    src = os.path.join(original_dataset_dir, fname)\n",
    "    dst = os.path.join(train_dogs_dir, fname)\n",
    "    shutil.copyfile(src, dst)\n",
    "    \n",
    "# Copy next 500 dog images to validation_dogs_dir\n",
    "fnames = ['dog.{}.jpg'.format(i) for i in range(1000, 1500)]\n",
    "for fname in fnames:\n",
    "    src = os.path.join(original_dataset_dir, fname)\n",
    "    dst = os.path.join(validation_dogs_dir, fname)\n",
    "    shutil.copyfile(src, dst)\n",
    "    \n",
    "# Copy next 500 dog images to test_dogs_dir\n",
    "fnames = ['dog.{}.jpg'.format(i) for i in range(1500, 2000)]\n",
    "for fname in fnames:\n",
    "    src = os.path.join(original_dataset_dir, fname)\n",
    "    dst = os.path.join(test_dogs_dir, fname)\n",
    "    shutil.copyfile(src, dst)"
   ]
  },
  {
   "cell_type": "code",
   "execution_count": 8,
   "metadata": {
    "colab": {},
    "colab_type": "code",
    "id": "qo4w82X8fawc"
   },
   "outputs": [
    {
     "name": "stdout",
     "output_type": "stream",
     "text": [
      "total training cat images: 1000\n",
      "total training dog images: 1000\n",
      "total validation cat images: 500\n",
      "total validation dog images: 500\n",
      "total test cat images: 500\n",
      "total test dog images: 500\n"
     ]
    }
   ],
   "source": [
    "print('total training cat images:', len(os.listdir(train_cats_dir)))\n",
    "print('total training dog images:', len(os.listdir(train_dogs_dir)))\n",
    "print('total validation cat images:', len(os.listdir(validation_cats_dir)))\n",
    "print('total validation dog images:', len(os.listdir(validation_dogs_dir)))\n",
    "print('total test cat images:', len(os.listdir(test_cats_dir)))\n",
    "print('total test dog images:', len(os.listdir(test_dogs_dir)))"
   ]
  },
  {
   "cell_type": "code",
   "execution_count": 1,
   "metadata": {
    "colab": {},
    "colab_type": "code",
    "id": "8AovMTp6fawf"
   },
   "outputs": [
    {
     "name": "stderr",
     "output_type": "stream",
     "text": [
      "Using TensorFlow backend.\n",
      "/home/guby/.local/lib/python3.6/site-packages/tensorflow/python/framework/dtypes.py:516: FutureWarning: Passing (type, 1) or '1type' as a synonym of type is deprecated; in a future version of numpy, it will be understood as (type, (1,)) / '(1,)type'.\n",
      "  _np_qint8 = np.dtype([(\"qint8\", np.int8, 1)])\n",
      "/home/guby/.local/lib/python3.6/site-packages/tensorflow/python/framework/dtypes.py:517: FutureWarning: Passing (type, 1) or '1type' as a synonym of type is deprecated; in a future version of numpy, it will be understood as (type, (1,)) / '(1,)type'.\n",
      "  _np_quint8 = np.dtype([(\"quint8\", np.uint8, 1)])\n",
      "/home/guby/.local/lib/python3.6/site-packages/tensorflow/python/framework/dtypes.py:518: FutureWarning: Passing (type, 1) or '1type' as a synonym of type is deprecated; in a future version of numpy, it will be understood as (type, (1,)) / '(1,)type'.\n",
      "  _np_qint16 = np.dtype([(\"qint16\", np.int16, 1)])\n",
      "/home/guby/.local/lib/python3.6/site-packages/tensorflow/python/framework/dtypes.py:519: FutureWarning: Passing (type, 1) or '1type' as a synonym of type is deprecated; in a future version of numpy, it will be understood as (type, (1,)) / '(1,)type'.\n",
      "  _np_quint16 = np.dtype([(\"quint16\", np.uint16, 1)])\n",
      "/home/guby/.local/lib/python3.6/site-packages/tensorflow/python/framework/dtypes.py:520: FutureWarning: Passing (type, 1) or '1type' as a synonym of type is deprecated; in a future version of numpy, it will be understood as (type, (1,)) / '(1,)type'.\n",
      "  _np_qint32 = np.dtype([(\"qint32\", np.int32, 1)])\n",
      "/home/guby/.local/lib/python3.6/site-packages/tensorflow/python/framework/dtypes.py:525: FutureWarning: Passing (type, 1) or '1type' as a synonym of type is deprecated; in a future version of numpy, it will be understood as (type, (1,)) / '(1,)type'.\n",
      "  np_resource = np.dtype([(\"resource\", np.ubyte, 1)])\n",
      "/home/guby/.local/lib/python3.6/site-packages/tensorboard/compat/tensorflow_stub/dtypes.py:541: FutureWarning: Passing (type, 1) or '1type' as a synonym of type is deprecated; in a future version of numpy, it will be understood as (type, (1,)) / '(1,)type'.\n",
      "  _np_qint8 = np.dtype([(\"qint8\", np.int8, 1)])\n",
      "/home/guby/.local/lib/python3.6/site-packages/tensorboard/compat/tensorflow_stub/dtypes.py:542: FutureWarning: Passing (type, 1) or '1type' as a synonym of type is deprecated; in a future version of numpy, it will be understood as (type, (1,)) / '(1,)type'.\n",
      "  _np_quint8 = np.dtype([(\"quint8\", np.uint8, 1)])\n",
      "/home/guby/.local/lib/python3.6/site-packages/tensorboard/compat/tensorflow_stub/dtypes.py:543: FutureWarning: Passing (type, 1) or '1type' as a synonym of type is deprecated; in a future version of numpy, it will be understood as (type, (1,)) / '(1,)type'.\n",
      "  _np_qint16 = np.dtype([(\"qint16\", np.int16, 1)])\n",
      "/home/guby/.local/lib/python3.6/site-packages/tensorboard/compat/tensorflow_stub/dtypes.py:544: FutureWarning: Passing (type, 1) or '1type' as a synonym of type is deprecated; in a future version of numpy, it will be understood as (type, (1,)) / '(1,)type'.\n",
      "  _np_quint16 = np.dtype([(\"quint16\", np.uint16, 1)])\n",
      "/home/guby/.local/lib/python3.6/site-packages/tensorboard/compat/tensorflow_stub/dtypes.py:545: FutureWarning: Passing (type, 1) or '1type' as a synonym of type is deprecated; in a future version of numpy, it will be understood as (type, (1,)) / '(1,)type'.\n",
      "  _np_qint32 = np.dtype([(\"qint32\", np.int32, 1)])\n",
      "/home/guby/.local/lib/python3.6/site-packages/tensorboard/compat/tensorflow_stub/dtypes.py:550: FutureWarning: Passing (type, 1) or '1type' as a synonym of type is deprecated; in a future version of numpy, it will be understood as (type, (1,)) / '(1,)type'.\n",
      "  np_resource = np.dtype([(\"resource\", np.ubyte, 1)])\n"
     ]
    }
   ],
   "source": [
    "from keras import layers\n",
    "from keras import models\n",
    "\n",
    "model = models.Sequential()\n",
    "model.add(layers.Flatten(input_shape=(150, 150, 3)))\n",
    "model.add(layers.Dense(512, activation='relu'))\n",
    "model.add(layers.Dense(512, activation='relu'))\n",
    "model.add(layers.Dense(512, activation='relu'))\n",
    "model.add(layers.Dense(1, activation='sigmoid'))"
   ]
  },
  {
   "cell_type": "code",
   "execution_count": 2,
   "metadata": {
    "colab": {},
    "colab_type": "code",
    "id": "FObu2eXefawi"
   },
   "outputs": [
    {
     "name": "stdout",
     "output_type": "stream",
     "text": [
      "Model: \"sequential_1\"\n",
      "_________________________________________________________________\n",
      "Layer (type)                 Output Shape              Param #   \n",
      "=================================================================\n",
      "flatten_1 (Flatten)          (None, 67500)             0         \n",
      "_________________________________________________________________\n",
      "dense_1 (Dense)              (None, 512)               34560512  \n",
      "_________________________________________________________________\n",
      "dense_2 (Dense)              (None, 512)               262656    \n",
      "_________________________________________________________________\n",
      "dense_3 (Dense)              (None, 512)               262656    \n",
      "_________________________________________________________________\n",
      "dense_4 (Dense)              (None, 1)                 513       \n",
      "=================================================================\n",
      "Total params: 35,086,337\n",
      "Trainable params: 35,086,337\n",
      "Non-trainable params: 0\n",
      "_________________________________________________________________\n"
     ]
    }
   ],
   "source": [
    "model.summary()"
   ]
  },
  {
   "cell_type": "code",
   "execution_count": 3,
   "metadata": {
    "colab": {},
    "colab_type": "code",
    "id": "UTAfXDR_fawm"
   },
   "outputs": [
    {
     "name": "stdout",
     "output_type": "stream",
     "text": [
      "WARNING:tensorflow:From /home/guby/.local/lib/python3.6/site-packages/tensorflow/python/ops/nn_impl.py:180: add_dispatch_support.<locals>.wrapper (from tensorflow.python.ops.array_ops) is deprecated and will be removed in a future version.\n",
      "Instructions for updating:\n",
      "Use tf.where in 2.0, which has the same broadcast rule as np.where\n"
     ]
    }
   ],
   "source": [
    "from keras import optimizers\n",
    "\n",
    "model.compile(loss='binary_crossentropy',\n",
    "              optimizer=optimizers.SGD(lr=0.01, momentum=0.0, decay=0.0, nesterov=False),\n",
    "              metrics=['acc'])"
   ]
  },
  {
   "cell_type": "code",
   "execution_count": 8,
   "metadata": {
    "colab": {},
    "colab_type": "code",
    "id": "P5ilr9NDfawq"
   },
   "outputs": [
    {
     "name": "stdout",
     "output_type": "stream",
     "text": [
      "Found 2000 images belonging to 2 classes.\n",
      "Found 1000 images belonging to 2 classes.\n"
     ]
    }
   ],
   "source": [
    "from keras.preprocessing.image import ImageDataGenerator\n",
    "\n",
    "# All images will be rescaled by 1./255\n",
    "train_datagen = ImageDataGenerator(rescale=1./255)\n",
    "test_datagen = ImageDataGenerator(rescale=1./255)\n",
    "\n",
    "train_generator = train_datagen.flow_from_directory(\n",
    "        # This is the target directory\n",
    "        train_dir,\n",
    "        # All images will be resized to 150x150\n",
    "        target_size=(150, 150),\n",
    "        batch_size=20,\n",
    "        # Since we use binary_crossentropy loss, we need binary labels\n",
    "        class_mode='binary')\n",
    "\n",
    "validation_generator = test_datagen.flow_from_directory(\n",
    "        validation_dir,\n",
    "        target_size=(150, 150),\n",
    "        batch_size=20,\n",
    "        class_mode='binary')"
   ]
  },
  {
   "cell_type": "code",
   "execution_count": 9,
   "metadata": {
    "colab": {},
    "colab_type": "code",
    "id": "AeUmiwrTfawt"
   },
   "outputs": [
    {
     "name": "stdout",
     "output_type": "stream",
     "text": [
      "data batch shape: (20, 150, 150, 3)\n",
      "labels batch shape: (20,)\n"
     ]
    }
   ],
   "source": [
    "for data_batch, labels_batch in train_generator:\n",
    "    print('data batch shape:', data_batch.shape)\n",
    "    print('labels batch shape:', labels_batch.shape)\n",
    "    break"
   ]
  },
  {
   "cell_type": "code",
   "execution_count": 10,
   "metadata": {
    "colab": {},
    "colab_type": "code",
    "id": "iHHoZxNFfawx"
   },
   "outputs": [
    {
     "name": "stdout",
     "output_type": "stream",
     "text": [
      "WARNING:tensorflow:From /home/guby/.local/lib/python3.6/site-packages/keras/backend/tensorflow_backend.py:422: The name tf.global_variables is deprecated. Please use tf.compat.v1.global_variables instead.\n",
      "\n",
      "Epoch 1/30\n",
      "100/100 [==============================] - 27s 265ms/step - loss: 0.7137 - acc: 0.5085 - val_loss: 0.6704 - val_acc: 0.5000\n",
      "Epoch 2/30\n",
      "100/100 [==============================] - 30s 305ms/step - loss: 0.6911 - acc: 0.5445 - val_loss: 0.6752 - val_acc: 0.5810\n",
      "Epoch 3/30\n",
      "100/100 [==============================] - 32s 316ms/step - loss: 0.6836 - acc: 0.5595 - val_loss: 0.7398 - val_acc: 0.5960\n",
      "Epoch 4/30\n",
      "100/100 [==============================] - 32s 321ms/step - loss: 0.6797 - acc: 0.5655 - val_loss: 0.6916 - val_acc: 0.5920\n",
      "Epoch 5/30\n",
      "100/100 [==============================] - 24s 241ms/step - loss: 0.6633 - acc: 0.5915 - val_loss: 0.6708 - val_acc: 0.5960\n",
      "Epoch 6/30\n",
      "100/100 [==============================] - 32s 317ms/step - loss: 0.6618 - acc: 0.6000 - val_loss: 0.7164 - val_acc: 0.5400\n",
      "Epoch 7/30\n",
      "100/100 [==============================] - 39s 388ms/step - loss: 0.6505 - acc: 0.6230 - val_loss: 0.5500 - val_acc: 0.6150\n",
      "Epoch 8/30\n",
      "100/100 [==============================] - 35s 346ms/step - loss: 0.6434 - acc: 0.6275 - val_loss: 0.7591 - val_acc: 0.5880\n",
      "Epoch 9/30\n",
      "100/100 [==============================] - 28s 285ms/step - loss: 0.6354 - acc: 0.6285 - val_loss: 0.6604 - val_acc: 0.5950\n",
      "Epoch 10/30\n",
      "100/100 [==============================] - 37s 369ms/step - loss: 0.6274 - acc: 0.6390 - val_loss: 0.7349 - val_acc: 0.5870\n",
      "Epoch 11/30\n",
      "100/100 [==============================] - 28s 281ms/step - loss: 0.6217 - acc: 0.6420 - val_loss: 0.6861 - val_acc: 0.5660\n",
      "Epoch 12/30\n",
      "100/100 [==============================] - 25s 253ms/step - loss: 0.6135 - acc: 0.6565 - val_loss: 0.5836 - val_acc: 0.5970\n",
      "Epoch 13/30\n",
      "100/100 [==============================] - 24s 243ms/step - loss: 0.6005 - acc: 0.6630 - val_loss: 0.5059 - val_acc: 0.5720\n",
      "Epoch 14/30\n",
      "100/100 [==============================] - 24s 243ms/step - loss: 0.5951 - acc: 0.6810 - val_loss: 0.6036 - val_acc: 0.6300\n",
      "Epoch 15/30\n",
      "100/100 [==============================] - 25s 245ms/step - loss: 0.5853 - acc: 0.6800 - val_loss: 0.5880 - val_acc: 0.5860\n",
      "Epoch 16/30\n",
      "100/100 [==============================] - 24s 238ms/step - loss: 0.5863 - acc: 0.6870 - val_loss: 0.6752 - val_acc: 0.6270\n",
      "Epoch 17/30\n",
      "100/100 [==============================] - 24s 239ms/step - loss: 0.5620 - acc: 0.7135 - val_loss: 1.0187 - val_acc: 0.5510\n",
      "Epoch 18/30\n",
      "100/100 [==============================] - 24s 239ms/step - loss: 0.5685 - acc: 0.7135 - val_loss: 0.6679 - val_acc: 0.6070\n",
      "Epoch 19/30\n",
      "100/100 [==============================] - 32s 316ms/step - loss: 0.5434 - acc: 0.7270 - val_loss: 0.5677 - val_acc: 0.5770\n",
      "Epoch 20/30\n",
      "100/100 [==============================] - 34s 341ms/step - loss: 0.5299 - acc: 0.7275 - val_loss: 0.5703 - val_acc: 0.6170\n",
      "Epoch 21/30\n",
      "100/100 [==============================] - 25s 254ms/step - loss: 0.5210 - acc: 0.7365 - val_loss: 0.7089 - val_acc: 0.5880\n",
      "Epoch 22/30\n",
      "100/100 [==============================] - 39s 394ms/step - loss: 0.5293 - acc: 0.7340 - val_loss: 0.7059 - val_acc: 0.5840\n",
      "Epoch 23/30\n",
      "100/100 [==============================] - 33s 325ms/step - loss: 0.5153 - acc: 0.7445 - val_loss: 0.8593 - val_acc: 0.6300\n",
      "Epoch 24/30\n",
      "100/100 [==============================] - 24s 241ms/step - loss: 0.4910 - acc: 0.7625 - val_loss: 0.6217 - val_acc: 0.6180\n",
      "Epoch 25/30\n",
      "100/100 [==============================] - 24s 240ms/step - loss: 0.5005 - acc: 0.7585 - val_loss: 0.7330 - val_acc: 0.5640\n",
      "Epoch 26/30\n",
      "100/100 [==============================] - 24s 244ms/step - loss: 0.4691 - acc: 0.7775 - val_loss: 0.8403 - val_acc: 0.5820\n",
      "Epoch 27/30\n",
      "100/100 [==============================] - 24s 241ms/step - loss: 0.4587 - acc: 0.7880 - val_loss: 0.5812 - val_acc: 0.6050\n",
      "Epoch 28/30\n",
      "100/100 [==============================] - 24s 240ms/step - loss: 0.4454 - acc: 0.7820 - val_loss: 1.2549 - val_acc: 0.5770\n",
      "Epoch 29/30\n",
      "100/100 [==============================] - 24s 241ms/step - loss: 0.4495 - acc: 0.7915 - val_loss: 0.7288 - val_acc: 0.6100\n",
      "Epoch 30/30\n",
      "100/100 [==============================] - 24s 241ms/step - loss: 0.4533 - acc: 0.7960 - val_loss: 0.5999 - val_acc: 0.5970\n"
     ]
    }
   ],
   "source": [
    "history = model.fit_generator(\n",
    "      train_generator,\n",
    "      steps_per_epoch=100,\n",
    "      epochs=30,\n",
    "      validation_data=validation_generator,\n",
    "      validation_steps=50)"
   ]
  },
  {
   "cell_type": "code",
   "execution_count": 11,
   "metadata": {
    "colab": {
     "base_uri": "https://localhost:8080/",
     "height": 232
    },
    "colab_type": "code",
    "executionInfo": {
     "elapsed": 374,
     "status": "error",
     "timestamp": 1583115068444,
     "user": {
      "displayName": "Jesús Leopoldo Llano García",
      "photoUrl": "https://lh3.googleusercontent.com/a-/AOh14Ggh50_e9Hk0sAIwY10hcKorQi0ew_DDbDNtDplE=s64",
      "userId": "11166401614180834702"
     },
     "user_tz": 360
    },
    "id": "pyjXYq1hfawz",
    "outputId": "c0b172e5-3827-4570-ca81-f7422623336d"
   },
   "outputs": [
    {
     "data": {
      "image/png": "[encoded data removed]",
      "text/plain": [
       "<Figure size 432x288 with 1 Axes>"
      ]
     },
     "metadata": {
      "needs_background": "light"
     },
     "output_type": "display_data"
    },
    {
     "data": {
      "image/png": "[encoded data removed]",
      "text/plain": [
       "<Figure size 432x288 with 1 Axes>"
      ]
     },
     "metadata": {
      "needs_background": "light"
     },
     "output_type": "display_data"
    }
   ],
   "source": [
    "import matplotlib.pyplot as plt\n",
    "\n",
    "acc = history.history['acc']\n",
    "val_acc = history.history['val_acc']\n",
    "loss = history.history['loss']\n",
    "val_loss = history.history['val_loss']\n",
    "\n",
    "epochs = range(len(acc))\n",
    "\n",
    "plt.plot(epochs, acc, 'bo', label='Training acc')\n",
    "plt.plot(epochs, val_acc, 'b', label='Validation acc')\n",
    "plt.title('Training and validation accuracy')\n",
    "plt.legend()\n",
    "\n",
    "plt.figure()\n",
    "\n",
    "plt.plot(epochs, loss, 'bo', label='Training loss')\n",
    "plt.plot(epochs, val_loss, 'b', label='Validation loss')\n",
    "plt.title('Training and validation loss')\n",
    "plt.legend()\n",
    "\n",
    "plt.show()"
   ]
  },
  {
   "cell_type": "code",
   "execution_count": null,
   "metadata": {
    "colab": {},
    "colab_type": "code",
    "id": "018wipn-AuH0"
   },
   "outputs": [],
   "source": []
  }
 ],
 "metadata": {
  "colab": {
   "name": "A3_dogsvscatsDNN.ipynb",
   "provenance": [
    {
     "file_id": "1lCaBGCpjm4mw-bZ90hc4C3X-IqNLzmhn",
     "timestamp": 1583089583386
    }
   ]
  },
  "kernel_info": {
   "name": "python3"
  },
  "kernelspec": {
   "display_name": "Python 3",
   "language": "python",
   "name": "python3"
  },
  "language_info": {
   "codemirror_mode": {
    "name": "ipython",
    "version": 3
   },
   "file_extension": ".py",
   "mimetype": "text/x-python",
   "name": "python",
   "nbconvert_exporter": "python",
   "pygments_lexer": "ipython3",
   "version": "3.6.9"
  },
  "nteract": {
   "version": "0.12.3"
  }
 },
 "nbformat": 4,
 "nbformat_minor": 1
}
